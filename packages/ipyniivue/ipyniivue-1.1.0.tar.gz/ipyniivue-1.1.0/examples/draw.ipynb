{
 "cells": [
  {
   "cell_type": "markdown",
   "id": "4ZgnMYV-eSGF",
   "metadata": {
    "id": "4ZgnMYV-eSGF"
   },
   "source": [
    "# Drawing regions of interests on MRI volume"
   ]
  },
  {
   "cell_type": "markdown",
   "id": "XAkH6V576OdJ",
   "metadata": {
    "id": "XAkH6V576OdJ"
   },
   "source": [
    "### Installation\n",
    "This notebook can be run on a local server or on a virtualized environement like Google Colab."
   ]
  },
  {
   "cell_type": "code",
   "execution_count": null,
   "id": "ccf06bf6",
   "metadata": {
    "colab": {
     "base_uri": "https://localhost:8080/"
    },
    "id": "ccf06bf6",
    "outputId": "278518f0-94a1-4bfa-a362-bdb562879b4c",
    "tags": []
   },
   "outputs": [],
   "source": [
    "#run if using Google Colab or not building from source\n",
    "try:\n",
    "    # -q silence the output from pip. Remove this flag if you need \n",
    "    # to debug an installation issue.\n",
    "    %pip install -q ipyniivue\n",
    "    from google.colab import output\n",
    "    output.enable_custom_widget_manager()\n",
    "except:\n",
    "    pass"
   ]
  },
  {
   "cell_type": "markdown",
   "id": "WyYbxajT-m-V",
   "metadata": {
    "id": "WyYbxajT-m-V"
   },
   "source": [
    "### Imports"
   ]
  },
  {
   "cell_type": "code",
   "execution_count": null,
   "id": "c513ae7d-8b2c-4a47-abf3-157c116767ac",
   "metadata": {
    "id": "c513ae7d-8b2c-4a47-abf3-157c116767ac",
    "tags": []
   },
   "outputs": [],
   "source": [
    "from ipyniivue import Niivue\n",
    "import ipywidgets as widgets"
   ]
  },
  {
   "cell_type": "markdown",
   "id": "8qAMDgGL-xfE",
   "metadata": {
    "id": "8qAMDgGL-xfE"
   },
   "source": [
    "# Creating the annotation window\n",
    "\n",
    "Create a NiiVue window and a dropdown list to select the action to be performed. For example, select a color from the dropdown and use the left mouse button to draw on the volume. Click-drag with the right mouse button selects a region that will be used to normalize the contrast. "
   ]
  },
  {
   "cell_type": "code",
   "execution_count": null,
   "id": "df7ef898-0df2-4c95-a63e-a77b6011d245",
   "metadata": {
    "colab": {
     "base_uri": "https://localhost:8080/",
     "height": 533,
     "referenced_widgets": [
      "105b5c57c2a14201b419d0e130a0a1ae",
      "908c18cde9c94ee0a94a58f3f4d7997e",
      "6ec217a52ab84dbaa47e2002f826e266",
      "daa6de5f596945dab18586cfe6481c42",
      "ec294de4868c4fada0f9cd0357344f41"
     ]
    },
    "id": "df7ef898-0df2-4c95-a63e-a77b6011d245",
    "outputId": "8b514ba0-fbfd-45e2-c794-3322f062924d",
    "tags": []
   },
   "outputs": [],
   "source": [
    "# Creating a NiiVue object\n",
    "nv = Niivue(back_color = [1,1,1,1], multiplanar_force_render = True)\n",
    "\n",
    "# Load a volume\n",
    "nv.add_volume(\"https://niivue.github.io/niivue/images/FLAIR.nii.gz\")\n",
    "nv.set_radiological_convention(False)\n",
    "nv.set_slice_type(nv.slice_type.multiplanar)\n",
    "\n",
    "# Load a lesion\n",
    "nv.load_drawing_from_url(\"https://niivue.github.io/niivue/images/lesion.nii.gz\")\n",
    "\n",
    "# Add a dropdown box\n",
    "dropvals = widgets.Dropdown(\n",
    "    options=[\n",
    "        ('Off', -1), \n",
    "        ('Erase', 0), \n",
    "        ('Red', 1),\n",
    "        ('Green', 2),\n",
    "        ('Blue', 3),\n",
    "        ('Filled Erase', 8),\n",
    "        ('Filled Red', 9),\n",
    "        ('Filled Green', 10),\n",
    "        ('Filled Blue', 11),\n",
    "        ('Erase Selected Cluster', 12)\n",
    "    ],\n",
    "    value=-1,\n",
    "    description='Draw color:',\n",
    ")\n",
    "\n",
    "def on_change(change):\n",
    "    if change['type'] == 'change' and change['name'] == 'value':\n",
    "        mode = change['new']\n",
    "        nv.set_drawing_enabled(mode >= 0)\n",
    "        if (mode >= 0):\n",
    "            nv.set_pen_value( mode & 7, mode > 7)\n",
    "        if (mode == 12): #erase selected cluster\n",
    "            nv.setPenValue(-0)\n",
    "\n",
    "dropvals.observe(on_change)\n",
    "\n",
    "# Display the niivue and dropdown widgets\n",
    "display(nv)\n",
    "display(dropvals)"
   ]
  }
 ],
 "metadata": {
  "colab": {
   "provenance": []
  },
  "kernelspec": {
   "display_name": "Python 3 (ipykernel)",
   "language": "python",
   "name": "python3"
  },
  "language_info": {
   "codemirror_mode": {
    "name": "ipython",
    "version": 3
   },
   "file_extension": ".py",
   "mimetype": "text/x-python",
   "name": "python",
   "nbconvert_exporter": "python",
   "pygments_lexer": "ipython3",
   "version": "3.11.4"
  },
  "widgets": {
   "application/vnd.jupyter.widget-state+json": {
    "state": {},
    "version_major": 2,
    "version_minor": 0
   }
  }
 },
 "nbformat": 4,
 "nbformat_minor": 5
}
