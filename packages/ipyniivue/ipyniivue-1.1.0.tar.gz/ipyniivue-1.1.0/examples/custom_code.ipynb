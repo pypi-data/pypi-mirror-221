{
 "cells": [
  {
   "cell_type": "markdown",
   "id": "12b177b5-a5d4-4b54-b958-2f94c2a5241f",
   "metadata": {
    "id": "12b177b5-a5d4-4b54-b958-2f94c2a5241f"
   },
   "source": [
    "# Run Custom JavaScript Code\n",
    "The following shows how to run custom JavaScript code from python and get the result. \n",
    "Since the eval runs in `NiivueModel.processCommand` in the TypeScript end, any variable accessible there is accessible through `nv.run_custom_code`.\n",
    "\n",
    "For example, `niivue` refers to the NiiVue library and `this.nv` refers to the initialized niivue.Niivue object in the NiivueModel."
   ]
  },
  {
   "cell_type": "markdown",
   "id": "XpISnuGWsv7s",
   "metadata": {
    "id": "XpISnuGWsv7s"
   },
   "source": [
    "### Installation\n",
    "This notebook can be run on a local server or on a virtualized environement like Google Colab."
   ]
  },
  {
   "cell_type": "code",
   "execution_count": null,
   "id": "96baa76f",
   "metadata": {
    "id": "96baa76f",
    "tags": []
   },
   "outputs": [],
   "source": [
    "#run if using Google Colab or not building from source\n",
    "try:\n",
    "    # -q silence the output from pip. Remove this flag if you need \n",
    "    # to debug an installation issue.\n",
    "    %pip install -q ipyniivue\n",
    "    from google.colab import output\n",
    "    output.enable_custom_widget_manager()\n",
    "except:\n",
    "    pass"
   ]
  },
  {
   "cell_type": "code",
   "execution_count": null,
   "id": "aa8ce178-4a9e-4c0e-81e8-9f5b1b22b974",
   "metadata": {},
   "outputs": [],
   "source": [
    "#other libraries used for this demo\n",
    "%pip install -q nibabel\n",
    "%pip install -q pytest"
   ]
  },
  {
   "cell_type": "markdown",
   "id": "wRsaA0w5s90q",
   "metadata": {
    "id": "wRsaA0w5s90q"
   },
   "source": [
    "### Imports"
   ]
  },
  {
   "cell_type": "code",
   "execution_count": null,
   "id": "-Mxe3_49s9P7",
   "metadata": {
    "id": "-Mxe3_49s9P7",
    "tags": []
   },
   "outputs": [],
   "source": [
    "from pathlib import Path\n",
    "import nibabel as nib\n",
    "from nibabel.testing import data_path\n",
    "import ipyniivue"
   ]
  },
  {
   "cell_type": "markdown",
   "id": "5vG44hqms8_N",
   "metadata": {
    "id": "5vG44hqms8_N"
   },
   "source": [
    "### Create a NiiVue object"
   ]
  },
  {
   "cell_type": "code",
   "execution_count": null,
   "id": "8e9b6aed-4b42-4547-be78-c44f16a81542",
   "metadata": {
    "id": "8e9b6aed-4b42-4547-be78-c44f16a81542",
    "tags": []
   },
   "outputs": [],
   "source": [
    "nv = ipyniivue.Niivue()"
   ]
  },
  {
   "cell_type": "markdown",
   "id": "7e721a86-09ed-4b1f-ae9d-9633d20e933b",
   "metadata": {
    "id": "7e721a86-09ed-4b1f-ae9d-9633d20e933b"
   },
   "source": [
    "### Get the colormaps\n",
    "The expected output is a list of strings."
   ]
  },
  {
   "cell_type": "code",
   "execution_count": null,
   "id": "0b2dbe19-fe37-4816-8adf-777bbbd45c96",
   "metadata": {
    "id": "0b2dbe19-fe37-4816-8adf-777bbbd45c96",
    "tags": []
   },
   "outputs": [],
   "source": [
    "colormaps = nv.run_custom_code('this.nv.colorMaps()')\n",
    "colormaps"
   ]
  },
  {
   "cell_type": "markdown",
   "id": "4f23fab9-6440-4629-b679-a70f5cd93e84",
   "metadata": {
    "id": "4f23fab9-6440-4629-b679-a70f5cd93e84"
   },
   "source": [
    "### Check the file extension"
   ]
  },
  {
   "cell_type": "code",
   "execution_count": null,
   "id": "c0f7be6e-ae1a-4d31-804c-f9c3e7ffbd01",
   "metadata": {
    "id": "c0f7be6e-ae1a-4d31-804c-f9c3e7ffbd01",
    "tags": []
   },
   "outputs": [],
   "source": [
    "is_pial = nv.run_custom_code('this.nv.isMeshExt(\"test.pial\")')\n",
    "print(is_pial)"
   ]
  },
  {
   "cell_type": "markdown",
   "id": "bad09316-836a-49ef-8350-5bdb9e49f462",
   "metadata": {
    "id": "bad09316-836a-49ef-8350-5bdb9e49f462"
   },
   "source": [
    "### Volumes\n",
    "No volumes have been added yet. The expected output is an empty list."
   ]
  },
  {
   "cell_type": "code",
   "execution_count": null,
   "id": "833b99d5-4da3-4c5d-873e-b341c2d5d0de",
   "metadata": {
    "id": "833b99d5-4da3-4c5d-873e-b341c2d5d0de"
   },
   "outputs": [],
   "source": [
    "volumes = nv.run_custom_code('this.nv.volumes')\n",
    "print(volumes)"
   ]
  },
  {
   "cell_type": "markdown",
   "id": "7c63177f-32bc-47a2-b557-39d40d9800a6",
   "metadata": {
    "id": "7c63177f-32bc-47a2-b557-39d40d9800a6"
   },
   "source": [
    "Now let's add a volume from nibabel's examples. We can check the volume id after adding it."
   ]
  },
  {
   "cell_type": "code",
   "execution_count": null,
   "id": "186c92ef-b749-43de-9ab6-13b5a99deb3b",
   "metadata": {
    "id": "186c92ef-b749-43de-9ab6-13b5a99deb3b"
   },
   "outputs": [],
   "source": [
    "example_4d_fname = Path(data_path) / 'example4d.nii.gz'\n",
    "\n",
    "nv.add_volume(str(example_4d_fname))\n",
    "volume_id = nv.run_custom_code('this.nv.volumes[0].id')\n",
    "print(volume_id)"
   ]
  },
  {
   "cell_type": "markdown",
   "id": "2639aae7-3ee0-48b7-a723-1d9951522e60",
   "metadata": {
    "id": "2639aae7-3ee0-48b7-a723-1d9951522e60"
   },
   "source": [
    "And let's also get the colormap for this volume."
   ]
  },
  {
   "cell_type": "code",
   "execution_count": null,
   "id": "bcc72c8b-5a7d-446e-9510-ffe404b13886",
   "metadata": {
    "id": "bcc72c8b-5a7d-446e-9510-ffe404b13886"
   },
   "outputs": [],
   "source": [
    "code = '''\n",
    "var nv = this.nv;\n",
    "function getColorMap() {\n",
    "    var id = nv.volumes[0].id;\n",
    "    return nv.colormap(id);\n",
    "}\n",
    "getColorMap();\n",
    "'''\n",
    "colormap_0 = nv.run_custom_code(code) or []\n",
    "print(len(colormap_0))"
   ]
  },
  {
   "cell_type": "markdown",
   "id": "e7ae282e-5708-4173-84ae-da624773f676",
   "metadata": {
    "id": "e7ae282e-5708-4173-84ae-da624773f676"
   },
   "source": [
    "Let's ask for a result with over 10 mb of data. The result is chunked in 5 mb chunks over the websocket. The cell below may take a few seconds or longer to run."
   ]
  },
  {
   "cell_type": "code",
   "execution_count": null,
   "id": "d46df167-8797-4cbd-99cd-b1799e1252e8",
   "metadata": {
    "id": "d46df167-8797-4cbd-99cd-b1799e1252e8"
   },
   "outputs": [],
   "source": [
    "volume = nv.run_custom_code('this.nv.cloneVolume(0)') or {}\n",
    "print(len(volume))\n",
    "print(type(volume))"
   ]
  },
  {
   "cell_type": "markdown",
   "id": "dba223db-8edf-4348-ae71-15a91e2ccba3",
   "metadata": {
    "id": "dba223db-8edf-4348-ae71-15a91e2ccba3"
   },
   "source": [
    "Finally, let's use the `niivue` library."
   ]
  },
  {
   "cell_type": "code",
   "execution_count": null,
   "id": "1cd98fed-ec9d-4b79-82eb-caad7debe0e8",
   "metadata": {
    "id": "1cd98fed-ec9d-4b79-82eb-caad7debe0e8"
   },
   "outputs": [],
   "source": [
    "#the following returns None because it is undefined\n",
    "nv.run_custom_code('niivue.NVImage.DT_RGBA32')\n",
    "\n",
    "#the following returns 2304\n",
    "nv.run_custom_code('''\n",
    "var nv = new niivue.NVImage();\n",
    "nv.DT_RGBA32;\n",
    "''')"
   ]
  }
 ],
 "metadata": {
  "colab": {
   "provenance": []
  },
  "kernelspec": {
   "display_name": "Python 3 (ipykernel)",
   "language": "python",
   "name": "python3"
  },
  "language_info": {
   "codemirror_mode": {
    "name": "ipython",
    "version": 3
   },
   "file_extension": ".py",
   "mimetype": "text/x-python",
   "name": "python",
   "nbconvert_exporter": "python",
   "pygments_lexer": "ipython3",
   "version": "3.11.4"
  },
  "widgets": {
   "application/vnd.jupyter.widget-state+json": {
    "state": {},
    "version_major": 2,
    "version_minor": 0
   }
  }
 },
 "nbformat": 4,
 "nbformat_minor": 5
}
