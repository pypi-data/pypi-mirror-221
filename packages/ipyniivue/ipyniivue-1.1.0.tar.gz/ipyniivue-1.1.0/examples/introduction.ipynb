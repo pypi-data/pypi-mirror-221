{
 "cells": [
  {
   "cell_type": "markdown",
   "metadata": {
    "id": "lhIr7aGS4-W6"
   },
   "source": [
    "# Introduction\n",
    "\n",
    "This notebook show how ipyniivue can be used to visualize a MRI volumes."
   ]
  },
  {
   "cell_type": "markdown",
   "metadata": {
    "id": "ALku_UEtfMO7"
   },
   "source": [
    "### Installation\n",
    "This notebook can be run on a local server or on a virtualized environement like Google Colab."
   ]
  },
  {
   "cell_type": "code",
   "execution_count": null,
   "metadata": {
    "id": "SJi60qlC4-W8",
    "tags": []
   },
   "outputs": [],
   "source": [
    "#run if using Google Colab or not building from source\n",
    "try:\n",
    "    # -q silence the output from pip. Remove this flag if you need \n",
    "    # to debug an installation issue.\n",
    "    %pip install -q ipyniivue\n",
    "    from google.colab import output\n",
    "    output.enable_custom_widget_manager()\n",
    "except:\n",
    "    pass"
   ]
  },
  {
   "cell_type": "code",
   "execution_count": null,
   "metadata": {
    "tags": []
   },
   "outputs": [],
   "source": [
    "#other libraries used for this demo\n",
    "%pip install -q nibabel\n",
    "%pip install -q pytest"
   ]
  },
  {
   "cell_type": "markdown",
   "metadata": {
    "id": "nMZ0AJT-fs08"
   },
   "source": [
    "### Imports"
   ]
  },
  {
   "cell_type": "code",
   "execution_count": null,
   "metadata": {
    "id": "q99CIADR4-W-",
    "tags": []
   },
   "outputs": [],
   "source": [
    "from pathlib import Path\n",
    "import nibabel as nib\n",
    "from nibabel.testing import data_path\n",
    "import ipyniivue"
   ]
  },
  {
   "cell_type": "markdown",
   "metadata": {
    "id": "CsT9BWKInoE7"
   },
   "source": [
    "### Viewing a local MRI volume\n",
    "\n",
    "Displaying a MRI volume stored locally, as part of the nibabel example files. Note that in this case, we used the `add_object` method because we pass directly a nibabel object."
   ]
  },
  {
   "cell_type": "code",
   "execution_count": null,
   "metadata": {
    "colab": {
     "base_uri": "https://localhost:8080/",
     "height": 501,
     "referenced_widgets": [
      "d9fd62c2429d4219945d70489efb546c",
      "aae1d828fd1d437e93b464e71657d8bf"
     ]
    },
    "id": "4M9w2ro0nnmV",
    "outputId": "0656c479-2f00-4ae6-f86f-f17974129b76",
    "tags": []
   },
   "outputs": [],
   "source": [
    "example_4d_fname = Path(data_path) / 'example4d.nii.gz'\n",
    "img = nib.load(example_4d_fname)\n",
    "\n",
    "nv = ipyniivue.Niivue(crosshair_color=[0,1,0,1])\n",
    "nv.add_object(img)\n",
    "nv"
   ]
  },
  {
   "cell_type": "code",
   "execution_count": null,
   "metadata": {
    "tags": []
   },
   "outputs": [],
   "source": [
    "nv.is_colorbar = True"
   ]
  },
  {
   "cell_type": "markdown",
   "metadata": {
    "id": "QEW_cTHvxAuy"
   },
   "source": [
    "We could have also used the `add_volume` to pass an path."
   ]
  },
  {
   "cell_type": "code",
   "execution_count": null,
   "metadata": {
    "colab": {
     "base_uri": "https://localhost:8080/",
     "height": 501,
     "referenced_widgets": [
      "ee29c845a0a14dea8cdca7022873c086",
      "6b85b647cf7d46378ea918dec0627ad9"
     ]
    },
    "id": "9Fa9BSYXxAYn",
    "outputId": "bf1fd586-14a6-41f0-ee8c-a191dd138c2e",
    "tags": []
   },
   "outputs": [],
   "source": [
    "nv = ipyniivue.Niivue(crosshair_color=[0,1,0,1])\n",
    "nv.add_volume(str(example_4d_fname))\n",
    "nv"
   ]
  },
  {
   "cell_type": "markdown",
   "metadata": {
    "id": "1RgMy7MHfuvd"
   },
   "source": [
    "### Displaying a volume from the internet\n",
    "\n",
    "Objects stored remotely can be displayed directly, without first downloading them to a local directory."
   ]
  },
  {
   "cell_type": "code",
   "execution_count": null,
   "metadata": {
    "colab": {
     "base_uri": "https://localhost:8080/",
     "height": 501,
     "referenced_widgets": [
      "ddb0b667b7e6495faee422fc6993265e",
      "96cf240a91a140a1b88162ead60b4845"
     ]
    },
    "id": "tglgqcZY4-W-",
    "outputId": "e36be9ae-0053-47ad-b673-8af3c201b537",
    "tags": []
   },
   "outputs": [],
   "source": [
    "nv = ipyniivue.Niivue(crosshair_color=[0,1,0,1])\n",
    "nv.add_volume('https://niivue.github.io/niivue/images/mni152.nii.gz')\n",
    "nv"
   ]
  },
  {
   "cell_type": "code",
   "execution_count": null,
   "metadata": {
    "tags": []
   },
   "outputs": [],
   "source": [
    "nv.volumes"
   ]
  },
  {
   "cell_type": "code",
   "execution_count": null,
   "metadata": {},
   "outputs": [],
   "source": [
    "nv.meshes"
   ]
  }
 ],
 "metadata": {
  "colab": {
   "provenance": []
  },
  "kernelspec": {
   "display_name": "Python 3 (ipykernel)",
   "language": "python",
   "name": "python3"
  },
  "language_info": {
   "codemirror_mode": {
    "name": "ipython",
    "version": 3
   },
   "file_extension": ".py",
   "mimetype": "text/x-python",
   "name": "python",
   "nbconvert_exporter": "python",
   "pygments_lexer": "ipython3",
   "version": "3.11.4"
  },
  "widgets": {
   "application/vnd.jupyter.widget-state+json": {
    "state": {},
    "version_major": 2,
    "version_minor": 0
   }
  }
 },
 "nbformat": 4,
 "nbformat_minor": 4
}
