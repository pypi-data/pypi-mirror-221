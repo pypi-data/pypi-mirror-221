{
 "cells": [
  {
   "cell_type": "code",
   "execution_count": 1,
   "id": "7f029e84-e6ff-4f1a-8b3d-ce0ff9565a97",
   "metadata": {},
   "outputs": [],
   "source": [
    "import os\n",
    "import numpy as np"
   ]
  },
  {
   "cell_type": "code",
   "execution_count": null,
   "id": "a4c412f7-d7be-4790-bf02-bc177c311a7a",
   "metadata": {},
   "outputs": [],
   "source": [
    "base = \"save_speed_220513_retest/detection/\""
   ]
  },
  {
   "cell_type": "code",
   "execution_count": null,
   "id": "c59c6eea-7797-44d8-973e-1834b86003f4",
   "metadata": {},
   "outputs": [],
   "source": [
    "name_list = sorted(os.listdir(base))"
   ]
  },
  {
   "cell_type": "code",
   "execution_count": null,
   "id": "cf098e64-bc51-4b3b-aceb-1b85be8a730c",
   "metadata": {},
   "outputs": [],
   "source": [
    "for name in name_list:\n",
    "    lines = open(base+name,'r').readlines()\n",
    "    name = name.split(\".txt\")[0]\n",
    "    \n",
    "    time_dict = {'rescale':0,'net_out':0,'forward':0,'post1':0,'post2':0,'total':0}\n",
    "    \n",
    "    for line in lines[2:]:\n",
    "        key,val = line.strip().split(\":\")\n",
    "        val = float(val.split(\"ms\")[0].strip())\n",
    "        if key in time_dict.keys():\n",
    "            time_dict[key]=val\n",
    "    \n",
    "    print(name)\n",
    "    print(\"inference: {}\".format(round(time_dict['rescale']+time_dict['net_out'],3)))\n",
    "    print(\"decode: {}\".format(round((time_dict['forward']-time_dict['net_out'])+time_dict['post1']+time_dict['post2'],3)))\n",
    "    print(\"total: {}\\n\".format(round(time_dict['total'],3)))\n"
   ]
  },
  {
   "cell_type": "code",
   "execution_count": null,
   "id": "05d1d251-e3af-405c-bc18-3f21f01dcb98",
   "metadata": {},
   "outputs": [],
   "source": []
  },
  {
   "cell_type": "code",
   "execution_count": null,
   "id": "309a82de-48c9-4af3-a561-81d52783da20",
   "metadata": {},
   "outputs": [],
   "source": []
  },
  {
   "cell_type": "code",
   "execution_count": null,
   "id": "fdf2ded2-fe3d-42e7-a804-a19f1226c8d9",
   "metadata": {},
   "outputs": [],
   "source": []
  },
  {
   "cell_type": "code",
   "execution_count": 2,
   "id": "2a97fd7e-06f0-4054-8a79-972dfccebe2d",
   "metadata": {},
   "outputs": [],
   "source": [
    "a = \"result_txt_220614_targetIter/retinaface_torch_r50_own_dynamic.onnx_multiscale_target300\""
   ]
  },
  {
   "cell_type": "code",
   "execution_count": 5,
   "id": "e7d17800-9ec3-4ecc-a9ba-00595f9e3c61",
   "metadata": {},
   "outputs": [
    {
     "name": "stdout",
     "output_type": "stream",
     "text": [
      "result_txt_220614_targetIter/result_time.txt\n"
     ]
    }
   ],
   "source": [
    "time_path = os.path.join(*a.split(\"/\")[:-1],\"result_time.txt\")\n",
    "print(time_path)"
   ]
  },
  {
   "cell_type": "code",
   "execution_count": null,
   "id": "27957b33-45d9-46bf-bf28-afaec3a1bfea",
   "metadata": {},
   "outputs": [],
   "source": []
  }
 ],
 "metadata": {
  "kernelspec": {
   "display_name": "Python 3 (ipykernel)",
   "language": "python",
   "name": "python3"
  },
  "language_info": {
   "codemirror_mode": {
    "name": "ipython",
    "version": 3
   },
   "file_extension": ".py",
   "mimetype": "text/x-python",
   "name": "python",
   "nbconvert_exporter": "python",
   "pygments_lexer": "ipython3",
   "version": "3.8.10"
  }
 },
 "nbformat": 4,
 "nbformat_minor": 5
}
