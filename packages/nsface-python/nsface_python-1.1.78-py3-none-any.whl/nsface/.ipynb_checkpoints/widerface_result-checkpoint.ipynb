{
 "cells": [
  {
   "cell_type": "code",
   "execution_count": 32,
   "id": "a16a8944-d820-435f-a4fe-54498075eb64",
   "metadata": {},
   "outputs": [],
   "source": [
    "import os\n",
    "import numpy as np"
   ]
  },
  {
   "cell_type": "code",
   "execution_count": 33,
   "id": "30add03f-3662-4e22-86ff-50c6d597be0a",
   "metadata": {},
   "outputs": [],
   "source": [
    "base = \"./result_pkl_220613_inputIter/\""
   ]
  },
  {
   "cell_type": "code",
   "execution_count": 34,
   "id": "97a5e088-ce4e-4ed1-aa38-9285ac4b6c3f",
   "metadata": {},
   "outputs": [],
   "source": [
    "save_base = os.path.join(base,\"result_ap\")\n",
    "if not os.path.exists(save_base):\n",
    "    os.mkdir(save_base)"
   ]
  },
  {
   "cell_type": "code",
   "execution_count": 35,
   "id": "1c17ae28-9d2b-49f9-83ce-b6bef9728f3c",
   "metadata": {},
   "outputs": [],
   "source": [
    "txt_list = [ file for file in os.listdir(base) if \"_WF.txt\" in file]"
   ]
  },
  {
   "cell_type": "code",
   "execution_count": 36,
   "id": "c30d9715-290e-4929-8c06-577a0320f81a",
   "metadata": {},
   "outputs": [],
   "source": [
    "for txt_name in txt_list:\n",
    "    model_name = txt_name.split(\"_input\")[0]\n",
    "    input_size = int(txt_name.split(\"_input\")[1].split(\"_WF\")[0])\n",
    "    lines = open(os.path.join(base,txt_name),'r').readlines()\n",
    "    \n",
    "    \n",
    "    with open(os.path.join(save_base,model_name+\".txt\"),'a') as f:\n",
    "        new_line = \"Input Size: {},{}\\n\".format(input_size,input_size)\n",
    "        f.writelines(new_line)\n",
    "        for line in lines[1:-1]:\n",
    "            cate = line.split(\"Val\")[0].strip()\n",
    "            ap = float(line.strip().split(\"AP: \")[1])\n",
    "            ap *= 100\n",
    "            final_ap = round(ap,3)\n",
    "            f.writelines(\"\\t{}: {}\\n\".format(cate,final_ap))\n",
    "        f.writelines(\"\\n\")"
   ]
  },
  {
   "cell_type": "code",
   "execution_count": null,
   "id": "acd0dd10-b214-4997-bff1-a17650f86b17",
   "metadata": {},
   "outputs": [],
   "source": []
  }
 ],
 "metadata": {
  "kernelspec": {
   "display_name": "Python 3 (ipykernel)",
   "language": "python",
   "name": "python3"
  },
  "language_info": {
   "codemirror_mode": {
    "name": "ipython",
    "version": 3
   },
   "file_extension": ".py",
   "mimetype": "text/x-python",
   "name": "python",
   "nbconvert_exporter": "python",
   "pygments_lexer": "ipython3",
   "version": "3.8.10"
  }
 },
 "nbformat": 4,
 "nbformat_minor": 5
}
