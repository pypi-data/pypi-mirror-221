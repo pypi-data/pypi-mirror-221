{
 "cells": [
  {
   "cell_type": "markdown",
   "metadata": {},
   "source": [
    "# Oqtant Walkthrough 2: Barrier Manipulator #\n",
    "\n",
    "### This walkthrough covers authorizing an Oraqle session using the OqtantClient, generating, running and viewing the results of a Barrier Manipulator OqtantJob. ###\n",
    "\n",
    "For more information about Oqtant refer to our documentation: https://gitlab.com/infleqtion/albert/oqtant/-/blob/main/README.md\n",
    "\n",
    "*Batch job functionality is available for users with a subscription tier of EXPLORER or INNOVATOR.*\n",
    "\n",
    "`get_user_token` creates a temporary web server on your machine to handle authenticating with Oraqle. By default this server will run on port 8080, if that port is unavailable you can edit the `get_user_token` default port `token = get_user_token(auth_server_port=8080)` with one of the following: 8081, 8082, 8083, 8084, 8085."
   ]
  },
  {
   "cell_type": "markdown",
   "metadata": {},
   "source": [
    "# Authenticate with Oraqle\n",
    "\n",
    "## Before you can view and submit OqtantJobs you must first authenticate with your Oraqle account\n",
    "\n",
    "Run the below cell to be re-directed to our login page and provide your account credentials. Once authenticated you can safely close out that tab and return to this notebook."
   ]
  },
  {
   "cell_type": "code",
   "execution_count": null,
   "metadata": {},
   "outputs": [],
   "source": [
    "from matplotlib import pyplot as plt\n",
    "from lmfit import Model\n",
    "import numpy as np\n",
    "import inspect\n",
    "from oqtant.oqtant_client import get_oqtant_client\n",
    "from oqtant.util.auth import get_user_token\n",
    "from oqtant.schemas.job import (\n",
    "    OqtantJob,\n",
    "    Gaussian_dist_2D,\n",
    "    TF_dist_2D,\n",
    "    bimodal_dist_2D,\n",
    "    round_sig,\n",
    ")\n",
    "\n",
    "token = get_user_token(auth_server_port=8080)"
   ]
  },
  {
   "cell_type": "markdown",
   "metadata": {},
   "source": [
    "## Creating a OqtantClient Instance ##\n",
    "\n",
    "### After successfully logging in, create an authorized session with the OqtantClient ###\n",
    "- The OqtantClient interacts with the Oraqle server to perform remote lab functions. \n",
    "- The OqtantClient object also contains all the OqtantJobs which have been submitted, run, or loaded (from database or file) during this python session"
   ]
  },
  {
   "cell_type": "code",
   "execution_count": null,
   "metadata": {},
   "outputs": [],
   "source": [
    "oqtant_client = get_oqtant_client(token)"
   ]
  },
  {
   "cell_type": "markdown",
   "metadata": {},
   "source": [
    "## Generate parameters to create an OqtantJob ##\n",
    "Every OqtantJob is specified by a name, job_type, and a dictionary of input parameters. Below is an example with default parameters for a Barrier Manipulator OqtantJob:\n",
    "\n",
    "*Ultracold Matter and Barrier Manipulator jobs are represented as OqtantJob objects with different `job_type` fields*\n",
    "\n",
    " - Ultracold Matter: `BEC`\n",
    " - Barrier Manipulator: `BARRIER`"
   ]
  },
  {
   "cell_type": "code",
   "execution_count": null,
   "metadata": {},
   "outputs": [],
   "source": [
    "barrier_manipulator_job = {\n",
    "    \"name\": \"Example Barrier Manipulator Job\",\n",
    "    \"job_type\": \"BARRIER\",\n",
    "    \"inputs\": [\n",
    "        {\n",
    "            \"values\": {\n",
    "                \"time_of_flight_ms\": 7.0,\n",
    "                \"image_type\": \"IN_TRAP\",\n",
    "                \"end_time_ms\": 20.0,\n",
    "                \"rf_evaporation\": {\n",
    "                    \"powers_mw\": [500.0, 500.0, 475.0, 360.0, 220.0],\n",
    "                    \"frequencies_mhz\": [17.0, 8.0, 4.0, 1.2, 0.1],\n",
    "                    \"interpolation\": \"LINEAR\",\n",
    "                    \"times_ms\": [-1600, -1200, -800, -400, 0],\n",
    "                },\n",
    "                \"optical_barriers\": [\n",
    "                    {\n",
    "                        \"heights_khz\": [\n",
    "                            0.0,\n",
    "                            5.0,\n",
    "                            10.0,\n",
    "                            15.0,\n",
    "                            20.0,\n",
    "                            25.0,\n",
    "                            25.0,\n",
    "                            25.0,\n",
    "                            25.0,\n",
    "                            25.0,\n",
    "                            25.0,\n",
    "                        ],\n",
    "                        \"positions_um\": [\n",
    "                            -10.0,\n",
    "                            -10.0,\n",
    "                            -10.0,\n",
    "                            -10.0,\n",
    "                            -10.0,\n",
    "                            -10.0,\n",
    "                            -10.0,\n",
    "                            -10.0,\n",
    "                            -10.0,\n",
    "                            -10.0,\n",
    "                            -10.0,\n",
    "                        ],\n",
    "                        \"interpolation\": \"OFF\",\n",
    "                        \"widths_um\": [1, 1, 1, 1, 1, 1, 1, 1, 1, 1, 1],\n",
    "                        \"times_ms\": [0, 1, 2, 3, 4, 5, 6, 7, 8, 9, 10],\n",
    "                        \"shape\": \"GAUSSIAN\",\n",
    "                    },\n",
    "                    {\n",
    "                        \"heights_khz\": [\n",
    "                            0.0,\n",
    "                            5.0,\n",
    "                            10.0,\n",
    "                            15.0,\n",
    "                            20.0,\n",
    "                            25.0,\n",
    "                            30.0,\n",
    "                            35.0,\n",
    "                            40.0,\n",
    "                            40.0,\n",
    "                            40.0,\n",
    "                        ],\n",
    "                        \"positions_um\": [\n",
    "                            10.0,\n",
    "                            10.0,\n",
    "                            10.0,\n",
    "                            10.0,\n",
    "                            10.0,\n",
    "                            10.0,\n",
    "                            10.0,\n",
    "                            10.0,\n",
    "                            10.0,\n",
    "                            10.0,\n",
    "                            10.0,\n",
    "                        ],\n",
    "                        \"interpolation\": \"OFF\",\n",
    "                        \"widths_um\": [1, 1, 1, 1, 1, 1, 1, 1, 1, 1, 1],\n",
    "                        \"times_ms\": [0, 1, 2, 3, 4, 5, 6, 7, 8, 9, 10],\n",
    "                        \"shape\": \"GAUSSIAN\",\n",
    "                    },\n",
    "                ],\n",
    "                \"optical_landscape\": None,\n",
    "                \"lasers\": None,\n",
    "            }\n",
    "        },\n",
    "    ],\n",
    "}\n",
    "\n",
    "barrier_manipulator_job = oqtant_client.generate_oqtant_job(job=barrier_manipulator_job)\n",
    "print(barrier_manipulator_job)"
   ]
  },
  {
   "cell_type": "markdown",
   "metadata": {},
   "source": [
    "## Add notes to your OqtantJob input (Optional) ##\n",
    "Every OqtantJob input can hold notes up to 500 characters long. These notes can be used to add context and additional information to each input. Notes remain tied to their inputs and can be referenced later. To add a note to a job input simply provide a string value to your desired input object like below:"
   ]
  },
  {
   "cell_type": "code",
   "execution_count": null,
   "metadata": {},
   "outputs": [],
   "source": [
    "# In this example we are only working with a single input\n",
    "# so we will add the note to the first and only input in the array\n",
    "barrier_manipulator_job.inputs[\n",
    "    0\n",
    "].notes = \"This is an Ultracold Matter job created from Oqtant walkthrough #1\""
   ]
  },
  {
   "cell_type": "markdown",
   "metadata": {},
   "source": [
    "## Submit the OqtantJob to run on the Oraqle hardware ##\n",
    "\n",
    "`OqtantClient.run_jobs()` takes a list of OqtantJob objects, `job_list=[*OqtantJob]` and submits them to the online queue. For each OqtantJob added to the queue a unique UUID is generated and associated to it.\n",
    "\n",
    "The output of `OqtantClient.run_jobs()` is a list of the unique UUIDs generated during submission. \n",
    "\n",
    "If you are submitting a list of OqtantJobs and wish to wait for the results to return, use the flag `track_status=True`.\n",
    "\n",
    "If you would like the resulting unique UUIDs to be written to a file for later reference you can do so by providing the following flags:\n",
    "\n",
    "- `track_status=True`\n",
    "- `filename=\"name_of_file\"`\n",
    "- `write=True`\n",
    "\n",
    "When writing to a file be sure to <span style=\"color:red\">not overwrite it</span>"
   ]
  },
  {
   "cell_type": "code",
   "execution_count": null,
   "metadata": {},
   "outputs": [],
   "source": [
    "[barrier_manipulator_job_uuid] = oqtant_client.run_jobs(\n",
    "    job_list=[barrier_manipulator_job], track_status=True\n",
    ")"
   ]
  },
  {
   "cell_type": "markdown",
   "metadata": {},
   "source": [
    "## Best practices for referencing ##\n",
    "\n",
    "To easily reference OqtantJobs from the current or previous sessions it is useful to write their ids to a file named after the job. This file can be used later to access the OqtantJob.\n",
    "\n",
    "In this case we are saving this OqtantJob's id under a file named after this walkthrough."
   ]
  },
  {
   "cell_type": "code",
   "execution_count": null,
   "metadata": {},
   "outputs": [],
   "source": [
    "with open(\"walkthrough_2_barrier_manipulator.txt\", \"w\") as f:\n",
    "    f.write(barrier_manipulator_job_uuid)"
   ]
  },
  {
   "cell_type": "markdown",
   "metadata": {},
   "source": [
    "## Check the status of this session's active OqtantJobs ##\n",
    "\n",
    "The OqtantClient object contains a dictionary (indexed by job_id) of all the active OqtantJobs from the current session. To keep inputs and results organized, all jobs are handled as objects of the OqtantJob class.\n",
    "\n",
    "`OqtantClient.active jobs` contains OqtantJobs that have been submitted with `OqtantClient.run_jobs()` or loaded with either `OqtantClient.load_job_from_id()` or `OqtantClient.load_job_from_file()`. \n",
    " \n",
    " <span style=\"color:red\"> Note: `OqtantClient.active_jobs` does not automatically include OqtantJobs which were submitted on the Oraqle web application or in a different python session, even if those jobs are currently in the queue to run. </span>\n",
    "\n",
    "### To access information about a OqtantJob object ###\n",
    "\n",
    "**EXAMPLEJOB.DESIRED_INFO**\n",
    "\n",
    "OqtantJob objects have the following relevant fields:\n",
    "\n",
    " - name (str)\n",
    " - job_type (str)\n",
    " - status (str)\n",
    " - time_submit (datetime)\n",
    " - inputs (list) (see walkthrough 2 for specifics)\n",
    "\n",
    "To see all the job information, you can print the object. \n",
    "\n",
    "Click [here](https://www.learnpython.org/en/Classes_and_Objects) for an example-based intro to objects and classes in python. "
   ]
  },
  {
   "cell_type": "code",
   "execution_count": null,
   "metadata": {},
   "outputs": [],
   "source": [
    "oqtant_client.see_active_jobs()"
   ]
  },
  {
   "cell_type": "markdown",
   "metadata": {},
   "source": [
    "## Wait for OqtantJob results ##\n",
    "\n",
    "If your OqtantJob is in the PENDING or RUNNING status, wait for 1 minute and run `OqtantClient.see_active_jobs()` again. When the OqtantJob \"Example Ultracold Matter Generator Job\" shows with status COMPLETE, proceed to the next code block\n",
    "\n",
    "\n",
    "## Loading OqtantJob results ##\n",
    "\n",
    "### From this session ###\n",
    "\n",
    "When an OqtantJob is COMPLETE and `OqtantClient.active_jobs` is updated, the OqtantJob object is automatically populated with the job results. Define a variable to assign it to, or access it by it's id directly from the `OqtantJobs.active_jobs` dictionary."
   ]
  },
  {
   "cell_type": "code",
   "execution_count": null,
   "metadata": {},
   "outputs": [],
   "source": [
    "barrier_manipulator_job = oqtant_client.active_jobs[barrier_manipulator_job_uuid]"
   ]
  },
  {
   "cell_type": "markdown",
   "metadata": {},
   "source": [
    "### Loading OqtantJob results from a previous session ###\n",
    "\n",
    "When Oraqle is offline or you wish to analyze jobs from a previous run, use the job id to access it from the database and save it to the session's `OqtantClient.active_jobs`."
   ]
  },
  {
   "cell_type": "code",
   "execution_count": null,
   "metadata": {},
   "outputs": [],
   "source": [
    "# for jobs with multiple runs add `run=<int>` where <int> equals the input you wish to view. defaults to the first run\n",
    "oqtant_client.load_job_from_id(barrier_manipulator_job_uuid)\n",
    "# access job from active_jobs\n",
    "barrier_manipulator_job = oqtant_client.active_jobs[barrier_manipulator_job_uuid]"
   ]
  },
  {
   "cell_type": "markdown",
   "metadata": {},
   "source": [
    "## Accessing OqtantJob results - IT images ##\n",
    "\n",
    "Results for OqtantJobs run with IT imaging contain the following fields:"
   ]
  },
  {
   "cell_type": "code",
   "execution_count": null,
   "metadata": {},
   "outputs": [],
   "source": [
    "for key in barrier_manipulator_job.inputs[0].output.values.dict().keys():\n",
    "    print(key)"
   ]
  },
  {
   "cell_type": "markdown",
   "metadata": {},
   "source": [
    "## Viewing IT images ##\n",
    "\n",
    "To view the TOF results in 2D or 1D, use the built in functions of the OqtantJob class to plot or access the results directly and plot them yourself."
   ]
  },
  {
   "cell_type": "code",
   "execution_count": null,
   "metadata": {},
   "outputs": [],
   "source": [
    "IT_OD = barrier_manipulator_job.get_IT()\n",
    "pix_cal = barrier_manipulator_job.pix_cal\n",
    "\n",
    "plt.figure(figsize=(12, 4))\n",
    "plt.title(\"In-Trap Optical Depth\")\n",
    "IT_plot = plt.imshow(\n",
    "    IT_OD, origin=\"lower\", cmap=\"nipy_spectral\", extent=[-256, 256, -74, 74]\n",
    ")\n",
    "plt.xlabel(\"X position (um)\")\n",
    "plt.ylabel(\"Y position (um)\")\n",
    "plt.grid(visible=True)\n",
    "plt.colorbar(IT_plot)\n",
    "\n",
    "plt.show()"
   ]
  },
  {
   "cell_type": "markdown",
   "metadata": {},
   "source": [
    "## Creating OqtantJobs based off previous ones ##\n",
    "\n",
    "There may be times where you would like to create a new OqtantJob based off of a previous one. In these cases the OqtantClient class provides a method that retrieves an entire OqtantJob's input structure to allow for editing and submission. The steps to do this can be found below."
   ]
  },
  {
   "cell_type": "code",
   "execution_count": null,
   "metadata": {},
   "outputs": [],
   "source": [
    "# identify the job you wish to copy, this can be any job id you want to use.\n",
    "# the status of the job does not matter\n",
    "already_submitted_job_id = barrier_manipulator_job.external_id\n",
    "\n",
    "# for jobs with multiple input runs add `run=<int>` where <int> equals the input you wish to view.\n",
    "# without a targeted input run oqtant will default to the first run\n",
    "new_barrier_manipulator_job_stub = oqtant_client.get_job_inputs_without_output(\n",
    "    already_submitted_job_id, include_notes=False\n",
    ")\n",
    "\n",
    "# at this point 'new_job_stub' is a python dict with the following keys\n",
    "print(\"new barrier manipulator job stub keys:\")\n",
    "print(new_barrier_manipulator_job_stub.keys())\n",
    "print(\"\\n\")\n",
    "\n",
    "# if you wish to include any job notes associated with the existing job input you can run the\n",
    "# same command above but with the `include_notes` flag set to True\n",
    "# new_job_stub = oqtant_client.get_job_inputs_without_output(already_submitted_job_id, include_notes=True)\n",
    "\n",
    "# from here you can update any of the inputs and the name of the job to your liking\n",
    "new_barrier_manipulator_job_stub[\"name\"] = \"this is a stub of another job\"\n",
    "\n",
    "# at this point 'new_job_stub' can be provided to the 'generate_octant_job' function and then submitted with\n",
    "# the 'run_jobs' function as demonstrated in previous steps\n",
    "new_barrier_manipulator_job = oqtant_client.generate_oqtant_job(\n",
    "    job=new_barrier_manipulator_job_stub\n",
    ")\n",
    "print(\"new barrier manipulator job object:\")\n",
    "print(new_barrier_manipulator_job)"
   ]
  },
  {
   "cell_type": "markdown",
   "metadata": {},
   "source": [
    "## View your current job limits\n",
    "\n",
    "Your account provides you with a limited number of jobs which you can run in a given period of time. You can check your limits and current status against those limits via the `OqtantClient.get_limits()` method:"
   ]
  },
  {
   "cell_type": "code",
   "execution_count": null,
   "metadata": {},
   "outputs": [],
   "source": [
    "limits = oqtant_client.get_job_limits()\n",
    "print(limits)"
   ]
  },
  {
   "cell_type": "markdown",
   "metadata": {},
   "source": [
    "If you are running batch jobs, each run is counted as a job against your limit (i.e., a batch job with 10 runs counts as 10 against your limits)."
   ]
  }
 ],
 "metadata": {
  "kernelspec": {
   "display_name": "Python 3 (ipykernel)",
   "language": "python",
   "name": "python3"
  },
  "language_info": {
   "codemirror_mode": {
    "name": "ipython",
    "version": 3
   },
   "file_extension": ".py",
   "mimetype": "text/x-python",
   "name": "python",
   "nbconvert_exporter": "python",
   "pygments_lexer": "ipython3",
   "version": "3.11.4"
  },
  "vscode": {
   "interpreter": {
    "hash": "9d324fb170b849c0db1b04a4eaa5a753613b2d729749991e51e49ca6f200afbc"
   }
  }
 },
 "nbformat": 4,
 "nbformat_minor": 4
}
