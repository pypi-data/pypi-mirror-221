{
 "cells": [
  {
   "cell_type": "markdown",
   "metadata": {},
   "source": [
    "# Oqtant Walkthrough 4: RF Sweep Experimentation #\n",
    "\n",
    "### This walkthrough covers creating and executings an RF Sweep Experiement using Ultracold Matter OqtantJobs ###\n",
    "\n",
    "For more information about Oqtant refer to our documentation: https://gitlab.com/infleqtion/albert/oqtant/-/blob/main/README.md\n",
    "\n",
    "*Batch job functionality is available for users with a subscription tier of EXPLORER or INNOVATOR.*\n",
    "\n",
    "`get_user_token` creates a temporary web server on your machine to handle authenticating with Oraqle. By default this server will run on port 8080, if that port is unavailable you can edit the `get_user_token` default port `token = get_user_token(auth_server_port=8080)` with one of the following: 8081, 8082, 8083, 8084, 8085."
   ]
  },
  {
   "cell_type": "markdown",
   "metadata": {},
   "source": [
    "# Authenticate with Oraqle\n",
    "\n",
    "## Before you can view and submit OqtantJobs you must first authenticate with your Oraqle account\n",
    "\n",
    "Run the below cell to be re-directed to our login page and provide your account credentials. Once authenticated you can safely close out that tab and return to this notebook."
   ]
  },
  {
   "cell_type": "code",
   "execution_count": null,
   "metadata": {},
   "outputs": [],
   "source": [
    "from matplotlib import pyplot as plt\n",
    "import copy\n",
    "from oqtant.oqtant_client import get_oqtant_client\n",
    "from oqtant.util.auth import get_user_token\n",
    "from bert_schemas import job as JobSchema\n",
    "from oqtant.schemas.job import (\n",
    "    OqtantJob,\n",
    "    Gaussian_dist_2D,\n",
    "    TF_dist_2D,\n",
    "    bimodal_dist_2D,\n",
    "    round_sig,\n",
    ")\n",
    "\n",
    "token = get_user_token(auth_server_port=8080)"
   ]
  },
  {
   "cell_type": "markdown",
   "metadata": {},
   "source": [
    "## Creating a OqtantClient Instance ##\n",
    "\n",
    "### After successfully logging in, create an authorized session with the OqtantClient ###\n",
    "- The OqtantClient class interacts with the Oraqle server to perform remote lab functions.\n",
    "- The OqtantClient object also contains all the OqtantJobs which have been submitted, run, or loaded (from database or file) during this python session"
   ]
  },
  {
   "cell_type": "code",
   "execution_count": null,
   "metadata": {},
   "outputs": [],
   "source": [
    "oqtant_client = get_oqtant_client(token)"
   ]
  },
  {
   "cell_type": "markdown",
   "metadata": {},
   "source": [
    "## Design a simple experiment ##\n",
    "\n",
    "For this example, we will investigate the effect of altering the final frequency of the RF knife on the evolution of the condensate and its temperature. \n",
    "\n",
    "### Variables ###\n",
    "1. The final frequency of the rf knife\n",
    "\n",
    "### Observables ###\n",
    " - TOF images\n",
    " - Temperature (calculated from TOF images)\n",
    " - Atom number and condensate fraction (calculated from TOF images)"
   ]
  },
  {
   "cell_type": "markdown",
   "metadata": {},
   "source": [
    "Let us explore the interplay between the final RF evaporation frequency and the resulting cloud temperature in a one-parameter scan \"experiment\".  "
   ]
  },
  {
   "cell_type": "code",
   "execution_count": null,
   "metadata": {},
   "outputs": [],
   "source": [
    "final_rf_freqs_mhz = [0.07, 0.03, 0.05]"
   ]
  },
  {
   "cell_type": "markdown",
   "metadata": {},
   "source": [
    "## Performing the experiment ## \n",
    "\n",
    "Depending on your subscription tier there are two different options for performing this experiment\n",
    "\n",
    "- Users in the GROUND tier can create 3 separate OqtantJobs with each job's input representing a step in the experiment\n",
    "\n",
    "- Users in the EXPLORER and INNOVATOR tiers can create a single OqtantJob that contains three inputs for all of the steps in the experiment\n",
    "\n",
    "The rest of this walkthrough will showcase how to perform and analyze the experiment using both options.\n",
    "\n",
    "Both submission options / subscription tiers will make use of a 'base' job definition:"
   ]
  },
  {
   "cell_type": "code",
   "execution_count": null,
   "metadata": {},
   "outputs": [],
   "source": [
    "base_ultracold_matter_job = {\n",
    "    \"name\": \"RF Sweep Experiment\",\n",
    "    \"job_type\": \"BEC\",\n",
    "    \"inputs\": [\n",
    "        {\n",
    "            \"values\": {\n",
    "                \"time_of_flight_ms\": 8.0,\n",
    "                \"image_type\": \"TIME_OF_FLIGHT\",\n",
    "                \"end_time_ms\": 0.0,\n",
    "                \"rf_evaporation\": {\n",
    "                    \"frequencies_mhz\": [17.0, 8.0, 4.0, 1.2, 0.045],\n",
    "                    \"powers_mw\": [500.0, 500.0, 475.0, 360.0, 220.0],\n",
    "                    \"interpolation\": \"LINEAR\",\n",
    "                    \"times_ms\": [-1600, -1200, -800, -400, 0],\n",
    "                },\n",
    "                \"optical_barriers\": None,\n",
    "                \"optical_landscape\": None,\n",
    "                \"lasers\": None,\n",
    "            },\n",
    "        }\n",
    "    ],\n",
    "}"
   ]
  },
  {
   "cell_type": "markdown",
   "metadata": {},
   "source": [
    "## Generating parameter scan OqtantJobs as GROUND ## \n",
    "\n",
    "This experiment will consist of 3 OqtantJobs and no repeated trials. Below we will take the dictionary with deafult Ultracold Matter job parameters and copy it three times. Once we have three instances of the same dictionary we can update the inputs for each one to match the steps in the experiment.\n",
    "\n",
    "Print out the OqtantJobs once updated to review the input parameters before submitting to run on the Oraqle hardware. Once a job is submitted, it can only be cancelled by contacting **albert@infleqtion.com**"
   ]
  },
  {
   "cell_type": "code",
   "execution_count": null,
   "metadata": {},
   "outputs": [],
   "source": [
    "njobs = len(final_rf_freqs_mhz)\n",
    "jobs = []\n",
    "for step in range(njobs):\n",
    "    job = copy.deepcopy(base_ultracold_matter_job)\n",
    "    job[\"name\"] = \"RF sweep experiment step \" + str(step + 1)\n",
    "    job[\"notes\"] = \"RF sweep experiment step \" + str(step + 1) + \" of \" + str(njobs)\n",
    "    job[\"inputs\"][0][\"values\"][\"rf_evaporation\"][\"frequencies_mhz\"][\n",
    "        -1\n",
    "    ] = final_rf_freqs_mhz[step]\n",
    "    jobs.append(job)\n",
    "\n",
    "jobs = [oqtant_client.generate_oqtant_job(job=job) for job in jobs]\n",
    "\n",
    "for job in jobs:\n",
    "    print(job.name, \"\\n\", job.inputs[0].values, \"\\n\")"
   ]
  },
  {
   "cell_type": "markdown",
   "metadata": {},
   "source": [
    "## Generating OqtantJob parameters as EXPLORER / INNOVATOR ## \n",
    "\n",
    "This experiment will consist of a single OqtantJob with 3 inputs and no repeated trials. Below we will create an input object with default Ultracold Matter parameters. Next we will copy this input three times and make updates to match the steps in the experiment.\n",
    "\n",
    "Print out the job inputs once updated to review the parameters before submitting to run on the Oraqle hardware. Once a job is submitted, it can only be cancelled by contacting **albert@infleqtion.com**"
   ]
  },
  {
   "cell_type": "code",
   "execution_count": null,
   "metadata": {},
   "outputs": [],
   "source": [
    "batch_job = copy.deepcopy(base_ultracold_matter_job)\n",
    "batch_job[\"inputs\"] = []\n",
    "batch_job[\"name\"] = \"RF sweep experiment\"\n",
    "batch_job[\"notes\"] = \"RF sweep experiment as sequential runs\"\n",
    "\n",
    "for step in range(njobs):\n",
    "    input = copy.deepcopy(base_ultracold_matter_job[\"inputs\"][0])\n",
    "    input[\"values\"][\"rf_evaporation\"][\"frequencies_mhz\"][-1] = final_rf_freqs_mhz[step]\n",
    "    batch_job[\"inputs\"].append(input)\n",
    "\n",
    "print(batch_job[\"name\"])\n",
    "for input in batch_job[\"inputs\"]:\n",
    "    print(input, \"\\n\")\n",
    "\n",
    "batch_job = oqtant_client.generate_oqtant_job(job=batch_job)"
   ]
  },
  {
   "cell_type": "markdown",
   "metadata": {},
   "source": [
    "\n",
    "## Accessing the fields of an OqtantJob ##\n",
    "\n",
    "The OqtantJob class is the python representation of an Oqtant job's input parameters and (if completed) it's output results. When working in Oqtant this class will be used to generate new jobs and interact with submitted jobs. You can access the information inside each OqtantJob using dot-notation.\n",
    "\n",
    "To get the input parameters for this experiment you would do the following:\n",
    "\n",
    "`OqtantJob.inputs[desired-input-index].values.FIELD_FROM_BELOW_LIST`\n",
    "\n",
    "All OqtantJobs contain the same high-level input parameters, with some being empty depending on the type of job.\n",
    "\n",
    "For Ultracold Matter (BEC) jobs the following parameters are used and required:\n",
    "\n",
    "- end_time_ms\n",
    "- image_type\n",
    "- time_of_flight_ms\n",
    "- rf_evaporation\n",
    "\n",
    "For Barrier Manipulator (BARRIER) jobs the following parameters are used and required:\n",
    "\n",
    "- end_time_ms\n",
    "- image_type\n",
    "- time_of_flight_ms\n",
    "- rf_evaporation\n",
    "- optical_barriers\n",
    "\n",
    "All of these inputs have constraints on them which are validated when given values. To view these constraints you can refer to 'Schemas' section of our OpenAPI Documentation: https://albert-dev.coldquanta.com/api/docs"
   ]
  },
  {
   "cell_type": "code",
   "execution_count": null,
   "metadata": {},
   "outputs": [],
   "source": [
    "# if using the GROUND option\n",
    "for job in jobs:\n",
    "    print(\n",
    "        job.name,\n",
    "        job.inputs[0].values.rf_evaporation.frequencies_mhz[-1],\n",
    "        job.inputs[0].values.time_of_flight_ms,\n",
    "    )\n",
    "\n",
    "print(\"\\n\")\n",
    "\n",
    "# if using the EXPLORER / INNOVATOR option\n",
    "for i, input in enumerate(batch_job.inputs):\n",
    "    print(\n",
    "        batch_job.name,\n",
    "        f\"input run #{i + 1}\",\n",
    "        input.values.rf_evaporation.frequencies_mhz[-1],\n",
    "        input.values.time_of_flight_ms,\n",
    "    )"
   ]
  },
  {
   "cell_type": "markdown",
   "metadata": {},
   "source": [
    "## Submiting OqtantJobs and storing the their IDs as GROUND ##\n",
    "\n",
    "Once you are ready to submit the experiment jobs you will have two options. One will be to track the status of them as they are processed and the other will be to not track their status. When you choose to track the status of your submitted jobs the function will not return immediately and will instead continuously ping the Oraqle service until all of the jobs have finished.\n",
    "\n",
    "Track status: `track_status=True`\n",
    "\n",
    "Dont track status: `track_status=False`\n",
    "\n",
    "Regardless of which method you choose, it is always a good idea to save the IDs of your jobs for future reference.\n",
    "\n",
    "Option to run the jobs and wait for results (`track_status=True`) OR submit the jobs and return later to retrieve the results (`track_status=False`). Either way, be sure to save the job ids to a file if you plan to retrieve the data for later processing."
   ]
  },
  {
   "cell_type": "code",
   "execution_count": null,
   "metadata": {},
   "outputs": [],
   "source": [
    "# track the status\n",
    "rf_sweep_experiment_job_ids = oqtant_client.run_jobs(job_list=jobs, track_status=True)\n",
    "\n",
    "# dont track the status\n",
    "# rf_sweep_experiment_job_ids = oqtant_client.run_jobs(job_list=experiment_jobs, track_status=False)\n",
    "\n",
    "with open(\"bec_rf_sweep_experiment.txt\", \"w\") as filewriter:\n",
    "    for experiment_step_job_id in rf_sweep_experiment_job_ids:\n",
    "        filewriter.write(experiment_step_job_id)"
   ]
  },
  {
   "cell_type": "markdown",
   "metadata": {},
   "source": [
    "## Submiting OqtantJobs and storing their IDs as EXPLORER / INNOVATOR ##\n",
    "\n",
    "Once you are ready to submit the experiment job you will have two options. One will be to track the status of it as it is being processed and the other will be to not track it's status. When you choose to track the status of your submitted job the function will not return immediately and will instead continuously ping the Oraqle service until the job has finished.\n",
    "\n",
    "Track status: `track_status=True`\n",
    "\n",
    "Dont track status: `track_status=False`\n",
    "\n",
    "Regardless of which method you choose, it is always a good idea to save the IDs of your jobs for future reference.\n",
    "\n",
    "Option to run the jobs and wait for results (`track_status=True`) OR submit the jobs and return later to retrieve the results (`track_status=False`). Either way, be sure to save the job ids to a file if you plan to retrieve the data for later processing."
   ]
  },
  {
   "cell_type": "code",
   "execution_count": null,
   "metadata": {},
   "outputs": [],
   "source": [
    "# track the status\n",
    "rf_sweep_experiment_job_id = oqtant_client.run_jobs(\n",
    "    job_list=[batch_job], track_status=True\n",
    ")[0]\n",
    "\n",
    "# dont track the status\n",
    "# rf_sweep_experiment_job_id = oqtant_client.run_jobs(job_list=[experiment_job], track_status=False)[0]\n",
    "\n",
    "with open(\"bec_rf_sweep_experiment.txt\", \"w\") as filewriter:\n",
    "    filewriter.write(rf_sweep_experiment_job_id)"
   ]
  },
  {
   "cell_type": "markdown",
   "metadata": {},
   "source": [
    "## Load results from completed OqtantJobs ##\n",
    "\n",
    "Use `OqtantClient.load_jobs_from_id()` to retrieve jobs in any state from a previous run. "
   ]
  },
  {
   "cell_type": "code",
   "execution_count": null,
   "metadata": {},
   "outputs": [],
   "source": [
    "with open(\"bec_rf_sweep_experiment.txt\", \"r\") as filereader:\n",
    "    for line in filereader:\n",
    "        # remove linebreak which is the last character of the string\n",
    "        oqtant_client.load_job_from_id(line)\n",
    "\n",
    "for job_id, job in oqtant_client.active_jobs.items():\n",
    "    print(\"id: \", job_id, job.job_type, job.status)"
   ]
  },
  {
   "cell_type": "markdown",
   "metadata": {},
   "source": [
    "## Plot completed OqtantJobs ##\n",
    "\n",
    "Once your OqtantJob(s) status is COMPLETE, plot the results"
   ]
  },
  {
   "cell_type": "code",
   "execution_count": null,
   "metadata": {},
   "outputs": [],
   "source": [
    "for a, job in oqtant_client.active_jobs.items():\n",
    "    if (\n",
    "        job.status == JobSchema.JobStatus.COMPLETE\n",
    "        and job.job_type == JobSchema.JobType.BEC\n",
    "    ):\n",
    "        job.atoms_2dplot()\n",
    "        job.atoms_sliceplot()\n",
    "\n",
    "# by default jobs that are loaded will only contain the first input/output entry\n",
    "# if you have more than one input for a job you can view its details by specifying the 'run' like below\n",
    "desired_input_run = 2  # here we are asking for the second input/output entry\n",
    "with open(\"bec_rf_sweep_experiment.txt\", \"r\") as filereader:\n",
    "    for line in filereader:\n",
    "        # remove linebreak which is the last character of the string\n",
    "        oqtant_client.load_job_from_id(line, run=desired_input_run)\n",
    "\n",
    "# now we can display the second input/output entry results\n",
    "for a, job in oqtant_client.active_jobs.items():\n",
    "    if (\n",
    "        job.status == JobSchema.JobStatus.COMPLETE\n",
    "        and job.job_type == JobSchema.JobType.BEC\n",
    "    ):\n",
    "        job.atoms_2dplot()\n",
    "        job.atoms_sliceplot()"
   ]
  },
  {
   "cell_type": "code",
   "execution_count": null,
   "metadata": {},
   "outputs": [],
   "source": []
  }
 ],
 "metadata": {
  "kernelspec": {
   "display_name": "Python 3 (ipykernel)",
   "language": "python",
   "name": "python3"
  },
  "language_info": {
   "codemirror_mode": {
    "name": "ipython",
    "version": 3
   },
   "file_extension": ".py",
   "mimetype": "text/x-python",
   "name": "python",
   "nbconvert_exporter": "python",
   "pygments_lexer": "ipython3",
   "version": "3.11.4"
  },
  "vscode": {
   "interpreter": {
    "hash": "9d324fb170b849c0db1b04a4eaa5a753613b2d729749991e51e49ca6f200afbc"
   }
  }
 },
 "nbformat": 4,
 "nbformat_minor": 4
}
