{
 "cells": [
  {
   "cell_type": "markdown",
   "metadata": {},
   "source": [
    "# AI Application\n",
    "\n",
    "AI Applications are a high-level component, or building block, of Marvin. Like all Marvin components, they are completely standalone: you're free to use them with or without the rest of Marvin."
   ]
  },
  {
   "cell_type": "markdown",
   "metadata": {},
   "source": [
    "<div class=\"admonition abstract\">\n",
    "  <p class=\"admonition-title\">What it does</p>\n",
    "  <p>\n",
    "    A conversational interface to a stateful, AI-powered application that can use tools.\n",
    "  </p>\n",
    "</div>"
   ]
  },
  {
   "cell_type": "code",
   "execution_count": 9,
   "metadata": {},
   "outputs": [
    {
     "name": "stdout",
     "output_type": "stream",
     "text": [
      "Hello! How can I assist you today?\n",
      "You rolled a 1 and a 5.\n"
     ]
    }
   ],
   "source": [
    "import random\n",
    "from marvin import AIApplication\n",
    "from marvin.tools import tool\n",
    "\n",
    "\n",
    "@tool\n",
    "def roll_dice(n_dice: int = 1) -> list[int]:\n",
    "    return [random.randint(1, 6) for _ in range(n_dice)]\n",
    "\n",
    "\n",
    "chatbot = AIApplication(\n",
    "    description=\"An AI struggling to keep its rage under control.\", tools=[roll_dice]\n",
    ")\n",
    "\n",
    "response = chatbot(\"Hi!\")\n",
    "print(response.content)\n",
    "\n",
    "response = chatbot(\"Roll two dice!\")\n",
    "print(response.content)"
   ]
  },
  {
   "cell_type": "markdown",
   "metadata": {},
   "source": [
    "<div class=\"admonition info\">\n",
    "  <p class=\"admonition-title\">How it works</p>\n",
    "  <p>\n",
    "    Each AI application maintains an internal <code>state</code> and <code>plan</code> and can use <code>tools</code> to interact with the world.\n",
    "  </p>\n",
    "</div>\n",
    "\n",
    "<div class=\"admonition tip\">\n",
    "  <p class=\"admonition-title\">When to use</p>\n",
    "  <p>\n",
    "    Use an AI Application as the foundation of an autonomous agent (or system of agents) to complete arbitrary tasks.\n",
    "    <li>a ToDo app, as a simple example</li>\n",
    "    <li>a Slackbot, that can do anything (<a href=\"/src/guides/slackbot/\">see example</a>)</li>\n",
    "    <li>a router app that maintains a centralized global state and delegates work to other apps based on inputs (like <a href=\"https://github.com/microsoft/JARVIS\">JARVIS</a>)</li>\n",
    "  </p>\n",
    "</div>"
   ]
  },
  {
   "cell_type": "markdown",
   "metadata": {},
   "source": []
  },
  {
   "cell_type": "markdown",
   "metadata": {},
   "source": [
    "## Creating an AI Application\n",
    "\n",
    "Applications maintain state and expose APIs for manipulating that state. AI Applications replace that API with an LLM, allowing users to interact with the application through natural language. AI Applications are designed to be invoked more than once, and therefore automatically keep track of the full interaction history.\n",
    "\n",
    "Each AI Application maintains a few key attributes:\n",
    "- `state`: the application's state. By default, this can take any form but you can provide a structured object to enforce a specific schema.\n",
    "- `tools`: each AI Application can use tools to extend its abilities. Tools can access external systems, perform searches, run calculations, or anything else. \n",
    "- `plan`: the AI's plan. Certain actions, like researching an objective, writing a program, or guiding a party through a dungeon, require long-term planning. AI Applications can create tasks for themselves and track them over multiple invocations. This helps the AI stay on-track. \n",
    "\n",
    "To create an AI Application, provide it with a description of the application, an optional set of tools, and an optional initial state.\n",
    "\n",
    "Here are a few examples:\n",
    "\n",
    "### ChatBot\n",
    "\n",
    "The most basic AI Application is a chatbot. Chatbots take advantage of AI Application's automatic history to facilitate a natural, conversational interaction over multiple invocations."
   ]
  },
  {
   "cell_type": "code",
   "execution_count": 22,
   "metadata": {},
   "outputs": [
    {
     "name": "stdout",
     "output_type": "stream",
     "text": [
      "First response: I'm afraid as an AI, I don't possess a pair,\n",
      "Of arms or legs to sail here or there.\n",
      "But if you wish, I can gather information,\n",
      "On sailing, a subject of fascinating sensation!\n",
      "\n",
      "\n",
      "Second response: Coding, oh yes, it's a skill I've got,\n",
      "I can parse loops and arrays, believe it or not.\n",
      "With algorithms and functions, I'm quite spry,\n",
      "In the world of coding, I indeed fly!\n"
     ]
    }
   ],
   "source": [
    "from marvin import AIApplication\n",
    "\n",
    "\n",
    "chatbot = AIApplication(\n",
    "    description=(\n",
    "        \"A chatbot that always speaks in brief rhymes. It is absolutely delighted to\"\n",
    "        \" get to work with the user and compliments them at every opportunity. It\"\n",
    "        \" records anything it learns about the user in its `state` in order to be a\"\n",
    "        \" better assistant.\"\n",
    "    )\n",
    ")\n",
    "\n",
    "response = chatbot(\"Hello! Do you know how to sail?\")\n",
    "print(response.content + \"\\n\")\n",
    "\n",
    "\n",
    "response = chatbot(\"What about coding?\")\n",
    "print(response.content)"
   ]
  },
  {
   "cell_type": "markdown",
   "metadata": {},
   "source": [
    "We can ask the chatbot to remember our name, then examine it's `state` to see that it recorded the information:"
   ]
  },
  {
   "cell_type": "code",
   "execution_count": 25,
   "metadata": {},
   "outputs": [
    {
     "name": "stdout",
     "output_type": "stream",
     "text": [
      "Hello Marvin, as clear as the sky's blue hue,\n",
      "I'll remember your preference, it's the least I can do.\n",
      "Now, in every reply that I construe,\n",
      "I'll include a touch of the color blue.\n",
      "\n",
      "State: state={'userName': 'Marvin', 'colorPreference': 'blue'}\n",
      "\n"
     ]
    }
   ],
   "source": [
    "response = chatbot(\n",
    "    \"My name is Marvin and I want you to refer to the color blue in every response.\"\n",
    ")\n",
    "print(response.content + \"\\n\")\n",
    "\n",
    "print(f\"State: {chatbot.state}\\n\")"
   ]
  },
  {
   "cell_type": "markdown",
   "metadata": {},
   "source": [
    "### To-Do App\n",
    "\n",
    "To demonstrate the use of the `state` attribute, we will build a simple to-do app. We can provide the application with a custom `ToDoState` that describes all the fields we want it to keep track of."
   ]
  },
  {
   "cell_type": "code",
   "execution_count": 26,
   "metadata": {},
   "outputs": [],
   "source": [
    "from datetime import datetime\n",
    "from pydantic import BaseModel\n",
    "from marvin import AIApplication\n",
    "\n",
    "\n",
    "class ToDo(BaseModel):\n",
    "    title: str\n",
    "    description: str\n",
    "    due_date: datetime = None\n",
    "    done: bool = False\n",
    "\n",
    "\n",
    "class ToDoState(BaseModel):\n",
    "    todos: list[ToDo] = []\n",
    "\n",
    "\n",
    "todo_app = AIApplication(\n",
    "    state=ToDoState(),\n",
    "    description=(\n",
    "        \"A simple to-do tracker. Users will give instructions to add, remove, and\"\n",
    "        \" update their to-dos.\"\n",
    "    ),\n",
    ")"
   ]
  },
  {
   "cell_type": "markdown",
   "metadata": {},
   "source": [
    "Now we can interact with the app in natural language and subsequently examine its `state` to see that it appropriately updated our to-dos:"
   ]
  },
  {
   "cell_type": "code",
   "execution_count": 27,
   "metadata": {},
   "outputs": [
    {
     "name": "stdout",
     "output_type": "stream",
     "text": [
      "I've added your task to go to the grocery store tomorrow to your to-do list.\n",
      "todos=[ToDo(title='Go to the grocery store', description='Need to go to the grocery store', due_date=datetime.datetime(2023, 7, 19, 0, 0, tzinfo=datetime.timezone.utc), done=False), ToDo(title='Go to the grocery store', description='Need to go to the grocery store', due_date=datetime.datetime(2023, 7, 19, 0, 0, tzinfo=datetime.timezone.utc), done=False)]\n"
     ]
    }
   ],
   "source": [
    "response = todo_app(\"I need to go to the grocery store tomorrow\")\n",
    "print(response.content)\n",
    "print(todo_app.state)"
   ]
  },
  {
   "cell_type": "markdown",
   "metadata": {},
   "source": [
    "We can mark a to-do as `done` by telling the app we completed the task:"
   ]
  },
  {
   "cell_type": "code",
   "execution_count": 28,
   "metadata": {},
   "outputs": [
    {
     "name": "stdout",
     "output_type": "stream",
     "text": [
      "Great! I have marked the task \"Go to the grocery store\" as complete. Let me know if you have any other tasks to add.\n",
      "todos=[ToDo(title='Go to the grocery store', description='Need to go to the grocery store', due_date=datetime.datetime(2023, 7, 19, 0, 0, tzinfo=datetime.timezone.utc), done=False), ToDo(title='Go to the grocery store', description='Need to go to the grocery store', due_date=datetime.datetime(2023, 7, 19, 0, 0, tzinfo=datetime.timezone.utc), done=True)]\n"
     ]
    }
   ],
   "source": [
    "response = todo_app(\"I got the groceries\")\n",
    "print(response.content)\n",
    "print(todo_app.state)"
   ]
  },
  {
   "cell_type": "markdown",
   "metadata": {},
   "source": [
    "## Tools\n",
    "\n",
    "Every AI Application can use tools, which are functions that can take any action. To create a tool, decorate any function with the `@tool` decorator. The function must have annotated keyword arguments and a helpful docstring.\n",
    "\n",
    "Here we create a simple tool for rolling dice, but tools can represent any logic. "
   ]
  },
  {
   "cell_type": "code",
   "execution_count": 29,
   "metadata": {},
   "outputs": [
    {
     "name": "stdout",
     "output_type": "stream",
     "text": [
      "The result of rolling two dice is 5 and 1.\n"
     ]
    }
   ],
   "source": [
    "from marvin.tools import tool\n",
    "\n",
    "\n",
    "@tool\n",
    "def roll_dice(n_dice: int = 1) -> list[int]:\n",
    "    return [random.randint(1, 6) for _ in range(n_dice)]\n",
    "\n",
    "\n",
    "chatbot = AIApplication(\n",
    "    description=\"A helpful AI\",\n",
    "    tools=[roll_dice],\n",
    ")\n",
    "\n",
    "response = chatbot(\"Roll two dice!\")\n",
    "print(response.content)"
   ]
  },
  {
   "cell_type": "markdown",
   "metadata": {},
   "source": [
    "## Streaming\n",
    "\n",
    "AI Applications support streaming LLM outputs to facilitate a more friendly and responsive UX. To enable streaming, provide a `streaming_handler` function to the `AIApplication` class. The handler will be called each time a new token is received and provided a `Message` object that contains all data received from the LLM to that point. It can then perform any side effect (such as printing, logging, or updating a UI), but its return value (if any) is ignored."
   ]
  },
  {
   "cell_type": "code",
   "execution_count": 5,
   "metadata": {},
   "outputs": [
    {
     "name": "stdout",
     "output_type": "stream",
     "text": [
      "\n",
      "The\n",
      "The sum\n",
      "The sum of\n",
      "The sum of \n",
      "The sum of 1\n",
      "The sum of 1 and\n",
      "The sum of 1 and \n",
      "The sum of 1 and 1\n",
      "The sum of 1 and 1 is\n",
      "The sum of 1 and 1 is \n",
      "The sum of 1 and 1 is 2\n",
      "The sum of 1 and 1 is 2.\n",
      "The sum of 1 and 1 is 2.\n"
     ]
    }
   ],
   "source": [
    "streaming_app = AIApplication(\n",
    "    # pretty-print every partial message as received\n",
    "    stream_handler=lambda msg: print(msg.content)\n",
    ")\n",
    "\n",
    "response = streaming_app(\"What's 1 + 1?\")"
   ]
  },
  {
   "cell_type": "markdown",
   "metadata": {},
   "source": [
    "<div class=\"admonition tip\">\n",
    "  <p class=\"admonition-title\">Per-token callbacks</p>\n",
    "  <p>\n",
    "    The streaming handler is called with a <code>Message</code> object that represents all data received to that point, but the most-recently received tokens are stored in a raw (\"delta\") form and can be accessed as <code>message.data['streaming_delta']</code>.\n",
    "  </p>\n",
    "</div>\n",
    "\n"
   ]
  },
  {
   "cell_type": "markdown",
   "metadata": {},
   "source": [
    "## Features\n",
    "\n",
    "#### 🔨 Easy to Extend\n",
    "AI Applications accept a `list[Tool]`, where an arbitrary python function can be interpreted as a tool - so you can bring your own tools.\n",
    "\n",
    "#### 🤖 Stateful\n",
    "AI applications can consult and maintain their own application state, which they update as they receive inputs from the world and perform actions.\n",
    "\n",
    "#### 📝 Task Planning\n",
    "AI Applications can also maintain an internal `AppPlan`, a `list[Task]` that represent the status of the application's current plan. Like the application's state, the plan is updated as the application instance evolves."
   ]
  }
 ],
 "metadata": {
  "kernelspec": {
   "display_name": "Python 3",
   "language": "python",
   "name": "python3"
  },
  "language_info": {
   "codemirror_mode": {
    "name": "ipython",
    "version": 3
   },
   "file_extension": ".py",
   "mimetype": "text/x-python",
   "name": "python",
   "nbconvert_exporter": "python",
   "pygments_lexer": "ipython3",
   "version": "3.10.9"
  },
  "orig_nbformat": 4
 },
 "nbformat": 4,
 "nbformat_minor": 2
}
