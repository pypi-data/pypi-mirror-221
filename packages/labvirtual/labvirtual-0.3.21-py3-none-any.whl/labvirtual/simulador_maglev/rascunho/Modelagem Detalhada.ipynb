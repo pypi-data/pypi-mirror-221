{
  "cells": [
    {
      "attachments": {},
      "cell_type": "markdown",
      "metadata": {
        "id": "7-Em6BJ6NUPm"
      },
      "source": [
        "# **MODELAGEM E SIMULAÇÃO DO LEVITADOR ELETROMAGNÉTICO (MAGLEV)**"
      ]
    },
    {
      "attachments": {},
      "cell_type": "markdown",
      "metadata": {},
      "source": [
        "## **BIBLIOTECAS UTILIZADAS**"
      ]
    },
    {
      "cell_type": "code",
      "execution_count": 1,
      "metadata": {
        "cellView": "form",
        "id": "u43UTN0ROOZH"
      },
      "outputs": [],
      "source": [
        "import numpy as np\n",
        "import sympy as sp\n",
        "from IPython.display import display, Math, Latex, Markdown"
      ]
    },
    {
      "attachments": {},
      "cell_type": "markdown",
      "metadata": {},
      "source": [
        "## **SISTEMA**"
      ]
    },
    {
      "attachments": {},
      "cell_type": "markdown",
      "metadata": {
        "id": "fxdJbRAKrlXN"
      },
      "source": [
        "### **Equação de movimento (Entrada: corrente, Saída: posição):**\n",
        "\n",
        "\\begin{align}\n",
        "  \\ddot{x} = g - \\dfrac{F(x,I)}{m}\n",
        "\\end{align}\n",
        "\n",
        "onde $F(x,I)$ é a força magnética exercida pela bobina sobre o imã/cilindro. \n",
        "\n",
        "Nosso melhor modelo para $F$ hoje é:\n",
        "\\begin{align}\n",
        "  F(x,I)=\\dfrac{k\\,I^2}{(x+\\mu)^2}\n",
        "\\end{align}"
      ]
    },
    {
      "attachments": {},
      "cell_type": "markdown",
      "metadata": {
        "id": "RGn0AZrOr_tf"
      },
      "source": [
        "### **Amplificador**\n",
        "Se a entrada for tensão, substituir:\n",
        "\\begin{align}\n",
        "  I = Gv\n",
        "\\end{align}\n",
        "onde $G$ é o ganho do amplificador"
      ]
    },
    {
      "attachments": {},
      "cell_type": "markdown",
      "metadata": {
        "id": "ejYhucGOsQ8j"
      },
      "source": [
        "### **Sensor**\n",
        "Se a posição for a saída do sensor (em Volts), então usar $y = f(x)$, onde $f$ é a função do sensor.\n",
        "\n",
        "Temos uma função $f$ (bem complicada) para modelar o sensor óptico. Ver artigo [Modelagem MAGLEV](https://drive.google.com/file/d/1dnAVKEA_xjPZEv8Yq5wTmNkQC51b8FsX/view?usp=sharing)."
      ]
    },
    {
      "attachments": {},
      "cell_type": "markdown",
      "metadata": {
        "id": "VUH9e8ZVNyeL"
      },
      "source": [
        "### **Espaço de estados**\n",
        "O modelo de espaço de estados não-linear, considerando $x_1$ a posição e $x_2$ a velocidade, fica:\n",
        "\n",
        "\\begin{align}\n",
        "  \\dot{x}_1 &= x_2\\\\\n",
        "  \\dot{x}_2 &= g - \\dfrac{kI^2}{m(x_1-\\mu)^2}\n",
        "\\end{align}"
      ]
    },
    {
      "attachments": {},
      "cell_type": "markdown",
      "metadata": {
        "id": "d-uv67IsshZl"
      },
      "source": [
        "### **Equilíbrio**\n",
        "\n",
        "O sistema está em equilíbrio quando todas as derivadas em relação ao tempo são nulas. Assim:\n",
        "\\begin{align}\n",
        "  0 &= x_2^*\\\\\n",
        "  mg &= \\dfrac{kI_0^2}{(x_1^*+\\mu)^2}\n",
        "\\end{align}\n",
        "\n",
        "Desta forma, dada  uma posição de equilíbrio $x_1^*=x_0$ podemos achar a corrente de equilíbrio $I_0$ ou vice-versa. "
      ]
    },
    {
      "attachments": {},
      "cell_type": "markdown",
      "metadata": {
        "id": "J8YtNbVTtrHP"
      },
      "source": [
        "### **Linearização**\n",
        "\n",
        "Seja:\n",
        "\\begin{align}\n",
        "  \\Delta x_1 &= x_1 - x_1^*\\\\\n",
        "  \\Delta x_2 &= x_2 - x_2^*\\\\\n",
        "  \\Delta I &= I - I_0\n",
        "\\end{align}\n",
        "\n",
        "Calculando o Jacobiano no ponto de equilíbrio e organizando a notação, temos:\n",
        "\\begin{align}\n",
        "  \\Delta \\dot{x}_1 &= \\Delta x_2\\\\\n",
        "  \\Delta \\dot{x}_2 &= -a\\,\\Delta I +\\lambda^2 \\Delta x_1\\\\\n",
        "  y &= x_1\n",
        "\\end{align}\n",
        "\n",
        "onde:\n",
        "\\begin{align}\n",
        "a &= \\dfrac{1}{m}\\,\\left.\\dfrac{\\partial F}{\\partial I}\\right|_{x_0,I_0}= \\frac{2kI_0}{m(x_0+\\mu)^2}\\\\\n",
        "  -\\lambda^2 &= \\frac{1}{m}\\,\\left.\\dfrac{\\partial F}{\\partial x}\\right|_{x_0,I_0}= \\dfrac{-2kI_0^2}{(x_0+\\mu)^3} \\Rightarrow \\lambda = \\displaystyle\\sqrt{\\dfrac{2kI_0^2}{m(x_0+\\mu)^3}}\n",
        "\\end{align}\n",
        "\n"
      ]
    },
    {
      "attachments": {},
      "cell_type": "markdown",
      "metadata": {},
      "source": [
        "## **CONTROLE**"
      ]
    },
    {
      "attachments": {},
      "cell_type": "markdown",
      "metadata": {
        "id": "OjK-dBcWbwaU"
      },
      "source": [
        "### **Definindo o sistema de controle**\n",
        "\n",
        "Estados do controlador $\\mathbf{z}$, onde:\n",
        "- $z_1$ é a estimativa de $\\Delta x_1$\n",
        "- $z_2$ é a estimativa de $\\Delta x_2$\n",
        "- $e$ é o estado do integrador \n",
        "\n",
        "Sinal de controle é calculado como:\n",
        "\\begin{align}\n",
        "  \\Delta I = -\\mathbf{Kz} - K_i e\n",
        "\\end{align}\n",
        "onde $\\mathbf{K}$ e $K_i$ são calculados da alocação de pólos com o sistema aumentado:\n",
        "\\begin{align}\n",
        "  \\mathbf{A}_a &= \\left[\\begin{array}{cc} \\mathbf{A} & \\mathbf{0}\\\\ -\\mathbf{C} & 0\\end{array}\\right]\\\\\n",
        "  \\mathbf{B}_a &= \\left[\\begin{array}{c} \\mathbf{B} \\\\ \\mathbf{0}\\end{array}\\right]\n",
        "\\end{align}\n",
        "\n",
        "O controlador final possui duas entradas: a variação da saída do sistema (para o controlador poder trabalhar linearizado) e o sinal de referência.\n",
        "\\begin{align}\n",
        "  \\mathbf{u} &= \\left[\\begin{array}{c} \\Delta x_1 \\\\ r\\end{array}\\right]\n",
        "\\end{align}\n",
        "\n",
        "Colocando o observador, então, o compensador completo pode ser implantado usando as seguintes equações de estado\n",
        "\\begin{align}\n",
        "  \\dot{\\mathbf{z}} = \\mathbf{A_rz+B_ru}\n",
        "\\end{align}\n",
        "onde as matrizes do controlador são:\n",
        "\\begin{align}\n",
        "  \\mathbf{A_r} &= \\left[\\begin{array}{cc} \\mathbf{A-BK-LC} & -\\mathbf{B}K_i\\\\ \\mathbf{0} & 0\\end{array}\\right]\\\\\n",
        "  \\mathbf{B_r} &= \\left[\\begin{array}{cc} \\mathbf{L} & \\mathbf{0}\\\\ {-1} & 1\\end{array}\\right]\n",
        "\\end{align}\n"
      ]
    },
    {
      "attachments": {},
      "cell_type": "markdown",
      "metadata": {},
      "source": [
        "### **Construindo o sistema com o Sympy**"
      ]
    },
    {
      "cell_type": "code",
      "execution_count": 2,
      "metadata": {
        "cellView": "form",
        "colab": {
          "base_uri": "https://localhost:8080/",
          "height": 251
        },
        "id": "L1kYQCUPvX1h",
        "outputId": "fe49a308-1098-4a73-a81a-4e1c2af4b5c0"
      },
      "outputs": [
        {
          "data": {
            "text/latex": [
              "$\\displaystyle \\mathbf{A} = \\left[\\begin{matrix}0 & 1\\\\\\lambda^{2} & 0\\end{matrix}\\right]$"
            ],
            "text/plain": [
              "<IPython.core.display.Math object>"
            ]
          },
          "metadata": {},
          "output_type": "display_data"
        },
        {
          "name": "stdout",
          "output_type": "stream",
          "text": [
            "\n"
          ]
        },
        {
          "data": {
            "text/latex": [
              "$\\displaystyle \\mathbf{B} = \\left[\\begin{matrix}0\\\\- a\\end{matrix}\\right]$"
            ],
            "text/plain": [
              "<IPython.core.display.Math object>"
            ]
          },
          "metadata": {},
          "output_type": "display_data"
        },
        {
          "name": "stdout",
          "output_type": "stream",
          "text": [
            "\n"
          ]
        },
        {
          "data": {
            "text/latex": [
              "$\\displaystyle \\mathbf{C} = \\left[\\begin{matrix}1 & 0\\end{matrix}\\right]$"
            ],
            "text/plain": [
              "<IPython.core.display.Math object>"
            ]
          },
          "metadata": {},
          "output_type": "display_data"
        },
        {
          "name": "stdout",
          "output_type": "stream",
          "text": [
            "\n"
          ]
        },
        {
          "data": {
            "text/latex": [
              "$\\displaystyle \\Delta \\dot{\\mathbf{x}} = \\left[\\begin{matrix}0 & 1\\\\\\lambda^{2} & 0\\end{matrix}\\right]\\Delta\\mathbf{x} + \\left[\\begin{matrix}0\\\\- a\\end{matrix}\\right]\\Delta I$"
            ],
            "text/plain": [
              "<IPython.core.display.Math object>"
            ]
          },
          "metadata": {},
          "output_type": "display_data"
        },
        {
          "name": "stdout",
          "output_type": "stream",
          "text": [
            "\n"
          ]
        },
        {
          "data": {
            "text/latex": [
              "$\\displaystyle y = \\left[\\begin{matrix}1 & 0\\end{matrix}\\right]\\Delta\\mathbf{x}$"
            ],
            "text/plain": [
              "<IPython.core.display.Math object>"
            ]
          },
          "metadata": {},
          "output_type": "display_data"
        }
      ],
      "source": [
        "#Lambda\n",
        "ld = sp.symbols('\\lambda')\n",
        "\n",
        "#a\n",
        "a = sp.symbols('a')\n",
        "\n",
        "A = sp.Matrix([[0, 1],[ld**2, 0]])\n",
        "B = sp.Matrix([[0],[-a]])\n",
        "C = sp.Matrix([[1,0]])\n",
        "n = A.shape[0]\n",
        "display(Math('\\mathbf{A} = ' + sp.latex(A)))\n",
        "print('')\n",
        "display(Math('\\mathbf{B} = ' + sp.latex(B)))\n",
        "print('')\n",
        "display(Math('\\mathbf{C} = ' + sp.latex(C)))\n",
        "print('')\n",
        "display(Math('\\Delta \\dot{\\mathbf{x}} = ' +  sp.latex(A) + '\\Delta\\mathbf{x} + ' + sp.latex(B) + '\\Delta I'))\n",
        "print('')\n",
        "display(Math('y = ' + sp.latex(C) + '\\Delta\\mathbf{x}'))"
      ]
    },
    {
      "attachments": {},
      "cell_type": "markdown",
      "metadata": {},
      "source": [
        "### **Regulado integral: matrizes aumentadas**"
      ]
    },
    {
      "cell_type": "code",
      "execution_count": 3,
      "metadata": {
        "cellView": "form",
        "colab": {
          "base_uri": "https://localhost:8080/",
          "height": 156
        },
        "id": "lG8f76XNx0Mz",
        "outputId": "6001ec24-e02b-442d-e69d-614b36861b1f"
      },
      "outputs": [
        {
          "data": {
            "text/latex": [
              "$\\displaystyle \\mathbf{A}_a = \\left[\\begin{matrix}0 & 1 & 0\\\\\\lambda^{2} & 0 & 0\\\\-1 & 0 & 0\\end{matrix}\\right]$"
            ],
            "text/plain": [
              "<IPython.core.display.Math object>"
            ]
          },
          "metadata": {},
          "output_type": "display_data"
        },
        {
          "name": "stdout",
          "output_type": "stream",
          "text": [
            "\n"
          ]
        },
        {
          "data": {
            "text/latex": [
              "$\\displaystyle \\mathbf{B}_a = \\left[\\begin{matrix}0\\\\- a\\\\0\\end{matrix}\\right]$"
            ],
            "text/plain": [
              "<IPython.core.display.Math object>"
            ]
          },
          "metadata": {},
          "output_type": "display_data"
        }
      ],
      "source": [
        "Aa = sp.Matrix(sp.BlockMatrix([[A, sp.zeros(2,1)],[-C,sp.zeros(1,1)]]))\n",
        "Ba = sp.Matrix(sp.BlockMatrix([[B], [sp.zeros(1,1)]]))\n",
        "\n",
        "display(Math('\\mathbf{A}_a = ' + sp.latex(Aa)))\n",
        "print('')\n",
        "display(Math('\\mathbf{B}_a = ' + sp.latex(Ba)))\n"
      ]
    },
    {
      "attachments": {},
      "cell_type": "markdown",
      "metadata": {},
      "source": [
        "### **Projeto do regulador**"
      ]
    },
    {
      "cell_type": "code",
      "execution_count": 4,
      "metadata": {
        "cellView": "form",
        "colab": {
          "base_uri": "https://localhost:8080/",
          "height": 198
        },
        "id": "_hQFsYdt2KKA",
        "outputId": "f5240bf3-e522-4728-da76-bc8cc9e01ec9"
      },
      "outputs": [
        {
          "data": {
            "text/latex": [
              "$\\displaystyle \\alpha(s) = - a s^{2} K_{0, 1} + a K_{0, 2} + s^{3} + s \\left(- \\lambda^{2} - a K_{0, 0}\\right)$"
            ],
            "text/plain": [
              "<IPython.core.display.Math object>"
            ]
          },
          "metadata": {},
          "output_type": "display_data"
        },
        {
          "name": "stdout",
          "output_type": "stream",
          "text": [
            "\n"
          ]
        },
        {
          "data": {
            "text/latex": [
              "$\\displaystyle K_1 = \\frac{- \\lambda^{2} - 3 p^{2}}{a}$"
            ],
            "text/plain": [
              "<IPython.core.display.Math object>"
            ]
          },
          "metadata": {},
          "output_type": "display_data"
        },
        {
          "name": "stdout",
          "output_type": "stream",
          "text": [
            "\n"
          ]
        },
        {
          "data": {
            "text/latex": [
              "$\\displaystyle K_2 = - \\frac{3 p}{a}$"
            ],
            "text/plain": [
              "<IPython.core.display.Math object>"
            ]
          },
          "metadata": {},
          "output_type": "display_data"
        },
        {
          "name": "stdout",
          "output_type": "stream",
          "text": [
            "\n"
          ]
        },
        {
          "data": {
            "text/latex": [
              "$\\displaystyle K_3 = \\frac{p^{3}}{a}$"
            ],
            "text/plain": [
              "<IPython.core.display.Math object>"
            ]
          },
          "metadata": {},
          "output_type": "display_data"
        }
      ],
      "source": [
        "# Laplace\n",
        "s = sp.symbols('s')\n",
        "\n",
        "# Ganho aumentado\n",
        "K = sp.MatrixSymbol('K',1,3)\n",
        "\n",
        "\n",
        "Amf = sp.Matrix(Aa-Ba@K)\n",
        "alpha = Amf.charpoly(s)\n",
        "\n",
        "display(Math('\\\\alpha(s) = ' + sp.latex(alpha.expr)))\n",
        "\n",
        "#@title Ganhos do regulador integral\n",
        "\n",
        "# Polo desejado\n",
        "p = sp.symbols('p')\n",
        "# Laplace\n",
        "s = sp.symbols('s')\n",
        "# Poli desejado\n",
        "alpha_des = sp.collect(sp.expand((s+p)**3),s)\n",
        "\n",
        "# Sistema de equações, por comparação de polinômios\n",
        "sistema = [sp.Equality(alpha.coeffs()[3-i], alpha_des.coeff(s,i)) for i in range(3)]\n",
        "\n",
        "# Resolve o sistema\n",
        "sol = sp.solve(sistema,sp.Matrix(K))\n",
        "K = sp.Matrix(K).subs(sol)\n",
        "\n",
        "# Apresenta as soluções\n",
        "print('')\n",
        "display(Math('K_1 = '+ sp.latex(K[0,0])))\n",
        "print('')\n",
        "display(Math('K_2 = '+ sp.latex(K[0,1])))\n",
        "print('')\n",
        "display(Math('K_3 = '+ sp.latex(K[0,2])))\n"
      ]
    },
    {
      "attachments": {},
      "cell_type": "markdown",
      "metadata": {
        "id": "zQQUd0UTmqv7"
      },
      "source": [
        "### **Projeto do observador**\n",
        "\n",
        "Supondo os pólos do observador em $s=-q$, $q > p$."
      ]
    },
    {
      "cell_type": "code",
      "execution_count": 5,
      "metadata": {
        "cellView": "form",
        "colab": {
          "base_uri": "https://localhost:8080/",
          "height": 77
        },
        "id": "06aPQ_XM9jjt",
        "outputId": "9020fb6a-135d-44e3-90a7-6333b98494ff"
      },
      "outputs": [
        {
          "data": {
            "text/latex": [
              "$\\displaystyle L_1 = 2 q$"
            ],
            "text/plain": [
              "<IPython.core.display.Math object>"
            ]
          },
          "metadata": {},
          "output_type": "display_data"
        },
        {
          "name": "stdout",
          "output_type": "stream",
          "text": [
            "\n"
          ]
        },
        {
          "data": {
            "text/latex": [
              "$\\displaystyle L_2 = \\lambda^{2} + q^{2}$"
            ],
            "text/plain": [
              "<IPython.core.display.Math object>"
            ]
          },
          "metadata": {},
          "output_type": "display_data"
        }
      ],
      "source": [
        "# Ganhos do observador\n",
        "L = sp.MatrixSymbol('L',2,1)\n",
        "\n",
        "# Poli característico do observador\n",
        "alphao = sp.Matrix((A-L@C)).charpoly(s)\n",
        "\n",
        "# Poli desejado do observador\n",
        "q = sp.symbols('q')\n",
        "alphao_des = sp.collect(sp.expand((s+q)**2),2)\n",
        "\n",
        "# Sistema de equações, por comparação de polinômios\n",
        "sistema2 = [sp.Equality(alphao.coeffs()[2-i], alphao_des.coeff(s,i)) for i in range(2)]\n",
        "\n",
        "# Resolve o sistema\n",
        "sol2 = sp.solve(sistema2,sp.Matrix(L))\n",
        "L = sp.Matrix(L).subs(sol2)\n",
        "\n",
        "# Apresenta as soluções\n",
        "display(Math('L_1 = '+ sp.latex(L[0,0])))\n",
        "print('')\n",
        "display(Math('L_2 = '+ sp.latex(L[1,0])))"
      ]
    },
    {
      "attachments": {},
      "cell_type": "markdown",
      "metadata": {},
      "source": [
        "### **Equações de estado do controlador**"
      ]
    },
    {
      "cell_type": "code",
      "execution_count": 6,
      "metadata": {
        "cellView": "form",
        "colab": {
          "base_uri": "https://localhost:8080/",
          "height": 78
        },
        "id": "fYgeZRfGAaIn",
        "outputId": "3efac877-a121-4691-c050-9eb25d6c5487"
      },
      "outputs": [
        {
          "data": {
            "text/latex": [
              "$\\displaystyle \\mathbf{\\dot{z}} = \\left[\\begin{matrix}- 2 q & 1 & 0\\\\- \\lambda^{2} - 3 p^{2} - q^{2} & - 3 p & p^{3}\\\\0 & 0 & 0\\end{matrix}\\right]\\mathbf{z} + \\left[\\begin{matrix}2 q & 0\\\\\\lambda^{2} + q^{2} & 0\\\\-1 & 1\\end{matrix}\\right]\\left[ \\begin{array}{c} \\Delta x_1 \\\\ r \\end{array}\\right]$"
            ],
            "text/plain": [
              "<IPython.core.display.Math object>"
            ]
          },
          "metadata": {},
          "output_type": "display_data"
        }
      ],
      "source": [
        "Ki = K[0,2]\n",
        "Kr = K[0,0:2]\n",
        "\n",
        "Ar = sp.Matrix(sp.BlockMatrix([[A-B@Kr-L@C, -B*Ki]]))\n",
        "Ar = sp.Matrix(sp.BlockMatrix([[Ar],[sp.Matrix(sp.zeros(1,3))]]))\n",
        "Br = sp.Matrix(sp.BlockMatrix([ [L, sp.zeros(2,1)]  ] ))\n",
        "Br = sp.Matrix(sp.BlockMatrix([[Br],[sp.Matrix([[-1,1]])]]))\n",
        "\n",
        "U = r'\\left[ \\begin{array}{c} \\Delta x_1 \\\\ r \\end{array}\\right]' \n",
        "display(Math('\\mathbf{\\dot{z}} = ' + sp.latex(Ar) + '\\mathbf{z} + ' + sp.latex(Br) + U))"
      ]
    },
    {
      "attachments": {},
      "cell_type": "markdown",
      "metadata": {
        "id": "waSAmd6r35ck"
      },
      "source": [
        "## **SIMULAÇÃO EM MALHA FECHADA**\n"
      ]
    },
    {
      "attachments": {},
      "cell_type": "markdown",
      "metadata": {},
      "source": [
        "### **Equações de estados**"
      ]
    },
    {
      "cell_type": "code",
      "execution_count": 7,
      "metadata": {
        "cellView": "form",
        "colab": {
          "base_uri": "https://localhost:8080/",
          "height": 310
        },
        "id": "cN5s_OhjJScR",
        "outputId": "20a6c349-90ae-4c69-e665-e2de24c18723"
      },
      "outputs": [
        {
          "name": "stdout",
          "output_type": "stream",
          "text": [
            "\n"
          ]
        },
        {
          "data": {
            "text/latex": [
              "$\\displaystyle \\dot{x}_1 = x_{2}$"
            ],
            "text/plain": [
              "<IPython.core.display.Math object>"
            ]
          },
          "metadata": {},
          "output_type": "display_data"
        },
        {
          "name": "stdout",
          "output_type": "stream",
          "text": [
            "\n"
          ]
        },
        {
          "data": {
            "text/latex": [
              "$\\displaystyle I = I_{0} - K_{1} z_{1} - K_{2} z_{2} - K_{3} z_{3}$"
            ],
            "text/plain": [
              "<IPython.core.display.Math object>"
            ]
          },
          "metadata": {},
          "output_type": "display_data"
        },
        {
          "name": "stdout",
          "output_type": "stream",
          "text": [
            "\n"
          ]
        },
        {
          "data": {
            "text/latex": [
              "$\\displaystyle \\dot{x}_2 = - \\frac{I^{2} k}{m \\left(\\mu + x_{1}\\right)^{2}} + g$"
            ],
            "text/plain": [
              "<IPython.core.display.Math object>"
            ]
          },
          "metadata": {},
          "output_type": "display_data"
        },
        {
          "name": "stdout",
          "output_type": "stream",
          "text": [
            "\n"
          ]
        },
        {
          "data": {
            "text/latex": [
              "$\\displaystyle \\Delta x_{1} = - x_{0} + x_{1}$"
            ],
            "text/plain": [
              "<IPython.core.display.Math object>"
            ]
          },
          "metadata": {},
          "output_type": "display_data"
        },
        {
          "name": "stdout",
          "output_type": "stream",
          "text": [
            "\n"
          ]
        },
        {
          "data": {
            "text/latex": [
              "$\\displaystyle \\dot{z}_1 = 2 \\Delta x_{1} q - 2 q z_{1} + z_{2}$"
            ],
            "text/plain": [
              "<IPython.core.display.Math object>"
            ]
          },
          "metadata": {},
          "output_type": "display_data"
        },
        {
          "name": "stdout",
          "output_type": "stream",
          "text": [
            "\n"
          ]
        },
        {
          "data": {
            "text/latex": [
              "$\\displaystyle \\dot{z}_2 = \\Delta x_{1} \\left(\\lambda^{2} + q^{2}\\right) + p^{3} z_{3} - 3 p z_{2} + z_{1} \\left(- \\lambda^{2} - 3 p^{2} - q^{2}\\right)$"
            ],
            "text/plain": [
              "<IPython.core.display.Math object>"
            ]
          },
          "metadata": {},
          "output_type": "display_data"
        },
        {
          "name": "stdout",
          "output_type": "stream",
          "text": [
            "\n"
          ]
        },
        {
          "data": {
            "text/latex": [
              "$\\displaystyle \\dot{z}_3 = - \\Delta x_{1} + r$"
            ],
            "text/plain": [
              "<IPython.core.display.Math object>"
            ]
          },
          "metadata": {},
          "output_type": "display_data"
        }
      ],
      "source": [
        "# Derivadas dos estados do maglev\n",
        "dx1, dx2 = sp.symbols(['\\dot{x}_1', '\\dot{x}_2'])\n",
        "# Estados do maglev\n",
        "x1, x2 = sp.symbols(['x_1', 'x_2'])\n",
        "# Constatnes do maglev\n",
        "g,k,m,mu = sp.symbols(['g','k','m','\\mu'])\n",
        "# Estados do controlador\n",
        "z1, z2, z3 = sp.symbols(['z_1','z_2','z_3'])\n",
        "# Derivadas dos estados do controlador\n",
        "dz1, dz2, dz3 = sp.symbols(['\\dot{z}_1','\\dot{z}_2','\\dot{z}_3'])\n",
        "# Corrente e corrente de equilíbrio\n",
        "I0,I = sp.symbols(['I_0','I'])\n",
        "# Posição de equilíbrio\n",
        "x0 = sp.symbols('x_0')\n",
        "# Sinais de entrada do controlador\n",
        "y,r = sp.symbols(['\\Delta\\ x_1','r'])\n",
        "\n",
        "# Matriz de ganhos do controlador\n",
        "k1,k2,k3 = sp.symbols(['K_1','K_2','K_3'])\n",
        "kk = sp.Matrix([k1,k2,k3]).T\n",
        "\n",
        "# Vetor de estados (vai fazer conta com ele) \n",
        "z = sp.Matrix([z1,z2,z3])\n",
        "\n",
        "# Lista das derivadas dos estados do controlador (apenas para escrever)\n",
        "dz = [dz1,dz2,dz3]\n",
        "\n",
        "# Matriz dos sinais de entrada\n",
        "U = sp.Matrix([y,r])\n",
        "\n",
        "# Lista de equações\n",
        "e = []\n",
        "e.append(sp.Eq(dx1, x2))\n",
        "e.append(sp.Eq(I, I0 - (kk@z)[0]))\n",
        "e.append(sp.Eq(dx2, g - k*I**2/(m*(x1+mu)**2)))\n",
        "e.append(sp.Eq(y, x1-x0))\n",
        "\n",
        "# Equações do controlador\n",
        "f = (Ar@z + Br@U)\n",
        "for i in range(f.shape[0]):\n",
        "  e.append(sp.Eq(dz[i],f[i]))\n",
        "\n",
        "# Resultado\n",
        "for i in range(len(e)):\n",
        "  print('')\n",
        "  display(Math(sp.latex(e[i])))\n"
      ]
    },
    {
      "attachments": {},
      "cell_type": "markdown",
      "metadata": {
        "id": "F87YAoW_Rec2"
      },
      "source": [
        "### **Condições iniciais**\n",
        "- $x_1 = (1\\pm\\epsilon)x_0$, $\\epsilon$ pequeno\n",
        "- $x_2 = 0$\n",
        "- $z_1 = z_2 = z_3 = 0$"
      ]
    },
    {
      "attachments": {},
      "cell_type": "markdown",
      "metadata": {
        "id": "OcvguoLqcvxT"
      },
      "source": [
        "## **SIMULAÇÃO NUMÉRICA**"
      ]
    },
    {
      "attachments": {},
      "cell_type": "markdown",
      "metadata": {},
      "source": [
        "### **Dados do eletroimã**"
      ]
    },
    {
      "cell_type": "code",
      "execution_count": 8,
      "metadata": {
        "cellView": "form",
        "id": "0Ncq0zk6S1N3"
      },
      "outputs": [],
      "source": [
        "#Comprimento da bobina\n",
        "l1 = 140e-3\n",
        "#Conprimento do cilindro/imã\n",
        "l2 = 33e-3\n",
        "#Diâmetro da bobina\n",
        "D1 = 26e-3\n",
        "#Diâmetro do cilindro/imã\n",
        "D2 = 14e-3\n",
        "#Permeabiblidade do núcleo e do corpo levitante para um mesmo material\n",
        "un = 4.523e-4 #H/m\n",
        "#Permeabilidade magnética do vácuo\n",
        "u0 = 4*np.pi*1e-7 #H/m\n",
        "#Número de espiras da bobina\n",
        "N = 96\n",
        "#Área da bobina\n",
        "S1 = 531e-6\n",
        "#Área do cilindro\n",
        "S2 = 154e-6"
      ]
    },
    {
      "attachments": {},
      "cell_type": "markdown",
      "metadata": {},
      "source": [
        "### **Encapsulamento dos dados**"
      ]
    },
    {
      "cell_type": "code",
      "execution_count": 9,
      "metadata": {
        "cellView": "form",
        "id": "phkmnTImc2Zy"
      },
      "outputs": [],
      "source": [
        "class Maglev:\n",
        "  def __init__(self,m,k,mu,I0):\n",
        "    self.m = m          # Massa em kg\n",
        "    self.k = k          # Constante magnética em N m^2/A^2\n",
        "    self.mu = mu        # Constante magnética em m\n",
        "    self.g = 9.81       # Gravidade, em m/s^2\n",
        "    \n",
        "    self.I0 = I0        # Corrente de equilíbrio, em A\n",
        "    \n",
        "    # Posição de equilíbrio, a partir da corrente\n",
        "    self.x0 = np.sqrt(k*I0**2/(m*self.g))-mu    \n",
        "    \n",
        "    # Parâmetros linearizados\n",
        "    self.lamda = np.sqrt(2*k*I0**2/(m*(self.x0+mu)**3))\n",
        "    self.a = 2*k*I0/(m*(self.x0+mu)**2)\n",
        "      \n",
        "\n",
        "# O compensador é calculado usando os cálculos simbólicos feitos anteriormente.\n",
        "# Apenas pegamos os valores e substituímos nas expressões\n",
        "class Compensador:\n",
        "  def __init__(self, planta, P, Q):\n",
        "    # Dicionário de substituições\n",
        "    rep = {ld:planta.lamda, a:planta.a, p:P, q:Q}\n",
        "    \n",
        "    # Faz as substituições, ganhos e matrizes de estado\n",
        "    kk = K.subs(rep)\n",
        "    ll = L.subs(rep)\n",
        "    ar = Ar.subs(rep)\n",
        "    br = Br.subs(rep)\n",
        "    \n",
        "    # Apesar das substituições, os resultados ainda são objetos simbólicos. \n",
        "    # Precisamos converter para numérico para poder usar na simulação\n",
        "\n",
        "    # Transforma os resultados para formato numérico\n",
        "    self.K = np.array(kk).astype(np.float64)[0,:]\n",
        "    self.L = np.array(ll).astype(np.float64)[:,0]\n",
        "    self.Ar = np.array(ar).astype(np.float64)\n",
        "    self.Br = np.array(br).astype(np.float64)\n"
      ]
    },
    {
      "attachments": {},
      "cell_type": "markdown",
      "metadata": {},
      "source": [
        "### **Declara dados numéricos e organiza**"
      ]
    },
    {
      "cell_type": "code",
      "execution_count": 10,
      "metadata": {
        "cellView": "form",
        "colab": {
          "base_uri": "https://localhost:8080/"
        },
        "id": "jnCTFcs3ejVb",
        "outputId": "b71ffdc9-d049-4d87-a604-6ec6a263577d"
      },
      "outputs": [
        {
          "name": "stdout",
          "output_type": "stream",
          "text": [
            "Posição de equilíbrio (mm):  1.286\n",
            "Corrente de equilíbrio (A):  0.6\n"
          ]
        }
      ],
      "source": [
        "# Declara a planta com os valores experimentais\n",
        "mag = Maglev(m=29e-3, k=9.55e-6, mu=2.19e-3, I0=0.6)\n",
        "print('Posição de equilíbrio (mm): ', np.round(1000*mag.x0,3))\n",
        "print('Corrente de equilíbrio (A): ', np.round(mag.I0, 3))\n",
        "\n",
        "# Declara o compensador.\n",
        "# O pólo do regulador ficou em 3x o pólo estável da planta\n",
        "# O pólo do observador ficou em 8x\n",
        "comp = Compensador(planta=mag, P=3*mag.lamda, Q=8*mag.lamda)"
      ]
    },
    {
      "attachments": {},
      "cell_type": "markdown",
      "metadata": {},
      "source": [
        "### **Implementação em malha fechada**"
      ]
    },
    {
      "cell_type": "code",
      "execution_count": 11,
      "metadata": {
        "cellView": "form",
        "id": "yg3bck69rFEr"
      },
      "outputs": [],
      "source": [
        "# Função que implementa as equações de estados em malha fechada\n",
        "def estadosmf(t,x,ref,planta,comp):\n",
        "  # Separa os estados do controlador\n",
        "  z = x[2:]\n",
        "  \n",
        "  # Lista que vai conter os resultados\n",
        "  ddt = [0.]*5\n",
        "\n",
        "  # Cálculos álgebricos:\n",
        "\n",
        "  # Corrente do imã - corrente de equilíbrio + correção do controlador\n",
        "  I = planta.I0 - comp.K@z\n",
        "  \n",
        "  # Variação de posição em relação ao equilíbrio - precisa para o observador\n",
        "  Dx1 = x[0]-planta.x0\n",
        "  \n",
        "  # Vetor contendo os sinais de entrada do controle, saída + referência\n",
        "  u =[Dx1, ref(t)]\n",
        "  \n",
        "  # Equações de estado em malha fechada:\n",
        "  # Planta:\n",
        "  ddt[0] = x[1]\n",
        "  ddt[1] = planta.g - planta.k*I**2/(planta.m*(x[0]+planta.mu)**2)\n",
        "  # Controlador:\n",
        "  ddt[2:] = comp.Ar@z + comp.Br@u\n",
        "  return ddt\n"
      ]
    },
    {
      "attachments": {},
      "cell_type": "markdown",
      "metadata": {},
      "source": [
        "### **Simulação e análise**"
      ]
    },
    {
      "cell_type": "code",
      "execution_count": 12,
      "metadata": {
        "colab": {
          "base_uri": "https://localhost:8080/",
          "height": 279
        },
        "id": "uIs-SrwG1bMw",
        "outputId": "1a900be4-4e4b-4113-db3e-c22e72dd9c8e"
      },
      "outputs": [
        {
          "data": {
            "image/png": "[encoded data removed]",
            "text/plain": [
              "<Figure size 640x480 with 1 Axes>"
            ]
          },
          "metadata": {},
          "output_type": "display_data"
        }
      ],
      "source": [
        "from scipy.integrate import odeint, solve_ivp\n",
        "import matplotlib.pyplot as plt\n",
        "\n",
        "\n",
        "# Sinal de referência (em torno do ponto de equilíbrio)\n",
        "def ref(t):\n",
        "  return 1e-4*(np.sin(2*np.pi*t))\n",
        "\n",
        "# Condições iniciais\n",
        "ic = [mag.x0*1.01, 0, 0, 0, 0]\n",
        "\n",
        "# Vetor de tempo (para plotagem)\n",
        "t = np.linspace(0, 3e0, 1000)\n",
        "\n",
        "# Solver: simulação de 0 a 5 segundos\n",
        "sol = solve_ivp(estadosmf,t_span=[0,5],y0=ic, args=(ref, mag,comp), dense_output=True)\n",
        "\n",
        "# Calcula os estados agora para todos os tempos especificados\n",
        "y = sol.sol(t)\n",
        "\n",
        "# Plotagem dos resultados\n",
        "plt.plot(t, 1e3*y[0,:], 'b', label='pos')\n",
        "plt.plot(t, 1e3*(mag.x0+ref(t)), 'r', label='ref.')\n",
        "plt.legend(loc='best')\n",
        "plt.xlabel('t')\n",
        "plt.ylabel('Posição (mm)')\n",
        "plt.grid()\n",
        "plt.show()"
      ]
    }
  ],
  "metadata": {
    "colab": {
      "collapsed_sections": [
        "fxdJbRAKrlXN",
        "RGn0AZrOr_tf",
        "ejYhucGOsQ8j",
        "VUH9e8ZVNyeL",
        "d-uv67IsshZl"
      ],
      "provenance": []
    },
    "kernelspec": {
      "display_name": "Python 3",
      "language": "python",
      "name": "python3"
    },
    "language_info": {
      "codemirror_mode": {
        "name": "ipython",
        "version": 3
      },
      "file_extension": ".py",
      "mimetype": "text/x-python",
      "name": "python",
      "nbconvert_exporter": "python",
      "pygments_lexer": "ipython3",
      "version": "3.11.0"
    },
    "vscode": {
      "interpreter": {
        "hash": "2260a76cd5932607aba8d38b1878c0a9a1f996cc8ada77ce3b1607c1808eb988"
      }
    }
  },
  "nbformat": 4,
  "nbformat_minor": 0
}
