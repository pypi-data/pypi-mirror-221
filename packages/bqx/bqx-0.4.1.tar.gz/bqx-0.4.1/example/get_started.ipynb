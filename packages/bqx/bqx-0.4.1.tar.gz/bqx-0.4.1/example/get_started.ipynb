{
 "cells": [
  {
   "cell_type": "markdown",
   "metadata": {},
   "source": [
    "# Get Started\n",
    "\n",
    "Here are some sample queries. See what BQX can do."
   ]
  },
  {
   "cell_type": "markdown",
   "metadata": {},
   "source": [
    "## Initialization"
   ]
  },
  {
   "cell_type": "code",
   "execution_count": 1,
   "metadata": {
    "collapsed": false
   },
   "outputs": [],
   "source": [
    "from bqx.query import Query as Q\n",
    "from bqx.parts import Table as T, Column as C\n",
    "from bqx.func import SUM"
   ]
  },
  {
   "cell_type": "markdown",
   "metadata": {},
   "source": [
    "# 1. Simple examples"
   ]
  },
  {
   "cell_type": "markdown",
   "metadata": {
    "collapsed": true
   },
   "source": [
    "## 1.1 Make simple query."
   ]
  },
  {
   "cell_type": "code",
   "execution_count": 2,
   "metadata": {
    "collapsed": false
   },
   "outputs": [
    {
     "name": "stdout",
     "output_type": "stream",
     "text": [
      "SELECT name\n",
      "FROM sample_table\n"
     ]
    }
   ],
   "source": [
    "q = Q().SELECT('name').FROM('sample_table')\n",
    "print(q.getq())"
   ]
  },
  {
   "cell_type": "markdown",
   "metadata": {},
   "source": [
    "## 1.2 Get rid of quotes using Aliases."
   ]
  },
  {
   "cell_type": "code",
   "execution_count": 3,
   "metadata": {
    "collapsed": false
   },
   "outputs": [
    {
     "name": "stdout",
     "output_type": "stream",
     "text": [
      "SELECT name\n",
      "FROM sample_table\n"
     ]
    }
   ],
   "source": [
    "sample_table = T('sample_table')\n",
    "name = C('name')\n",
    "\n",
    "q = Q().SELECT(name).FROM(sample_table)\n",
    "print(q.getq())"
   ]
  },
  {
   "cell_type": "markdown",
   "metadata": {},
   "source": [
    "## 1.3 You'll want WHERE clause.\n",
    "\n",
    "Column alias has overridden operators.  It provides syntax highlighting feature on conditions."
   ]
  },
  {
   "cell_type": "code",
   "execution_count": 4,
   "metadata": {
    "collapsed": false
   },
   "outputs": [
    {
     "name": "stdout",
     "output_type": "stream",
     "text": [
      "SELECT name\n",
      "FROM sample_table\n",
      "WHERE name = 'Hatsune Miku'\n"
     ]
    }
   ],
   "source": [
    "sample_table = T('sample_table')\n",
    "name = C('name')\n",
    "\n",
    "q = Q().SELECT(name).FROM(sample_table).WHERE(name == 'Hatsune Miku')\n",
    "print(q.getq())"
   ]
  },
  {
   "cell_type": "markdown",
   "metadata": {},
   "source": [
    "## 1.4 SUM of column? Of course!"
   ]
  },
  {
   "cell_type": "code",
   "execution_count": 5,
   "metadata": {
    "collapsed": false
   },
   "outputs": [
    {
     "name": "stdout",
     "output_type": "stream",
     "text": [
      "SELECT name, SUM(score)\n",
      "FROM sample_table\n",
      "WHERE name = 'Hatsune Miku'\n",
      "GROUP BY score\n"
     ]
    }
   ],
   "source": [
    "sample_table = T('sample_table')\n",
    "name = C('name')\n",
    "score = C('score')\n",
    "score_sum = SUM(score)\n",
    "\n",
    "q = Q().SELECT(name, score_sum).FROM(sample_table).WHERE(name == 'Hatsune Miku').GROUP_BY(score)\n",
    "print(q.getq())"
   ]
  },
  {
   "cell_type": "markdown",
   "metadata": {},
   "source": [
    "# 2. BQX's special features"
   ]
  },
  {
   "cell_type": "markdown",
   "metadata": {},
   "source": [
    "## 2.1 Keep it partial. Use it later.\n",
    "\n",
    "Put your query in in-complete state (we call it 'partial query'). Generate variety of queries with Python's power."
   ]
  },
  {
   "cell_type": "code",
   "execution_count": 6,
   "metadata": {
    "collapsed": false
   },
   "outputs": [
    {
     "name": "stdout",
     "output_type": "stream",
     "text": [
      "SELECT name\n",
      "FROM table_foo\n",
      "\n",
      "SELECT name\n",
      "FROM table_bar\n",
      "\n",
      "SELECT name\n",
      "FROM table_baz\n",
      "\n"
     ]
    }
   ],
   "source": [
    "sample_tables = [T('table_foo'), T('table_bar'), T('table_baz')]\n",
    "name = C('name')\n",
    "\n",
    "q = Q().SELECT(name)  # Query without FROM???\n",
    "\n",
    "for table in sample_tables:\n",
    "    print(q.FROM(table).getq())  # Now it's complete query\n",
    "    print()"
   ]
  },
  {
   "cell_type": "markdown",
   "metadata": {},
   "source": [
    "## 2.2 Escape from bracket hell.\n",
    "\n",
    "I guess you have ever seen a nested query in nested query in nested query with bunch of AS clauses like:\n",
    "``` sql\n",
    "SELECT average, name FROM (\n",
    "    SELECT pid, (a+b+c)/3 AS average, name FROM (\n",
    "        SELECT x.pid AS pid, x.a AS a, x.b AS b, x.c AS c, y.name AS name FROM [dataset.x] AS x INNER JOIN [dataset.y] as y ON x.pid = y.pid\n",
    "    )\n",
    ") ORDER BY name\n",
    "```\n",
    "\n",
    "Here is a solution to this.\n",
    "\n",
    "**Sub query reference** feature and **Auto alias** feature is used."
   ]
  },
  {
   "cell_type": "code",
   "execution_count": 7,
   "metadata": {
    "collapsed": false
   },
   "outputs": [
    {
     "name": "stdout",
     "output_type": "stream",
     "text": [
      "SELECT average, name\n",
      "FROM (SELECT pid, ((a + b) + c) / 3 AS average, name\n",
      "  FROM (SELECT x.pid AS pid, x.a AS a, x.b AS b, x.c AS c, y.name AS name\n",
      "    FROM table_x AS x\n",
      "    INNER JOIN table_y AS y\n",
      "    ON x.pid = y.pid))\n",
      "ORDER BY name\n"
     ]
    }
   ],
   "source": [
    "# Call AS function manually to define AS clause.\n",
    "x = T('table_x').AS('x')\n",
    "y = T('table_y').AS('y')\n",
    "\n",
    "# You don't have to call AS func all time.\n",
    "# If you say auto_alias is True, AS clause will be auto-generated\n",
    "# next to columns like 'x.pid', 'x.a', 'x.b', 'x.c' declared below.\n",
    "q1 = (\n",
    "    Q(auto_alias=True)\n",
    "    .SELECT(x.pid, x.a, x.b, x.c, y.name)\n",
    "    .FROM(x)\n",
    "    .INNER_JOIN(y)\n",
    "    .ON(x.pid == y.pid))\n",
    "\n",
    "pid, name, a, b, c = C('pid'), C('name'), C('a'), C('b'), C('c')\n",
    "average_calc = ((a + b + c) / 3).AS('average')\n",
    "\n",
    "q2 = (\n",
    "    Q()\n",
    "    .SELECT(pid, average_calc, name)\n",
    "    .FROM(q1))\n",
    "\n",
    "average = C('average')\n",
    "\n",
    "q3 = (\n",
    "    Q()\n",
    "    .SELECT(average, name)\n",
    "    .FROM(q2)\n",
    "    .ORDER_BY(name))\n",
    "\n",
    "print(q3.getq())"
   ]
  },
  {
   "cell_type": "markdown",
   "metadata": {},
   "source": [
    "## 2.3 I WANT MORE, MORE SIMPLE QUERY!!!\n",
    "\n",
    "BQX have **SELECT chain** feature for simplification.\n",
    "Literally you *can* chain SELECT clauses and omit FROM clauses.\n",
    "\n",
    "Here is another example which provides identical query shown above, with shorter code."
   ]
  },
  {
   "cell_type": "code",
   "execution_count": 8,
   "metadata": {
    "collapsed": false
   },
   "outputs": [
    {
     "name": "stdout",
     "output_type": "stream",
     "text": [
      "SELECT average, name\n",
      "FROM (SELECT pid, ((a + b) + c) / 3 AS average, name\n",
      "  FROM (SELECT x.pid AS pid, x.a AS a, x.b AS b, x.c AS c, y.name AS name\n",
      "    FROM table_x AS x\n",
      "    INNER JOIN table_y AS y\n",
      "    ON x.pid = y.pid))\n",
      "ORDER BY name\n"
     ]
    }
   ],
   "source": [
    "x = T('table_x').AS('x')\n",
    "y = T('table_y').AS('y')\n",
    "pid, name, average, a, b, c = C('pid'), C('name'), C('average'), C('a'), C('b'), C('c')\n",
    "average_calc = ((a + b + c) / 3).AS('average')\n",
    "\n",
    "q = (\n",
    "    Q(auto_alias=True)\n",
    "    .SELECT(x.pid, x.a, x.b, x.c, y.name)\n",
    "    .FROM(x)\n",
    "    .INNER_JOIN(y)\n",
    "    .ON(x.pid == y.pid)\n",
    "\n",
    "    .SELECT(pid, average_calc, name)\n",
    "    \n",
    "    .SELECT(average, name)\n",
    "    .ORDER_BY(name))\n",
    "\n",
    "print(q.getq())"
   ]
  }
 ],
 "metadata": {
  "kernelspec": {
   "display_name": "Python 3",
   "language": "python",
   "name": "python3"
  },
  "language_info": {
   "codemirror_mode": {
    "name": "ipython",
    "version": 3
   },
   "file_extension": ".py",
   "mimetype": "text/x-python",
   "name": "python",
   "nbconvert_exporter": "python",
   "pygments_lexer": "ipython3",
   "version": "3.4.3"
  }
 },
 "nbformat": 4,
 "nbformat_minor": 0
}
