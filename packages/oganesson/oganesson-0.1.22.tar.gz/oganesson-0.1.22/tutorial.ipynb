{
 "cells": [
  {
   "attachments": {},
   "cell_type": "markdown",
   "metadata": {},
   "source": [
    "# Structural manipulation and preparation tools"
   ]
  },
  {
   "cell_type": "code",
   "execution_count": null,
   "metadata": {},
   "outputs": [],
   "source": [
    "from oganesson.ogstructure import OgStructure\n",
    "\n",
    "og=OgStructure(file_name='examples/structures/MoS2.vasp')\n",
    "og.add_atom_to_surface('Li').structure.to('MoS2_Li.vasp','poscar')"
   ]
  },
  {
   "cell_type": "code",
   "execution_count": 1,
   "metadata": {},
   "outputs": [
    {
     "name": "stdout",
     "output_type": "stream",
     "text": [
      "GPAW is not installed, and therefore you cannot use the ROSA descriptors.\n",
      "DScribe is not installed, and therefore you cannot use the DScribe descriptors.\n"
     ]
    }
   ],
   "source": [
    "from oganesson.ogstructure import OgStructure\n",
    "from ase.build import surface\n",
    "s = surface('Au', (1, 1, 1), 9)\n",
    "s.center(vacuum=10, axis=2)\n",
    "\n",
    "og=OgStructure(s)\n",
    "og.add_atom_to_surface('O').structure.to('Au_O.cif','poscar')\n",
    "\n",
    "og=OgStructure(s)\n",
    "ad_structures = og.adsorption_scanner('O')\n",
    "counter = 0\n",
    "for s in ad_structures:\n",
    "    counter += 1\n",
    "    s().to(str(counter) + '.cif','poscar')"
   ]
  },
  {
   "cell_type": "code",
   "execution_count": null,
   "metadata": {},
   "outputs": [],
   "source": [
    "from oganesson.ogstructure import OgStructure\n",
    "og = OgStructure(file_name='examples/structures/Li3PO4_mp-13725.cif')\n",
    "og.generate_neb('Li', r=3)\n"
   ]
  },
  {
   "cell_type": "code",
   "execution_count": null,
   "metadata": {},
   "outputs": [],
   "source": [
    "from oganesson.genetic_algorithms import GA\n",
    "from oganesson.ogstructure import OgStructure\n",
    "from ase.build import bulk\n",
    "\n",
    "Cu = bulk('Cu', 'fcc', a=3.6)\n",
    "structure = OgStructure(Cu.repeat([4,4,4]))\n",
    "structure.substitutions_random('Cu',{'Al':16, 'Cr':16, 'Ti':16, 'V':16})\n",
    "structure()"
   ]
  },
  {
   "cell_type": "markdown",
   "metadata": {},
   "source": [
    "## Calculation of the RDF of a structure"
   ]
  },
  {
   "cell_type": "code",
   "execution_count": null,
   "metadata": {},
   "outputs": [],
   "source": [
    "from oganesson.ogstructure import OgStructure\n",
    "from ase.build import bulk\n",
    "\n",
    "Cu = bulk('Cu', 'fcc', a=3.6)\n",
    "structure = OgStructure(Cu.repeat([4,4,4]))\n",
    "structure.substitutions_random('Cu',{'Al':16, 'Cr':16, 'Ti':16, 'V':16})\n",
    "print(structure.get_rdf(rmax=4,nbins=100,elements=[13,13])[0])"
   ]
  },
  {
   "attachments": {},
   "cell_type": "markdown",
   "metadata": {},
   "source": [
    "# Machine learning\n",
    "\n",
    "## Machine learning descriptors"
   ]
  },
  {
   "cell_type": "code",
   "execution_count": null,
   "metadata": {},
   "outputs": [],
   "source": [
    "from oganesson.descriptors import BACD, SymmetryFunctions, DScribeSOAP, DScribeSineMatrix\n",
    "from oganesson.ogstructure import OgStructure\n",
    "\n",
    "\n",
    "bacd = BACD(OgStructure(file_name='examples/structures/mp-541001_LiInI4.cif'))\n",
    "bacd.describe()\n",
    "\n",
    "sf = DScribeSineMatrix(OgStructure(file_name='examples/structures/mp-541001_LiInI4.cif'))\n",
    "sf.describe()\n"
   ]
  },
  {
   "cell_type": "code",
   "execution_count": null,
   "metadata": {},
   "outputs": [],
   "source": [
    "from oganesson.descriptors import BACD, Describe\n",
    "# from oganesson.descriptors import DScribeSOAP, DscribeACSF\n",
    "from oganesson.ogstructure import OgStructure\n",
    "\n",
    "bacd = BACD(OgStructure(file_name='examples/structures/Li3PO4_mp-13725.cif'))\n",
    "print(bacd.describe())\n",
    "# soap = DScribeSOAP(OgStructure(file_name='examples/structures/Li3PO4_mp-13725.cif'))\n",
    "# acsf = DscribeACSF(OgStructure(file_name='examples/structures/Li3PO4_mp-13725.cif'))\n",
    "\n",
    "print(Describe.describe(OgStructure(file_name='examples/structures/Li3PO4_mp-13725.cif'),BACD))"
   ]
  },
  {
   "attachments": {},
   "cell_type": "markdown",
   "metadata": {},
   "source": [
    "## Generation of machine learning datasets"
   ]
  },
  {
   "cell_type": "code",
   "execution_count": null,
   "metadata": {},
   "outputs": [],
   "source": [
    "import requests\n",
    "from oganesson.descriptors import Describe, BACD\n",
    "from oganesson.ogstructure import OgStructure\n",
    "from pymatgen.core.structure import Structure\n",
    "from joltml import Experiment, Xgboost, Sklearn\n",
    "import pandas as pd\n",
    "\n",
    "headers = {\n",
    "    'accept': 'application/json',\n",
    "    'X-API-KEY': 'iGRUQOIQAcPMw00QWQKIEegfhF8O7Gmm'\n",
    "}\n",
    "materials_summary = requests.get('https://api.materialsproject.org/materials/summary/?formula=ABO3&deprecated=false&_per_page=1000&_skip=0&_limit=1000&_all_fields=true&is_stable=true', headers=headers)\n",
    "materials_summary = materials_summary.json()['data']\n",
    "datasets = {'material_ids':[],'structures':[],'bacd':[],'formation_energy_per_atom':[]}\n",
    "for material in materials_summary:\n",
    "    structure = OgStructure(Structure.from_dict(material['structure']))\n",
    "    datasets['material_ids'] += [material['material_id']]\n",
    "    datasets['structures'] += [structure]\n",
    "    datasets['bacd'] += [Describe.describe(structure,descriptor=BACD)]\n",
    "    datasets['formation_energy_per_atom'] += [material['formation_energy_per_atom']]\n"
   ]
  },
  {
   "cell_type": "code",
   "execution_count": null,
   "metadata": {},
   "outputs": [],
   "source": [
    "\n",
    "import numpy as np\n",
    "training_set = pd.DataFrame(datasets['bacd'])\n",
    "experiment = Experiment(training_set.iloc[:800])\n",
    "y = experiment.add_models([Xgboost()]).regression(targets=pd.DataFrame(datasets['formation_energy_per_atom'][:800]), splits=[0.8,0.2]).predict(training_set.iloc[:800])\n",
    "\n"
   ]
  },
  {
   "attachments": {},
   "cell_type": "markdown",
   "metadata": {},
   "source": [
    "To extract dynamics data from VASP OUTCAR files, there is an option to rely only on the available `OUTCAR` file, with the assumption that the first line of the `POSCAR` in the calculation had the correct assignment of species, and that there was not too many of them."
   ]
  },
  {
   "cell_type": "code",
   "execution_count": null,
   "metadata": {},
   "outputs": [],
   "source": [
    "from oganesson.io.vasp import Outcar\n",
    "\n",
    "outcar = Outcar('examples/')\n",
    "outcar.write_md_data()"
   ]
  },
  {
   "attachments": {},
   "cell_type": "markdown",
   "metadata": {},
   "source": [
    "However, it is better to obtain the species from the `POSCAR` file used in the calculation. So typically, one should provide both files to the `Outcar` class."
   ]
  },
  {
   "attachments": {},
   "cell_type": "markdown",
   "metadata": {},
   "source": [
    "\n",
    "## Test sensitivity of descriptors\n",
    "\n",
    "## Test translational and rotational symmetry of descriptors\n"
   ]
  },
  {
   "cell_type": "code",
   "execution_count": null,
   "metadata": {},
   "outputs": [],
   "source": [
    "from oganesson.descriptors import BACD\n",
    "from oganesson.ogstructure import OgStructure\n",
    "bacd = BACD(OgStructure(file_name='examples/structures/Li3PO4_mp-13725.cif'))\n",
    "print(bacd.is_invariant())"
   ]
  },
  {
   "attachments": {},
   "cell_type": "markdown",
   "metadata": {},
   "source": [
    "# Performing AIMD simulations\n",
    "\n",
    "Here we apply a lithium-rich material, Li3PO4, to a temperature of 1000 K, and then calculate the diffusivities of the three elements."
   ]
  },
  {
   "cell_type": "code",
   "execution_count": null,
   "metadata": {},
   "outputs": [],
   "source": [
    "from oganesson.ogstructure import OgStructure\n",
    "structure = OgStructure(file_name='examples/structures/LGPS_ChemMater_2018_30_4995_Opt.cif')\n",
    "structure.simulate(temperature=1000,steps=1000,loginterval=1)\n",
    "coeffs = structure.calculate_diffusivity()\n",
    "print('Diffusion coefficients:', coeffs)\n"
   ]
  },
  {
   "cell_type": "markdown",
   "metadata": {},
   "source": [
    "# Surface science"
   ]
  },
  {
   "cell_type": "code",
   "execution_count": null,
   "metadata": {},
   "outputs": [],
   "source": [
    "from ase.build import fcc111, add_adsorbate\n",
    "from ase import Atoms\n",
    "from ase.constraints import FixAtoms\n",
    "from ase.build import molecule\n",
    "from oganesson.ogstructure import OgStructure\n",
    "CO = molecule('CO')\n",
    "E_CO = -14.77576957\n",
    "\n",
    "Pt = fcc111('Pt', (2, 2, 6),periodic=True)\n",
    "Pt.write('Pt.cif')\n",
    "# fixed = list(range(len(Pt) - 2*4))\n",
    "# Pt.constraints = [FixAtoms(indices=fixed)]\n",
    "ogPt = OgStructure(Pt)\n",
    "ogPt.relax()\n",
    "E_Pt = ogPt.total_energy\n",
    "\n",
    "add_adsorbate(Pt, CO, height=1.0, position='fcc',mol_index=0)\n",
    "Pt.center(vacuum=10.0, axis=2)\n",
    "Pt.write('Pt_CO.cif')\n",
    "# fixed = list(range(len(Pt) - len(CO) - 2*4))\n",
    "# Pt.constraints = [FixAtoms(indices=fixed)]\n",
    "ogPt = OgStructure(Pt)\n",
    "ogPt.relax()\n",
    "ogPt.structure.to('Pt_CO_relaxed.cif','cif')\n",
    "E_Pt_CO = ogPt.total_energy\n",
    "\n",
    "# Find the binding energy\n",
    "print('CO binding energy =',E_Pt_CO - E_Pt - E_CO)\n",
    "print(E_Pt_CO, E_Pt, E_CO)"
   ]
  },
  {
   "attachments": {},
   "cell_type": "markdown",
   "metadata": {},
   "source": [
    "# Genetic algorithms\n",
    "\n",
    "## Creating a population of materials, and performing evolutions"
   ]
  },
  {
   "cell_type": "code",
   "execution_count": null,
   "metadata": {},
   "outputs": [],
   "source": [
    "from oganesson.genetic_algorithms import GA\n",
    "ga = GA(species=['Na']*4 + ['H']*4, rmax=20, population_size=10)\n",
    "for i in range(10):\n",
    "    ga.evolve(num_offsprings=5)"
   ]
  },
  {
   "attachments": {},
   "cell_type": "markdown",
   "metadata": {},
   "source": [
    "## Evolving based on a given population"
   ]
  },
  {
   "cell_type": "code",
   "execution_count": null,
   "metadata": {},
   "outputs": [],
   "source": [
    "from oganesson.genetic_algorithms import GA\n",
    "from oganesson.ogstructure import OgStructure\n",
    "from ase.build import bulk\n",
    "\n",
    "Cu = bulk('Cu', 'fcc', a=3.6)\n",
    "structure = OgStructure(Cu.repeat([2,2,2]))\n",
    "print(structure())\n",
    "ga = GA(population=structure.substitutions('Cu',{'Fe':4,'Cu':4}))\n",
    "for i in range(10):\n",
    "    ga.evolve()"
   ]
  }
 ],
 "metadata": {
  "kernelspec": {
   "display_name": "Python 3",
   "language": "python",
   "name": "python3"
  },
  "language_info": {
   "codemirror_mode": {
    "name": "ipython",
    "version": 3
   },
   "file_extension": ".py",
   "mimetype": "text/x-python",
   "name": "python",
   "nbconvert_exporter": "python",
   "pygments_lexer": "ipython3",
   "version": "3.11.4"
  },
  "orig_nbformat": 4
 },
 "nbformat": 4,
 "nbformat_minor": 2
}
