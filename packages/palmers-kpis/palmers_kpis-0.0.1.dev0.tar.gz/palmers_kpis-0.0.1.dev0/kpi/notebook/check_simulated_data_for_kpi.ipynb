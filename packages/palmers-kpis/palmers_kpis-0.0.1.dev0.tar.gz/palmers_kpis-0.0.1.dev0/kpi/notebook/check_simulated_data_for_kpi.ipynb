{
 "cells": [
  {
   "cell_type": "code",
   "execution_count": 3,
   "metadata": {
    "collapsed": true
   },
   "outputs": [],
   "source": [
    "import pandas as pd\n",
    "import numpy as np\n",
    "from kpi.miss_sales_kpi.miss_sales_kpi_metric import MissSalesKPI\n",
    "from kpi.stock_kpi.stock_kpi_metric import StockKPI\n",
    "from kpi.tests.kpi.check_kpi_metirc import *"
   ]
  },
  {
   "cell_type": "code",
   "execution_count": 4,
   "outputs": [],
   "source": [
    "df_sales, prices, quantity = simulate_data()"
   ],
   "metadata": {
    "collapsed": false
   }
  },
  {
   "cell_type": "code",
   "execution_count": 5,
   "outputs": [],
   "source": [
    "miss_sales_kpi = MissSalesKPI(sales_col='sales', stock_col='stock', date_col='date', store_col='store', sku_col='sku', price_col='price')\n",
    "stock_kpi = StockKPI(sales_col='sales', stock_col='stock', date_col='date', store_col='store')\n"
   ],
   "metadata": {
    "collapsed": false
   }
  },
  {
   "cell_type": "markdown",
   "source": [
    "# check miss_sales_kpi"
   ],
   "metadata": {
    "collapsed": false
   }
  },
  {
   "cell_type": "code",
   "execution_count": 6,
   "outputs": [
    {
     "name": "stdout",
     "output_type": "stream",
     "text": [
      "Results from MissSalesKPI class:\n",
      "A = 3149301.4499122165\n",
      "B = 54.63333618278774\n",
      "C = 70.54118344862881\n",
      "D = 1.7347763322025137e-05\n",
      "E = 1.7347763322025137e-05\n"
     ]
    }
   ],
   "source": [
    "df_stock = df_sales.drop(columns=['sales', 'price'])\n",
    "print(\"Results from MissSalesKPI class:\")\n",
    "print(\"A =\", miss_sales_kpi.calc_A(df_sales))\n",
    "print(\"B =\", miss_sales_kpi.calc_B(df_stock, prices, threshold=14))\n",
    "print(\"C =\", miss_sales_kpi.calc_C(df_stock, quantity, threshold=14))\n",
    "print(\"D =\", miss_sales_kpi.calc_D(df_sales, df_stock, prices))\n",
    "print(\"E =\", miss_sales_kpi.calc_E(df_sales, df_stock, prices))\n",
    "\n"
   ],
   "metadata": {
    "collapsed": false
   }
  },
  {
   "cell_type": "markdown",
   "source": [
    "# check stock_kpi"
   ],
   "metadata": {
    "collapsed": false
   }
  },
  {
   "cell_type": "code",
   "execution_count": 7,
   "outputs": [
    {
     "name": "stdout",
     "output_type": "stream",
     "text": [
      "\n",
      "Results from StockKPI class:\n",
      "G = 0.5000508589051909\n",
      "H = 44.92544934436254\n",
      "I = 0.5000508589051909\n",
      "1/G - 1 = 0.9997965850701578\n",
      "Comparison of years 2022 and 2023:\n",
      "2022:\n",
      "  G = 0.5091729984770457\n",
      "  H = 45.7449984201202\n",
      "  I = 0.5091729984770458\n",
      "  J = {1: 0.5148400681840971, 2: 0.5317429132753297, 3: 0.5092333799161509, 4: 0.51168857742084, 5: 0.4809974127932911, 6: 0.4606295491067209, 7: 0.49587328848814466, 8: 0.5767087276550998, 9: 0.4884537474679271, 10: 0.5309847198641766, 11: 0.519447859617749, 12: 0.5069368814811307}\n",
      "  1/G - 1 = 0.9639690301548494\n",
      "2023:\n",
      "  G = 0.4912781300757851\n",
      "  H = 44.13729194473287\n",
      "  I = 0.4912781300757851\n",
      "  J = {1: 0.5365886957313188, 2: 0.48837090163934427, 3: 0.46089842008815807, 4: 0.4905533710559125, 5: 0.48595253367543295, 6: 0.47719123505976097, 7: 0.4951321279554937, 8: 0.5163026760996616, 9: 0.4670513209839052, 10: 0.4444927746363153, 11: 0.5006418485237484, 12: 0.5313917955366237}\n",
      "  1/G - 1 = 1.0355068519857356\n"
     ]
    }
   ],
   "source": [
    "print(\"\\nResults from StockKPI class:\")\n",
    "print(\"G =\", stock_kpi.calc_G(df_sales))\n",
    "print(\"H =\", stock_kpi.calc_H(df_sales, prices))\n",
    "print(\"I =\", stock_kpi.calc_I(df_sales, prices))\n",
    "print(\"1/G - 1 =\", stock_kpi.calc_1_over_G(df_sales))\n",
    "print(\"Comparison of years 2022 and 2023:\")\n",
    "comparison = stock_kpi.compare_years(df_sales, prices)\n",
    "for year, metrics in comparison.items():\n",
    "    print(f\"{year}:\")\n",
    "    for metric, value in metrics.items():\n",
    "        print(f\"  {metric} = {value}\")"
   ],
   "metadata": {
    "collapsed": false
   }
  },
  {
   "cell_type": "code",
   "execution_count": null,
   "outputs": [],
   "source": [],
   "metadata": {
    "collapsed": false
   }
  },
  {
   "cell_type": "markdown",
   "source": [
    "# check kpi miss sales for first_kpi and second_kpi"
   ],
   "metadata": {
    "collapsed": false
   }
  },
  {
   "cell_type": "code",
   "execution_count": null,
   "outputs": [],
   "source": [],
   "metadata": {
    "collapsed": false
   }
  },
  {
   "cell_type": "code",
   "execution_count": 2,
   "outputs": [],
   "source": [
    "import pandas as pd\n",
    "import numpy as np"
   ],
   "metadata": {
    "collapsed": false
   }
  },
  {
   "cell_type": "code",
   "execution_count": 3,
   "outputs": [],
   "source": [
    "df_stock = pd.read_csv(r'C:\\Users\\yotam\\Downloads\\f_stock_full_outlet_141.csv')\n",
    "df_delivery = pd.read_csv(r'C:\\Users\\yotam\\Downloads\\delivery_stock.csv')"
   ],
   "metadata": {
    "collapsed": false
   }
  },
  {
   "cell_type": "code",
   "execution_count": 4,
   "outputs": [
    {
     "data": {
      "text/plain": "    store              sku valid_from_date valid_to_date  stock\n0     141  100549651000003      2008-01-01    2015-01-31    0.0\n1     141  100549651000003      2015-02-01    2016-01-31    0.0\n2     141  100549651000003      2016-02-01    2016-07-31    0.0\n3     141  100549651000003      2017-03-08    2017-03-09    2.0\n4     141  100549651000003      2017-03-10    2017-03-10    0.0\n..    ...              ...             ...           ...    ...\n93    141  100549651000003      2022-12-14    2022-12-20    7.0\n94    141  100549651000003      2022-12-21    2022-12-23    6.0\n95    141  100549651000003      2022-12-24    2022-12-31    5.0\n96    141  100549651000003      2023-01-01    2023-01-03    4.0\n97    141  100549651000003      2023-01-04    2099-12-31    6.0\n\n[98 rows x 5 columns]",
      "text/html": "<div>\n<style scoped>\n    .dataframe tbody tr th:only-of-type {\n        vertical-align: middle;\n    }\n\n    .dataframe tbody tr th {\n        vertical-align: top;\n    }\n\n    .dataframe thead th {\n        text-align: right;\n    }\n</style>\n<table border=\"1\" class=\"dataframe\">\n  <thead>\n    <tr style=\"text-align: right;\">\n      <th></th>\n      <th>store</th>\n      <th>sku</th>\n      <th>valid_from_date</th>\n      <th>valid_to_date</th>\n      <th>stock</th>\n    </tr>\n  </thead>\n  <tbody>\n    <tr>\n      <th>0</th>\n      <td>141</td>\n      <td>100549651000003</td>\n      <td>2008-01-01</td>\n      <td>2015-01-31</td>\n      <td>0.0</td>\n    </tr>\n    <tr>\n      <th>1</th>\n      <td>141</td>\n      <td>100549651000003</td>\n      <td>2015-02-01</td>\n      <td>2016-01-31</td>\n      <td>0.0</td>\n    </tr>\n    <tr>\n      <th>2</th>\n      <td>141</td>\n      <td>100549651000003</td>\n      <td>2016-02-01</td>\n      <td>2016-07-31</td>\n      <td>0.0</td>\n    </tr>\n    <tr>\n      <th>3</th>\n      <td>141</td>\n      <td>100549651000003</td>\n      <td>2017-03-08</td>\n      <td>2017-03-09</td>\n      <td>2.0</td>\n    </tr>\n    <tr>\n      <th>4</th>\n      <td>141</td>\n      <td>100549651000003</td>\n      <td>2017-03-10</td>\n      <td>2017-03-10</td>\n      <td>0.0</td>\n    </tr>\n    <tr>\n      <th>...</th>\n      <td>...</td>\n      <td>...</td>\n      <td>...</td>\n      <td>...</td>\n      <td>...</td>\n    </tr>\n    <tr>\n      <th>93</th>\n      <td>141</td>\n      <td>100549651000003</td>\n      <td>2022-12-14</td>\n      <td>2022-12-20</td>\n      <td>7.0</td>\n    </tr>\n    <tr>\n      <th>94</th>\n      <td>141</td>\n      <td>100549651000003</td>\n      <td>2022-12-21</td>\n      <td>2022-12-23</td>\n      <td>6.0</td>\n    </tr>\n    <tr>\n      <th>95</th>\n      <td>141</td>\n      <td>100549651000003</td>\n      <td>2022-12-24</td>\n      <td>2022-12-31</td>\n      <td>5.0</td>\n    </tr>\n    <tr>\n      <th>96</th>\n      <td>141</td>\n      <td>100549651000003</td>\n      <td>2023-01-01</td>\n      <td>2023-01-03</td>\n      <td>4.0</td>\n    </tr>\n    <tr>\n      <th>97</th>\n      <td>141</td>\n      <td>100549651000003</td>\n      <td>2023-01-04</td>\n      <td>2099-12-31</td>\n      <td>6.0</td>\n    </tr>\n  </tbody>\n</table>\n<p>98 rows × 5 columns</p>\n</div>"
     },
     "execution_count": 4,
     "metadata": {},
     "output_type": "execute_result"
    }
   ],
   "source": [
    "df_stock"
   ],
   "metadata": {
    "collapsed": false
   }
  },
  {
   "cell_type": "code",
   "execution_count": 5,
   "outputs": [
    {
     "data": {
      "text/plain": "   delivery_date              sku  store  total_delivered_quantity\n0     2018-01-23  100549651000003    141                         1\n1     2018-03-08  100549651000003    141                         2\n2     2018-07-12  100549651000003    141                         2\n3     2018-08-07  100549651000003    141                         1\n4     2018-09-13  100549651000003    141                         2\n5     2018-10-02  100549651000003    141                         2\n6     2018-11-29  100549651000003    141                         1\n7     2018-12-11  100549651000003    141                         1\n8     2018-12-18  100549651000003    141                         1\n9     2019-03-19  100549651000003    141                         5\n10    2019-04-04  100549651000003    141                         1\n11    2019-05-07  100549651000003    141                         2\n12    2019-05-16  100549651000003    141                         1\n13    2019-06-13  100549651000003    141                         2\n14    2019-07-04  100549651000003    141                         2\n15    2019-12-12  100549651000003    141                         2\n16    2020-02-21  100549651000003    141                         2\n17    2020-05-26  100549651000003    141                         2\n18    2020-06-02  100549651000003    141                         1\n19    2020-08-04  100549651000003    141                         2\n20    2020-08-21  100549651000003    141                         2\n21    2020-09-25  100549651000003    141                         1\n22    2021-02-25  100549651000003    141                         1\n23    2021-03-23  100549651000003    141                         3\n24    2021-03-30  100549651000003    141                         2\n25    2021-04-06  100549651000003    141                         2\n26    2021-12-24  100549651000003    141                         1\n27    2022-01-03  100549651000003    141                         3\n28    2022-01-04  100549651000003    141                         3\n29    2022-03-01  100549651000003    141                         2\n30    2022-05-12  100549651000003    141                         2\n31    2022-05-27  100549651000003    141                         2\n32    2022-05-31  100549651000003    141                         1\n33    2022-06-07  100549651000003    141                         1\n34    2022-10-11  100549651000003    141                         1\n35    2022-12-01  100549651000003    141                         1\n36    2022-12-09  100549651000003    141                         3\n37    2022-12-13  100549651000003    141                         4\n38    2023-01-03  100549651000003    141                         2",
      "text/html": "<div>\n<style scoped>\n    .dataframe tbody tr th:only-of-type {\n        vertical-align: middle;\n    }\n\n    .dataframe tbody tr th {\n        vertical-align: top;\n    }\n\n    .dataframe thead th {\n        text-align: right;\n    }\n</style>\n<table border=\"1\" class=\"dataframe\">\n  <thead>\n    <tr style=\"text-align: right;\">\n      <th></th>\n      <th>delivery_date</th>\n      <th>sku</th>\n      <th>store</th>\n      <th>total_delivered_quantity</th>\n    </tr>\n  </thead>\n  <tbody>\n    <tr>\n      <th>0</th>\n      <td>2018-01-23</td>\n      <td>100549651000003</td>\n      <td>141</td>\n      <td>1</td>\n    </tr>\n    <tr>\n      <th>1</th>\n      <td>2018-03-08</td>\n      <td>100549651000003</td>\n      <td>141</td>\n      <td>2</td>\n    </tr>\n    <tr>\n      <th>2</th>\n      <td>2018-07-12</td>\n      <td>100549651000003</td>\n      <td>141</td>\n      <td>2</td>\n    </tr>\n    <tr>\n      <th>3</th>\n      <td>2018-08-07</td>\n      <td>100549651000003</td>\n      <td>141</td>\n      <td>1</td>\n    </tr>\n    <tr>\n      <th>4</th>\n      <td>2018-09-13</td>\n      <td>100549651000003</td>\n      <td>141</td>\n      <td>2</td>\n    </tr>\n    <tr>\n      <th>5</th>\n      <td>2018-10-02</td>\n      <td>100549651000003</td>\n      <td>141</td>\n      <td>2</td>\n    </tr>\n    <tr>\n      <th>6</th>\n      <td>2018-11-29</td>\n      <td>100549651000003</td>\n      <td>141</td>\n      <td>1</td>\n    </tr>\n    <tr>\n      <th>7</th>\n      <td>2018-12-11</td>\n      <td>100549651000003</td>\n      <td>141</td>\n      <td>1</td>\n    </tr>\n    <tr>\n      <th>8</th>\n      <td>2018-12-18</td>\n      <td>100549651000003</td>\n      <td>141</td>\n      <td>1</td>\n    </tr>\n    <tr>\n      <th>9</th>\n      <td>2019-03-19</td>\n      <td>100549651000003</td>\n      <td>141</td>\n      <td>5</td>\n    </tr>\n    <tr>\n      <th>10</th>\n      <td>2019-04-04</td>\n      <td>100549651000003</td>\n      <td>141</td>\n      <td>1</td>\n    </tr>\n    <tr>\n      <th>11</th>\n      <td>2019-05-07</td>\n      <td>100549651000003</td>\n      <td>141</td>\n      <td>2</td>\n    </tr>\n    <tr>\n      <th>12</th>\n      <td>2019-05-16</td>\n      <td>100549651000003</td>\n      <td>141</td>\n      <td>1</td>\n    </tr>\n    <tr>\n      <th>13</th>\n      <td>2019-06-13</td>\n      <td>100549651000003</td>\n      <td>141</td>\n      <td>2</td>\n    </tr>\n    <tr>\n      <th>14</th>\n      <td>2019-07-04</td>\n      <td>100549651000003</td>\n      <td>141</td>\n      <td>2</td>\n    </tr>\n    <tr>\n      <th>15</th>\n      <td>2019-12-12</td>\n      <td>100549651000003</td>\n      <td>141</td>\n      <td>2</td>\n    </tr>\n    <tr>\n      <th>16</th>\n      <td>2020-02-21</td>\n      <td>100549651000003</td>\n      <td>141</td>\n      <td>2</td>\n    </tr>\n    <tr>\n      <th>17</th>\n      <td>2020-05-26</td>\n      <td>100549651000003</td>\n      <td>141</td>\n      <td>2</td>\n    </tr>\n    <tr>\n      <th>18</th>\n      <td>2020-06-02</td>\n      <td>100549651000003</td>\n      <td>141</td>\n      <td>1</td>\n    </tr>\n    <tr>\n      <th>19</th>\n      <td>2020-08-04</td>\n      <td>100549651000003</td>\n      <td>141</td>\n      <td>2</td>\n    </tr>\n    <tr>\n      <th>20</th>\n      <td>2020-08-21</td>\n      <td>100549651000003</td>\n      <td>141</td>\n      <td>2</td>\n    </tr>\n    <tr>\n      <th>21</th>\n      <td>2020-09-25</td>\n      <td>100549651000003</td>\n      <td>141</td>\n      <td>1</td>\n    </tr>\n    <tr>\n      <th>22</th>\n      <td>2021-02-25</td>\n      <td>100549651000003</td>\n      <td>141</td>\n      <td>1</td>\n    </tr>\n    <tr>\n      <th>23</th>\n      <td>2021-03-23</td>\n      <td>100549651000003</td>\n      <td>141</td>\n      <td>3</td>\n    </tr>\n    <tr>\n      <th>24</th>\n      <td>2021-03-30</td>\n      <td>100549651000003</td>\n      <td>141</td>\n      <td>2</td>\n    </tr>\n    <tr>\n      <th>25</th>\n      <td>2021-04-06</td>\n      <td>100549651000003</td>\n      <td>141</td>\n      <td>2</td>\n    </tr>\n    <tr>\n      <th>26</th>\n      <td>2021-12-24</td>\n      <td>100549651000003</td>\n      <td>141</td>\n      <td>1</td>\n    </tr>\n    <tr>\n      <th>27</th>\n      <td>2022-01-03</td>\n      <td>100549651000003</td>\n      <td>141</td>\n      <td>3</td>\n    </tr>\n    <tr>\n      <th>28</th>\n      <td>2022-01-04</td>\n      <td>100549651000003</td>\n      <td>141</td>\n      <td>3</td>\n    </tr>\n    <tr>\n      <th>29</th>\n      <td>2022-03-01</td>\n      <td>100549651000003</td>\n      <td>141</td>\n      <td>2</td>\n    </tr>\n    <tr>\n      <th>30</th>\n      <td>2022-05-12</td>\n      <td>100549651000003</td>\n      <td>141</td>\n      <td>2</td>\n    </tr>\n    <tr>\n      <th>31</th>\n      <td>2022-05-27</td>\n      <td>100549651000003</td>\n      <td>141</td>\n      <td>2</td>\n    </tr>\n    <tr>\n      <th>32</th>\n      <td>2022-05-31</td>\n      <td>100549651000003</td>\n      <td>141</td>\n      <td>1</td>\n    </tr>\n    <tr>\n      <th>33</th>\n      <td>2022-06-07</td>\n      <td>100549651000003</td>\n      <td>141</td>\n      <td>1</td>\n    </tr>\n    <tr>\n      <th>34</th>\n      <td>2022-10-11</td>\n      <td>100549651000003</td>\n      <td>141</td>\n      <td>1</td>\n    </tr>\n    <tr>\n      <th>35</th>\n      <td>2022-12-01</td>\n      <td>100549651000003</td>\n      <td>141</td>\n      <td>1</td>\n    </tr>\n    <tr>\n      <th>36</th>\n      <td>2022-12-09</td>\n      <td>100549651000003</td>\n      <td>141</td>\n      <td>3</td>\n    </tr>\n    <tr>\n      <th>37</th>\n      <td>2022-12-13</td>\n      <td>100549651000003</td>\n      <td>141</td>\n      <td>4</td>\n    </tr>\n    <tr>\n      <th>38</th>\n      <td>2023-01-03</td>\n      <td>100549651000003</td>\n      <td>141</td>\n      <td>2</td>\n    </tr>\n  </tbody>\n</table>\n</div>"
     },
     "execution_count": 5,
     "metadata": {},
     "output_type": "execute_result"
    }
   ],
   "source": [
    "df_delivery"
   ],
   "metadata": {
    "collapsed": false
   }
  },
  {
   "cell_type": "code",
   "execution_count": 9,
   "outputs": [],
   "source": [
    "# Convert the date columns to datetime format\n",
    "# df_stock['valid_from_date'] = pd.to_datetime(df_stock['valid_from_date'])\n",
    "# df_stock['valid_to_date'] = pd.to_datetime(df_stock['valid_to_date'])\n",
    "# df_delivery['delivery_date'] = pd.to_datetime(df_delivery['delivery_date'])\n",
    "\n",
    "def get_cumulative_stock_including_delivery(stock_data, delivery_data):\n",
    "    # Initialize an empty dataframe to store the result\n",
    "    result = pd.DataFrame()\n",
    "\n",
    "    # Loop over each row in the delivery data\n",
    "    for index, row in delivery_data.iterrows():\n",
    "        # Get the SKU, store and total delivered quantity from the delivery data\n",
    "        sku = row['sku']\n",
    "        store = row['store']\n",
    "        delivery_date = row['delivery_date']\n",
    "        delivered_quantity = row['total_delivered_quantity']\n",
    "\n",
    "        # Find the rows in the stock data that match the SKU and store, and where the valid_to_date is less than or equal to the delivery_date\n",
    "        matching_rows = stock_data[(stock_data['sku'] == sku) & (stock_data['store'] == store) & (stock_data['valid_to_date'] <= delivery_date)]\n",
    "\n",
    "        # Get the last row before the delivery date\n",
    "        last_row_before_delivery = matching_rows.sort_values(by='valid_to_date').tail(1)\n",
    "\n",
    "        # If there is a last row before delivery, add the delivered quantity to the stock\n",
    "        if not last_row_before_delivery.empty:\n",
    "            last_row_before_delivery['stock'] += delivered_quantity\n",
    "\n",
    "        # Append the last row before delivery to the result dataframe\n",
    "        result = result.append(last_row_before_delivery, ignore_index=True)\n",
    "\n",
    "    return result\n",
    "\n",
    "# Get the last stock data before the delivery including the delivered quantity\n",
    "# cumulative_stock_including_delivery = get_cumulative_stock_including_delivery(df_stock, df_delivery)\n"
   ],
   "metadata": {
    "collapsed": false
   }
  },
  {
   "cell_type": "code",
   "execution_count": 10,
   "outputs": [],
   "source": [
    "def get_cumulative_sales_window(df_sales:pd.DataFrame, start_date:str, end_date:str) -> pd.DataFrame:\n",
    "    \"\"\"\n",
    "    This function calculates the cumulative sales for each sku and store in the given date range.\n",
    "    Args:\n",
    "        df_sales:\n",
    "        start_date:\n",
    "        end_date:\n",
    "\n",
    "    Returns:\n",
    "\n",
    "    \"\"\"\n",
    "    df_sales_filter = df_sales[(df_sales['date'] >= start_date) & (df_sales['date'] <= end_date)]\n",
    "    df_sales_filter = df_sales_filter.groupby(['sku', 'store']).agg({'sales': 'sum'}).to_dict(\"index\")\n",
    "    return df_sales_filter"
   ],
   "metadata": {
    "collapsed": false
   }
  },
  {
   "cell_type": "code",
   "execution_count": null,
   "outputs": [],
   "source": [
    "cumulative_stock = get_cumulative_stock_including_delivery('2021-01-01', '2021-01-31', df_stock, df_delivery)"
   ],
   "metadata": {
    "collapsed": false
   }
  },
  {
   "cell_type": "code",
   "execution_count": null,
   "outputs": [],
   "source": [
    "stock_kpi.calc_G(df_sales)"
   ],
   "metadata": {
    "collapsed": false
   }
  },
  {
   "cell_type": "code",
   "execution_count": 13,
   "outputs": [
    {
     "data": {
      "text/plain": "   delivery_date              sku  store  total_delivered_quantity\n0     2018-01-23  100549651000003    141                         1\n1     2018-03-08  100549651000003    141                         2\n2     2018-07-12  100549651000003    141                         2\n3     2018-08-07  100549651000003    141                         1\n4     2018-09-13  100549651000003    141                         2\n5     2018-10-02  100549651000003    141                         2\n6     2018-11-29  100549651000003    141                         1\n7     2018-12-11  100549651000003    141                         1\n8     2018-12-18  100549651000003    141                         1\n9     2019-03-19  100549651000003    141                         5\n10    2019-04-04  100549651000003    141                         1\n11    2019-05-07  100549651000003    141                         2\n12    2019-05-16  100549651000003    141                         1\n13    2019-06-13  100549651000003    141                         2\n14    2019-07-04  100549651000003    141                         2\n15    2019-12-12  100549651000003    141                         2\n16    2020-02-21  100549651000003    141                         2\n17    2020-05-26  100549651000003    141                         2\n18    2020-06-02  100549651000003    141                         1\n19    2020-08-04  100549651000003    141                         2\n20    2020-08-21  100549651000003    141                         2\n21    2020-09-25  100549651000003    141                         1\n22    2021-02-25  100549651000003    141                         1\n23    2021-03-23  100549651000003    141                         3\n24    2021-03-30  100549651000003    141                         2\n25    2021-04-06  100549651000003    141                         2\n26    2021-12-24  100549651000003    141                         1\n27    2022-01-03  100549651000003    141                         3\n28    2022-01-04  100549651000003    141                         3\n29    2022-03-01  100549651000003    141                         2\n30    2022-05-12  100549651000003    141                         2\n31    2022-05-27  100549651000003    141                         2\n32    2022-05-31  100549651000003    141                         1\n33    2022-06-07  100549651000003    141                         1\n34    2022-10-11  100549651000003    141                         1\n35    2022-12-01  100549651000003    141                         1\n36    2022-12-09  100549651000003    141                         3\n37    2022-12-13  100549651000003    141                         4\n38    2023-01-03  100549651000003    141                         2",
      "text/html": "<div>\n<style scoped>\n    .dataframe tbody tr th:only-of-type {\n        vertical-align: middle;\n    }\n\n    .dataframe tbody tr th {\n        vertical-align: top;\n    }\n\n    .dataframe thead th {\n        text-align: right;\n    }\n</style>\n<table border=\"1\" class=\"dataframe\">\n  <thead>\n    <tr style=\"text-align: right;\">\n      <th></th>\n      <th>delivery_date</th>\n      <th>sku</th>\n      <th>store</th>\n      <th>total_delivered_quantity</th>\n    </tr>\n  </thead>\n  <tbody>\n    <tr>\n      <th>0</th>\n      <td>2018-01-23</td>\n      <td>100549651000003</td>\n      <td>141</td>\n      <td>1</td>\n    </tr>\n    <tr>\n      <th>1</th>\n      <td>2018-03-08</td>\n      <td>100549651000003</td>\n      <td>141</td>\n      <td>2</td>\n    </tr>\n    <tr>\n      <th>2</th>\n      <td>2018-07-12</td>\n      <td>100549651000003</td>\n      <td>141</td>\n      <td>2</td>\n    </tr>\n    <tr>\n      <th>3</th>\n      <td>2018-08-07</td>\n      <td>100549651000003</td>\n      <td>141</td>\n      <td>1</td>\n    </tr>\n    <tr>\n      <th>4</th>\n      <td>2018-09-13</td>\n      <td>100549651000003</td>\n      <td>141</td>\n      <td>2</td>\n    </tr>\n    <tr>\n      <th>5</th>\n      <td>2018-10-02</td>\n      <td>100549651000003</td>\n      <td>141</td>\n      <td>2</td>\n    </tr>\n    <tr>\n      <th>6</th>\n      <td>2018-11-29</td>\n      <td>100549651000003</td>\n      <td>141</td>\n      <td>1</td>\n    </tr>\n    <tr>\n      <th>7</th>\n      <td>2018-12-11</td>\n      <td>100549651000003</td>\n      <td>141</td>\n      <td>1</td>\n    </tr>\n    <tr>\n      <th>8</th>\n      <td>2018-12-18</td>\n      <td>100549651000003</td>\n      <td>141</td>\n      <td>1</td>\n    </tr>\n    <tr>\n      <th>9</th>\n      <td>2019-03-19</td>\n      <td>100549651000003</td>\n      <td>141</td>\n      <td>5</td>\n    </tr>\n    <tr>\n      <th>10</th>\n      <td>2019-04-04</td>\n      <td>100549651000003</td>\n      <td>141</td>\n      <td>1</td>\n    </tr>\n    <tr>\n      <th>11</th>\n      <td>2019-05-07</td>\n      <td>100549651000003</td>\n      <td>141</td>\n      <td>2</td>\n    </tr>\n    <tr>\n      <th>12</th>\n      <td>2019-05-16</td>\n      <td>100549651000003</td>\n      <td>141</td>\n      <td>1</td>\n    </tr>\n    <tr>\n      <th>13</th>\n      <td>2019-06-13</td>\n      <td>100549651000003</td>\n      <td>141</td>\n      <td>2</td>\n    </tr>\n    <tr>\n      <th>14</th>\n      <td>2019-07-04</td>\n      <td>100549651000003</td>\n      <td>141</td>\n      <td>2</td>\n    </tr>\n    <tr>\n      <th>15</th>\n      <td>2019-12-12</td>\n      <td>100549651000003</td>\n      <td>141</td>\n      <td>2</td>\n    </tr>\n    <tr>\n      <th>16</th>\n      <td>2020-02-21</td>\n      <td>100549651000003</td>\n      <td>141</td>\n      <td>2</td>\n    </tr>\n    <tr>\n      <th>17</th>\n      <td>2020-05-26</td>\n      <td>100549651000003</td>\n      <td>141</td>\n      <td>2</td>\n    </tr>\n    <tr>\n      <th>18</th>\n      <td>2020-06-02</td>\n      <td>100549651000003</td>\n      <td>141</td>\n      <td>1</td>\n    </tr>\n    <tr>\n      <th>19</th>\n      <td>2020-08-04</td>\n      <td>100549651000003</td>\n      <td>141</td>\n      <td>2</td>\n    </tr>\n    <tr>\n      <th>20</th>\n      <td>2020-08-21</td>\n      <td>100549651000003</td>\n      <td>141</td>\n      <td>2</td>\n    </tr>\n    <tr>\n      <th>21</th>\n      <td>2020-09-25</td>\n      <td>100549651000003</td>\n      <td>141</td>\n      <td>1</td>\n    </tr>\n    <tr>\n      <th>22</th>\n      <td>2021-02-25</td>\n      <td>100549651000003</td>\n      <td>141</td>\n      <td>1</td>\n    </tr>\n    <tr>\n      <th>23</th>\n      <td>2021-03-23</td>\n      <td>100549651000003</td>\n      <td>141</td>\n      <td>3</td>\n    </tr>\n    <tr>\n      <th>24</th>\n      <td>2021-03-30</td>\n      <td>100549651000003</td>\n      <td>141</td>\n      <td>2</td>\n    </tr>\n    <tr>\n      <th>25</th>\n      <td>2021-04-06</td>\n      <td>100549651000003</td>\n      <td>141</td>\n      <td>2</td>\n    </tr>\n    <tr>\n      <th>26</th>\n      <td>2021-12-24</td>\n      <td>100549651000003</td>\n      <td>141</td>\n      <td>1</td>\n    </tr>\n    <tr>\n      <th>27</th>\n      <td>2022-01-03</td>\n      <td>100549651000003</td>\n      <td>141</td>\n      <td>3</td>\n    </tr>\n    <tr>\n      <th>28</th>\n      <td>2022-01-04</td>\n      <td>100549651000003</td>\n      <td>141</td>\n      <td>3</td>\n    </tr>\n    <tr>\n      <th>29</th>\n      <td>2022-03-01</td>\n      <td>100549651000003</td>\n      <td>141</td>\n      <td>2</td>\n    </tr>\n    <tr>\n      <th>30</th>\n      <td>2022-05-12</td>\n      <td>100549651000003</td>\n      <td>141</td>\n      <td>2</td>\n    </tr>\n    <tr>\n      <th>31</th>\n      <td>2022-05-27</td>\n      <td>100549651000003</td>\n      <td>141</td>\n      <td>2</td>\n    </tr>\n    <tr>\n      <th>32</th>\n      <td>2022-05-31</td>\n      <td>100549651000003</td>\n      <td>141</td>\n      <td>1</td>\n    </tr>\n    <tr>\n      <th>33</th>\n      <td>2022-06-07</td>\n      <td>100549651000003</td>\n      <td>141</td>\n      <td>1</td>\n    </tr>\n    <tr>\n      <th>34</th>\n      <td>2022-10-11</td>\n      <td>100549651000003</td>\n      <td>141</td>\n      <td>1</td>\n    </tr>\n    <tr>\n      <th>35</th>\n      <td>2022-12-01</td>\n      <td>100549651000003</td>\n      <td>141</td>\n      <td>1</td>\n    </tr>\n    <tr>\n      <th>36</th>\n      <td>2022-12-09</td>\n      <td>100549651000003</td>\n      <td>141</td>\n      <td>3</td>\n    </tr>\n    <tr>\n      <th>37</th>\n      <td>2022-12-13</td>\n      <td>100549651000003</td>\n      <td>141</td>\n      <td>4</td>\n    </tr>\n    <tr>\n      <th>38</th>\n      <td>2023-01-03</td>\n      <td>100549651000003</td>\n      <td>141</td>\n      <td>2</td>\n    </tr>\n  </tbody>\n</table>\n</div>"
     },
     "execution_count": 13,
     "metadata": {},
     "output_type": "execute_result"
    }
   ],
   "source": [
    "df_delivery"
   ],
   "metadata": {
    "collapsed": false
   }
  },
  {
   "cell_type": "code",
   "execution_count": 12,
   "outputs": [
    {
     "data": {
      "text/plain": "    store              sku valid_from_date valid_to_date  stock\n0     141  100549651000003      2008-01-01    2015-01-31    0.0\n1     141  100549651000003      2015-02-01    2016-01-31    0.0\n2     141  100549651000003      2016-02-01    2016-07-31    0.0\n3     141  100549651000003      2017-03-08    2017-03-09    2.0\n4     141  100549651000003      2017-03-10    2017-03-10    0.0\n..    ...              ...             ...           ...    ...\n93    141  100549651000003      2022-12-14    2022-12-20    7.0\n94    141  100549651000003      2022-12-21    2022-12-23    6.0\n95    141  100549651000003      2022-12-24    2022-12-31    5.0\n96    141  100549651000003      2023-01-01    2023-01-03    4.0\n97    141  100549651000003      2023-01-04    2099-12-31    6.0\n\n[98 rows x 5 columns]",
      "text/html": "<div>\n<style scoped>\n    .dataframe tbody tr th:only-of-type {\n        vertical-align: middle;\n    }\n\n    .dataframe tbody tr th {\n        vertical-align: top;\n    }\n\n    .dataframe thead th {\n        text-align: right;\n    }\n</style>\n<table border=\"1\" class=\"dataframe\">\n  <thead>\n    <tr style=\"text-align: right;\">\n      <th></th>\n      <th>store</th>\n      <th>sku</th>\n      <th>valid_from_date</th>\n      <th>valid_to_date</th>\n      <th>stock</th>\n    </tr>\n  </thead>\n  <tbody>\n    <tr>\n      <th>0</th>\n      <td>141</td>\n      <td>100549651000003</td>\n      <td>2008-01-01</td>\n      <td>2015-01-31</td>\n      <td>0.0</td>\n    </tr>\n    <tr>\n      <th>1</th>\n      <td>141</td>\n      <td>100549651000003</td>\n      <td>2015-02-01</td>\n      <td>2016-01-31</td>\n      <td>0.0</td>\n    </tr>\n    <tr>\n      <th>2</th>\n      <td>141</td>\n      <td>100549651000003</td>\n      <td>2016-02-01</td>\n      <td>2016-07-31</td>\n      <td>0.0</td>\n    </tr>\n    <tr>\n      <th>3</th>\n      <td>141</td>\n      <td>100549651000003</td>\n      <td>2017-03-08</td>\n      <td>2017-03-09</td>\n      <td>2.0</td>\n    </tr>\n    <tr>\n      <th>4</th>\n      <td>141</td>\n      <td>100549651000003</td>\n      <td>2017-03-10</td>\n      <td>2017-03-10</td>\n      <td>0.0</td>\n    </tr>\n    <tr>\n      <th>...</th>\n      <td>...</td>\n      <td>...</td>\n      <td>...</td>\n      <td>...</td>\n      <td>...</td>\n    </tr>\n    <tr>\n      <th>93</th>\n      <td>141</td>\n      <td>100549651000003</td>\n      <td>2022-12-14</td>\n      <td>2022-12-20</td>\n      <td>7.0</td>\n    </tr>\n    <tr>\n      <th>94</th>\n      <td>141</td>\n      <td>100549651000003</td>\n      <td>2022-12-21</td>\n      <td>2022-12-23</td>\n      <td>6.0</td>\n    </tr>\n    <tr>\n      <th>95</th>\n      <td>141</td>\n      <td>100549651000003</td>\n      <td>2022-12-24</td>\n      <td>2022-12-31</td>\n      <td>5.0</td>\n    </tr>\n    <tr>\n      <th>96</th>\n      <td>141</td>\n      <td>100549651000003</td>\n      <td>2023-01-01</td>\n      <td>2023-01-03</td>\n      <td>4.0</td>\n    </tr>\n    <tr>\n      <th>97</th>\n      <td>141</td>\n      <td>100549651000003</td>\n      <td>2023-01-04</td>\n      <td>2099-12-31</td>\n      <td>6.0</td>\n    </tr>\n  </tbody>\n</table>\n<p>98 rows × 5 columns</p>\n</div>"
     },
     "execution_count": 12,
     "metadata": {},
     "output_type": "execute_result"
    }
   ],
   "source": [
    "df_stock"
   ],
   "metadata": {
    "collapsed": false
   }
  },
  {
   "cell_type": "code",
   "execution_count": 22,
   "outputs": [],
   "source": [
    "def get_cumulative_stock_including_delivery(start_date:str, end_date:str, df_stock:pd.DataFrame ,df_delivery:pd.DataFrame) -> dict:\n",
    "    \"\"\"\n",
    "    This function calculates the cumulative stock including the delivery for each sku and store in the given date range.\n",
    "    and returns a dictionary with the sku, store as keys and the cumulative stock as values.\n",
    "    Args:\n",
    "        start_date:\n",
    "        end_date:\n",
    "        df_stock:\n",
    "        df_delivery:\n",
    "\n",
    "    Returns:\n",
    "\n",
    "    \"\"\"\n",
    "    x_o = df_stock[(df_stock['valid_from_date'] <= start_date) & (df_stock['valid_to_date'] >= start_date)]\n",
    "    df_delivery_filter = df_delivery[(df_delivery['delivery_date'] >= start_date) & (df_delivery['delivery_date'] <= end_date)]\n",
    "    df_delivery_filter = df_delivery_filter.groupby(['sku', 'store']).agg({'total_delivered_quantity': 'sum'}).to_dict(\"index\")\n",
    "    dict_x0_sku_stock_store = { (sku, store): stock for sku, store, stock in zip(x_o['sku'], x_o['store'], x_o['stock'])}\n",
    "    final_dict = {}\n",
    "    for (sku, store), stock in dict_x0_sku_stock_store.items():\n",
    "        if (sku, store) in df_delivery_filter:\n",
    "            final_dict[(sku, store)] = stock + df_delivery_filter[(sku, store)]['total_delivered_quantity']\n",
    "        else:\n",
    "            final_dict[(sku, store)] = stock\n",
    "    return final_dict\n"
   ],
   "metadata": {
    "collapsed": false
   }
  },
  {
   "cell_type": "code",
   "execution_count": 42,
   "outputs": [],
   "source": [
    "df_final = get_cumulative_stock_including_delivery('2018-01-01', '2023-01-01', df_stock, df_delivery)"
   ],
   "metadata": {
    "collapsed": false
   }
  },
  {
   "cell_type": "code",
   "execution_count": 43,
   "outputs": [
    {
     "data": {
      "text/plain": "{(100549651000003, 141): 70.0}"
     },
     "execution_count": 43,
     "metadata": {},
     "output_type": "execute_result"
    }
   ],
   "source": [
    "df_final"
   ],
   "metadata": {
    "collapsed": false
   }
  },
  {
   "cell_type": "code",
   "execution_count": null,
   "outputs": [],
   "source": [],
   "metadata": {
    "collapsed": false
   }
  },
  {
   "cell_type": "code",
   "execution_count": null,
   "outputs": [],
   "source": [],
   "metadata": {
    "collapsed": false
   }
  },
  {
   "cell_type": "code",
   "execution_count": null,
   "outputs": [],
   "source": [],
   "metadata": {
    "collapsed": false
   }
  }
 ],
 "metadata": {
  "kernelspec": {
   "display_name": "Python 3",
   "language": "python",
   "name": "python3"
  },
  "language_info": {
   "codemirror_mode": {
    "name": "ipython",
    "version": 2
   },
   "file_extension": ".py",
   "mimetype": "text/x-python",
   "name": "python",
   "nbconvert_exporter": "python",
   "pygments_lexer": "ipython2",
   "version": "2.7.6"
  }
 },
 "nbformat": 4,
 "nbformat_minor": 0
}
