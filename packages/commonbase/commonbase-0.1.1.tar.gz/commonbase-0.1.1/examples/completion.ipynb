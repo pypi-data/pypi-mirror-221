{
 "cells": [
  {
   "cell_type": "markdown",
   "metadata": {},
   "source": [
    "## Installation\n",
    "\n",
    "Use pip to install the Commonbase Python SDK"
   ]
  },
  {
   "cell_type": "code",
   "execution_count": null,
   "metadata": {
    "vscode": {
     "languageId": "shellscript"
    }
   },
   "outputs": [],
   "source": [
    "pip install commonbase"
   ]
  },
  {
   "cell_type": "markdown",
   "metadata": {},
   "source": [
    "A project ID is required for all Commonbase requests. You can find your project ID in the [Commonbase Dashboard](https://commonbase.com/test-50727/project/test/overview).\n",
    "\n",
    "To create a completion, provide your project ID and prompt to the `Completion.create` class method."
   ]
  },
  {
   "cell_type": "code",
   "execution_count": null,
   "metadata": {},
   "outputs": [],
   "source": [
    "import commonbase\n",
    "\n",
    "project_id=\"<YOUR PROJECT ID>\"\n",
    "\n",
    "result = commonbase.Completion.create(project_id=project_id, prompt=\"Hello!\")\n",
    "\n",
    "print(result.choices[0].text)"
   ]
  },
  {
   "cell_type": "markdown",
   "metadata": {},
   "source": [
    "Use `Completion.stream` to stream a completion response."
   ]
  },
  {
   "cell_type": "code",
   "execution_count": null,
   "metadata": {},
   "outputs": [],
   "source": [
    "import commonbase\n",
    "\n",
    "project_id=\"<YOUR PROJECT_ID>\"\n",
    "\n",
    "result = commonbase.Completion.stream(project_id=project_id, prompt=\"Write me a short essay about artificial intelligence.\")\n",
    "\n",
    "for completion in result:\n",
    "    print(completion.choices[0].text, end=\"\")"
   ]
  }
 ],
 "metadata": {
  "kernelspec": {
   "display_name": "Python 3",
   "language": "python",
   "name": "python3"
  },
  "language_info": {
   "codemirror_mode": {
    "name": "ipython",
    "version": 3
   },
   "file_extension": ".py",
   "mimetype": "text/x-python",
   "name": "python",
   "nbconvert_exporter": "python",
   "pygments_lexer": "ipython3",
   "version": "3.11.4"
  },
  "orig_nbformat": 4
 },
 "nbformat": 4,
 "nbformat_minor": 2
}
