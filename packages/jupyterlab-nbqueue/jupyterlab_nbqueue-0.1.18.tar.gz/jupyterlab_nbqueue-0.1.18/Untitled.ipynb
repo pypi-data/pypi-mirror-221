{
 "cells": [
  {
   "cell_type": "code",
   "execution_count": 1,
   "id": "88273a33-9597-48df-884b-5066e9c18807",
   "metadata": {
    "tags": []
   },
   "outputs": [
    {
     "name": "stdout",
     "output_type": "stream",
     "text": [
      "hello world\n"
     ]
    }
   ],
   "source": [
    "import time\n",
    "\n",
    "time.sleep(5)\n",
    "print('hello world')"
   ]
  },
  {
   "cell_type": "code",
   "execution_count": null,
   "id": "538d1334-2e6c-4e83-97b4-fab918d43b5a",
   "metadata": {},
   "outputs": [],
   "source": []
  }
 ],
 "metadata": {
  "kernelspec": {
   "display_name": "Python 3 (ipykernel)",
   "language": "python",
   "name": "python3"
  },
  "language_info": {
   "codemirror_mode": {
    "name": "ipython",
    "version": 3
   },
   "file_extension": ".py",
   "mimetype": "text/x-python",
   "name": "python",
   "nbconvert_exporter": "python",
   "pygments_lexer": "ipython3",
   "version": "3.11.4"
  }
 },
 "nbformat": 4,
 "nbformat_minor": 5
}
