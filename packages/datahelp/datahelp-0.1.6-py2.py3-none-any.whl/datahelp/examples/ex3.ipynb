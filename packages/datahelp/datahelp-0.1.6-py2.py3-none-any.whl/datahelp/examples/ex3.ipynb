{
 "cells": [
  {
   "cell_type": "code",
   "execution_count": 7,
   "id": "0b007fe7-2ed9-40db-bf61-51ea261af252",
   "metadata": {
    "tags": []
   },
   "outputs": [],
   "source": [
    "# !pip cache purge"
   ]
  },
  {
   "cell_type": "code",
   "execution_count": 13,
   "id": "0e658a86-9040-44e9-8588-5e26da73ecd1",
   "metadata": {
    "tags": []
   },
   "outputs": [],
   "source": [
    "# !pip install scikit-learn"
   ]
  },
  {
   "cell_type": "code",
   "execution_count": 20,
   "id": "ce382fdc-8f80-4ef4-bf4e-8e729fe2aac0",
   "metadata": {
    "tags": []
   },
   "outputs": [
    {
     "name": "stdout",
     "output_type": "stream",
     "text": [
      "Defaulting to user installation because normal site-packages is not writeable\n",
      "Requirement already satisfied: scikit-learn in /home/shak/.local/lib/python3.10/site-packages (1.2.2)\n",
      "Collecting scikit-learn\n",
      "  Obtaining dependency information for scikit-learn from https://files.pythonhosted.org/packages/5c/e9/ee572691a3fb05555bcde41826faad29ae4bc1fb07982e7f53d54a176879/scikit_learn-1.3.0-cp310-cp310-manylinux_2_17_x86_64.manylinux2014_x86_64.whl.metadata\n",
      "  Downloading scikit_learn-1.3.0-cp310-cp310-manylinux_2_17_x86_64.manylinux2014_x86_64.whl.metadata (11 kB)\n",
      "Requirement already satisfied: numpy>=1.17.3 in /home/shak/.local/lib/python3.10/site-packages (from scikit-learn) (1.23.5)\n",
      "Requirement already satisfied: scipy>=1.5.0 in /usr/lib/python3/dist-packages (from scikit-learn) (1.8.0)\n",
      "Requirement already satisfied: joblib>=1.1.1 in /home/shak/.local/lib/python3.10/site-packages (from scikit-learn) (1.2.0)\n",
      "Requirement already satisfied: threadpoolctl>=2.0.0 in /home/shak/.local/lib/python3.10/site-packages (from scikit-learn) (3.1.0)\n",
      "Downloading scikit_learn-1.3.0-cp310-cp310-manylinux_2_17_x86_64.manylinux2014_x86_64.whl (10.8 MB)\n",
      "\u001b[2K   \u001b[90m━━━━━━━━━━━━━━━━━━━━━━━━━━━━━━━━━━━━━━━━\u001b[0m \u001b[32m10.8/10.8 MB\u001b[0m \u001b[31m43.5 kB/s\u001b[0m eta \u001b[36m0:00:00\u001b[0m00:01\u001b[0m00:07\u001b[0m\n",
      "\u001b[?25hInstalling collected packages: scikit-learn\n",
      "  Attempting uninstall: scikit-learn\n",
      "    Found existing installation: scikit-learn 1.2.2\n",
      "    Uninstalling scikit-learn-1.2.2:\n",
      "      Successfully uninstalled scikit-learn-1.2.2\n",
      "Successfully installed scikit-learn-1.3.0\n"
     ]
    }
   ],
   "source": [
    "!pip install --upgrade scikit-learn"
   ]
  },
  {
   "cell_type": "code",
   "execution_count": 21,
   "id": "376ea717-8359-45fe-b886-914a8f17bfc0",
   "metadata": {
    "tags": []
   },
   "outputs": [
    {
     "name": "stdout",
     "output_type": "stream",
     "text": [
      "Defaulting to user installation because normal site-packages is not writeable\n",
      "Requirement already satisfied: pip in /home/shak/.local/lib/python3.10/site-packages (23.2.1)\n",
      "Requirement already satisfied: setuptools in /home/shak/.local/lib/python3.10/site-packages (68.0.0)\n"
     ]
    }
   ],
   "source": [
    "!pip install --upgrade pip setuptools"
   ]
  },
  {
   "cell_type": "code",
   "execution_count": 31,
   "id": "dd5fb77f",
   "metadata": {
    "tags": []
   },
   "outputs": [
    {
     "name": "stdout",
     "output_type": "stream",
     "text": [
      "Defaulting to user installation because normal site-packages is not writeable\n",
      "Collecting datahelp==0.1.5\n",
      "  Obtaining dependency information for datahelp==0.1.5 from https://files.pythonhosted.org/packages/ff/2a/2877805999b071fd12b522f71d1d13c8cfb42477801fbd25811dc4968da4/datahelp-0.1.5-py2.py3-none-any.whl.metadata\n",
      "  Downloading datahelp-0.1.5-py2.py3-none-any.whl.metadata (4.6 kB)\n",
      "Collecting joblib==1.0.1 (from datahelp==0.1.5)\n",
      "  Downloading joblib-1.0.1-py3-none-any.whl (303 kB)\n",
      "\u001b[2K     \u001b[90m━━━━━━━━━━━━━━━━━━━━━━━━━━━━━━━━━━━━━━\u001b[0m \u001b[32m303.1/303.1 kB\u001b[0m \u001b[31m51.3 kB/s\u001b[0m eta \u001b[36m0:00:00\u001b[0ma \u001b[36m0:00:01\u001b[0m\n",
      "\u001b[?25hRequirement already satisfied: jupyter==1.0.0 in /home/shak/.local/lib/python3.10/site-packages (from datahelp==0.1.5) (1.0.0)\n",
      "Collecting matplotlib==3.4.3 (from datahelp==0.1.5)\n",
      "  Downloading matplotlib-3.4.3.tar.gz (37.9 MB)\n",
      "\u001b[2K     \u001b[90m━━━━━━━━━━━━━━━━━━━━━━━━━━━━━━━━━━━━━━━━\u001b[0m \u001b[32m37.9/37.9 MB\u001b[0m \u001b[31m23.3 kB/s\u001b[0m eta \u001b[36m0:00:00\u001b[0m00:01\u001b[0m00:24\u001b[0m\n",
      "\u001b[?25h  Preparing metadata (setup.py) ... \u001b[?25ldone\n",
      "\u001b[?25hCollecting nltk==3.6.4 (from datahelp==0.1.5)\n",
      "  Downloading nltk-3.6.4-py3-none-any.whl (1.5 MB)\n",
      "\u001b[2K     \u001b[90m━━━━━━━━━━━━━━━━━━━━━━━━━━━━━━━━━━━━━━━━\u001b[0m \u001b[32m1.5/1.5 MB\u001b[0m \u001b[31m44.4 kB/s\u001b[0m eta \u001b[36m0:00:00\u001b[0m00:01\u001b[0m00:01\u001b[0m\n",
      "\u001b[?25hCollecting numpy==1.21.2 (from datahelp==0.1.5)\n",
      "  Downloading numpy-1.21.2-cp310-cp310-manylinux_2_17_x86_64.manylinux2014_x86_64.whl (15.9 MB)\n",
      "\u001b[2K     \u001b[90m━━━━━━━━━━━━━━━━━━━━━━━━━━━━━━━━━━━━━━━━\u001b[0m \u001b[32m15.9/15.9 MB\u001b[0m \u001b[31m52.9 kB/s\u001b[0m eta \u001b[36m0:00:00\u001b[0m00:01\u001b[0m00:08\u001b[0m\n",
      "\u001b[?25hCollecting pandas==1.3.3 (from datahelp==0.1.5)\n",
      "  Downloading pandas-1.3.3-cp310-cp310-manylinux_2_17_x86_64.manylinux2014_x86_64.whl (11.5 MB)\n",
      "\u001b[2K     \u001b[90m━━━━━━━━━━━━━━━━━━━━━━━━━━━━━━━━━━━━━━━━\u001b[0m \u001b[32m11.5/11.5 MB\u001b[0m \u001b[31m39.2 kB/s\u001b[0m eta \u001b[36m0:00:00\u001b[0m00:01\u001b[0m00:08\u001b[0m\n",
      "\u001b[?25hCollecting scikit-learn==1.2.2 (from datahelp==0.1.5)\n",
      "  Downloading scikit_learn-1.2.2-cp310-cp310-manylinux_2_17_x86_64.manylinux2014_x86_64.whl (9.6 MB)\n",
      "\u001b[2K     \u001b[90m━━━━━━━━━━━━━━━━━━━━━━━━━━━━━━━━━━━━━━━━\u001b[0m \u001b[32m9.6/9.6 MB\u001b[0m \u001b[31m183.8 kB/s\u001b[0m eta \u001b[36m0:00:00\u001b[0m00:01\u001b[0m00:02\u001b[0m\n",
      "\u001b[?25hRequirement already satisfied: seaborn==0.11.2 in /home/shak/.local/lib/python3.10/site-packages (from datahelp==0.1.5) (0.11.2)\n",
      "Requirement already satisfied: notebook in /home/shak/.local/lib/python3.10/site-packages (from jupyter==1.0.0->datahelp==0.1.5) (6.5.3)\n",
      "Requirement already satisfied: qtconsole in /home/shak/.local/lib/python3.10/site-packages (from jupyter==1.0.0->datahelp==0.1.5) (5.4.2)\n",
      "Requirement already satisfied: jupyter-console in /home/shak/.local/lib/python3.10/site-packages (from jupyter==1.0.0->datahelp==0.1.5) (6.6.3)\n",
      "Requirement already satisfied: nbconvert in /home/shak/.local/lib/python3.10/site-packages (from jupyter==1.0.0->datahelp==0.1.5) (7.2.9)\n",
      "Requirement already satisfied: ipykernel in /home/shak/.local/lib/python3.10/site-packages (from jupyter==1.0.0->datahelp==0.1.5) (6.21.3)\n",
      "Requirement already satisfied: ipywidgets in /home/shak/.local/lib/python3.10/site-packages (from jupyter==1.0.0->datahelp==0.1.5) (8.0.4)\n",
      "Requirement already satisfied: cycler>=0.10 in /usr/lib/python3/dist-packages (from matplotlib==3.4.3->datahelp==0.1.5) (0.11.0)\n",
      "Requirement already satisfied: kiwisolver>=1.0.1 in /usr/lib/python3/dist-packages (from matplotlib==3.4.3->datahelp==0.1.5) (1.3.2)\n",
      "Requirement already satisfied: pillow>=6.2.0 in /home/shak/.local/lib/python3.10/site-packages (from matplotlib==3.4.3->datahelp==0.1.5) (9.5.0)\n",
      "Requirement already satisfied: pyparsing>=2.2.1 in /usr/lib/python3/dist-packages (from matplotlib==3.4.3->datahelp==0.1.5) (2.4.7)\n",
      "Requirement already satisfied: python-dateutil>=2.7 in /home/shak/.local/lib/python3.10/site-packages (from matplotlib==3.4.3->datahelp==0.1.5) (2.8.2)\n",
      "Requirement already satisfied: click in /home/shak/.local/lib/python3.10/site-packages (from nltk==3.6.4->datahelp==0.1.5) (8.1.3)\n",
      "Requirement already satisfied: regex in /home/shak/.local/lib/python3.10/site-packages (from nltk==3.6.4->datahelp==0.1.5) (2023.6.3)\n",
      "Requirement already satisfied: tqdm in /home/shak/.local/lib/python3.10/site-packages (from nltk==3.6.4->datahelp==0.1.5) (4.64.1)\n",
      "Requirement already satisfied: pytz>=2017.3 in /home/shak/.local/lib/python3.10/site-packages (from pandas==1.3.3->datahelp==0.1.5) (2022.6)\n",
      "Requirement already satisfied: scipy>=1.3.2 in /usr/lib/python3/dist-packages (from scikit-learn==1.2.2->datahelp==0.1.5) (1.8.0)\n",
      "INFO: pip is looking at multiple versions of scikit-learn to determine which version is compatible with other requirements. This could take a while.\n",
      "\u001b[31mERROR: Cannot install datahelp and datahelp==0.1.5 because these package versions have conflicting dependencies.\u001b[0m\u001b[31m\n",
      "\u001b[0m\n",
      "The conflict is caused by:\n",
      "    datahelp 0.1.5 depends on joblib==1.0.1\n",
      "    nltk 3.6.4 depends on joblib\n",
      "    scikit-learn 1.2.2 depends on joblib>=1.1.1\n",
      "\n",
      "To fix this you could try to:\n",
      "1. loosen the range of package versions you've specified\n",
      "2. remove package versions to allow pip attempt to solve the dependency conflict\n",
      "\n",
      "\u001b[31mERROR: ResolutionImpossible: for help visit https://pip.pypa.io/en/latest/topics/dependency-resolution/#dealing-with-dependency-conflicts\u001b[0m\u001b[31m\n",
      "\u001b[0m"
     ]
    }
   ],
   "source": [
    "!pip install datahelp==0.1.5"
   ]
  },
  {
   "cell_type": "code",
   "execution_count": 23,
   "id": "3bff47de-1244-4013-a0d4-5e2eba221a9d",
   "metadata": {
    "tags": []
   },
   "outputs": [
    {
     "name": "stdout",
     "output_type": "stream",
     "text": [
      "1.2.2\n"
     ]
    }
   ],
   "source": [
    "import sklearn\n",
    "print(sklearn.__version__)"
   ]
  },
  {
   "cell_type": "code",
   "execution_count": 24,
   "id": "b0aa4d5a-254e-4190-8871-e83bd0448b44",
   "metadata": {
    "tags": []
   },
   "outputs": [],
   "source": [
    "import datahelp as dh\n",
    "import pkgutil"
   ]
  },
  {
   "cell_type": "code",
   "execution_count": 26,
   "id": "0b15e2ec-4289-4f6b-890b-3f57ad16865c",
   "metadata": {
    "tags": []
   },
   "outputs": [],
   "source": [
    "import pandas as pd"
   ]
  },
  {
   "cell_type": "code",
   "execution_count": 27,
   "id": "226ff8a0",
   "metadata": {
    "tags": []
   },
   "outputs": [],
   "source": [
    "df = pd.read_csv(\"data/iris.csv\")"
   ]
  },
  {
   "cell_type": "code",
   "execution_count": 28,
   "id": "86af443d",
   "metadata": {
    "tags": []
   },
   "outputs": [
    {
     "data": {
      "text/html": [
       "<div>\n",
       "<style scoped>\n",
       "    .dataframe tbody tr th:only-of-type {\n",
       "        vertical-align: middle;\n",
       "    }\n",
       "\n",
       "    .dataframe tbody tr th {\n",
       "        vertical-align: top;\n",
       "    }\n",
       "\n",
       "    .dataframe thead th {\n",
       "        text-align: right;\n",
       "    }\n",
       "</style>\n",
       "<table border=\"1\" class=\"dataframe\">\n",
       "  <thead>\n",
       "    <tr style=\"text-align: right;\">\n",
       "      <th></th>\n",
       "      <th>sepal_length</th>\n",
       "      <th>sepal_width</th>\n",
       "      <th>petal_length</th>\n",
       "      <th>petal_width</th>\n",
       "      <th>species</th>\n",
       "    </tr>\n",
       "  </thead>\n",
       "  <tbody>\n",
       "    <tr>\n",
       "      <th>0</th>\n",
       "      <td>5.1</td>\n",
       "      <td>3.5</td>\n",
       "      <td>1.4</td>\n",
       "      <td>0.2</td>\n",
       "      <td>setosa</td>\n",
       "    </tr>\n",
       "    <tr>\n",
       "      <th>1</th>\n",
       "      <td>4.9</td>\n",
       "      <td>3.0</td>\n",
       "      <td>1.4</td>\n",
       "      <td>0.2</td>\n",
       "      <td>setosa</td>\n",
       "    </tr>\n",
       "    <tr>\n",
       "      <th>2</th>\n",
       "      <td>4.7</td>\n",
       "      <td>3.2</td>\n",
       "      <td>1.3</td>\n",
       "      <td>0.2</td>\n",
       "      <td>setosa</td>\n",
       "    </tr>\n",
       "    <tr>\n",
       "      <th>3</th>\n",
       "      <td>4.6</td>\n",
       "      <td>3.1</td>\n",
       "      <td>1.5</td>\n",
       "      <td>0.2</td>\n",
       "      <td>setosa</td>\n",
       "    </tr>\n",
       "    <tr>\n",
       "      <th>4</th>\n",
       "      <td>5.0</td>\n",
       "      <td>3.6</td>\n",
       "      <td>1.4</td>\n",
       "      <td>0.2</td>\n",
       "      <td>setosa</td>\n",
       "    </tr>\n",
       "  </tbody>\n",
       "</table>\n",
       "</div>"
      ],
      "text/plain": [
       "   sepal_length  sepal_width  petal_length  petal_width species\n",
       "0           5.1          3.5           1.4          0.2  setosa\n",
       "1           4.9          3.0           1.4          0.2  setosa\n",
       "2           4.7          3.2           1.3          0.2  setosa\n",
       "3           4.6          3.1           1.5          0.2  setosa\n",
       "4           5.0          3.6           1.4          0.2  setosa"
      ]
     },
     "execution_count": 28,
     "metadata": {},
     "output_type": "execute_result"
    }
   ],
   "source": [
    "df.head()"
   ]
  },
  {
   "cell_type": "code",
   "execution_count": 29,
   "id": "1a47bd06-58cc-4e29-aa1e-1e59b571e51f",
   "metadata": {
    "tags": []
   },
   "outputs": [
    {
     "name": "stdout",
     "output_type": "stream",
     "text": [
      "['create_project', 'eda', 'feature_engineering', 'modelling', 'utils', 'visualize']\n"
     ]
    }
   ],
   "source": [
    "modules_list = [name for _, name, _ in pkgutil.iter_modules(dh.__path__)]\n",
    "print(modules_list)"
   ]
  },
  {
   "cell_type": "code",
   "execution_count": 30,
   "id": "9cd0961d-500e-4894-b8ab-2e6c98fd87ae",
   "metadata": {
    "tags": []
   },
   "outputs": [
    {
     "ename": "AttributeError",
     "evalue": "module 'datahelp' has no attribute 'eda'",
     "output_type": "error",
     "traceback": [
      "\u001b[0;31m---------------------------------------------------------------------------\u001b[0m",
      "\u001b[0;31mAttributeError\u001b[0m                            Traceback (most recent call last)",
      "\u001b[0;32m/tmp/ipykernel_10165/1953063358.py\u001b[0m in \u001b[0;36m<module>\u001b[0;34m\u001b[0m\n\u001b[0;32m----> 1\u001b[0;31m \u001b[0mcats\u001b[0m \u001b[0;34m=\u001b[0m \u001b[0mdh\u001b[0m\u001b[0;34m.\u001b[0m\u001b[0meda\u001b[0m\u001b[0;34m.\u001b[0m\u001b[0mget_cat_vars\u001b[0m\u001b[0;34m(\u001b[0m\u001b[0mdf\u001b[0m\u001b[0;34m)\u001b[0m\u001b[0;34m\u001b[0m\u001b[0;34m\u001b[0m\u001b[0m\n\u001b[0m\u001b[1;32m      2\u001b[0m \u001b[0mprint\u001b[0m\u001b[0;34m(\u001b[0m\u001b[0mcats\u001b[0m\u001b[0;34m)\u001b[0m\u001b[0;34m\u001b[0m\u001b[0;34m\u001b[0m\u001b[0m\n",
      "\u001b[0;31mAttributeError\u001b[0m: module 'datahelp' has no attribute 'eda'"
     ]
    }
   ],
   "source": [
    "cats = dh.eda.get_cat_vars(df)\n",
    "print(cats)"
   ]
  },
  {
   "cell_type": "code",
   "execution_count": null,
   "id": "f51262ad-0113-404a-a303-58b76b43a41a",
   "metadata": {
    "tags": []
   },
   "outputs": [],
   "source": [
    "num_var = dh.eda.get_num_vars(df)\n",
    "print(num_var)"
   ]
  },
  {
   "cell_type": "code",
   "execution_count": null,
   "id": "1467e072-c0bc-4400-9e60-fd84cead05ad",
   "metadata": {
    "tags": []
   },
   "outputs": [],
   "source": [
    "cat_count = dh.eda.get_cat_counts(df)\n",
    "cat_count"
   ]
  },
  {
   "cell_type": "code",
   "execution_count": null,
   "id": "bc25acf0-19ef-4576-8559-f14db63da53a",
   "metadata": {
    "tags": []
   },
   "outputs": [],
   "source": [
    "missing = dh.eda.display_missing(df)\n",
    "missing"
   ]
  },
  {
   "cell_type": "code",
   "execution_count": null,
   "id": "270fb5e0-4ed8-4b28-8811-ff6c90e99d8a",
   "metadata": {
    "tags": []
   },
   "outputs": [],
   "source": []
  },
  {
   "cell_type": "code",
   "execution_count": null,
   "id": "7675b5fc-7528-4b7d-a5f5-b58457d00d17",
   "metadata": {},
   "outputs": [],
   "source": []
  }
 ],
 "metadata": {
  "kernelspec": {
   "display_name": "Python 3 (ipykernel)",
   "language": "python",
   "name": "python3"
  },
  "language_info": {
   "codemirror_mode": {
    "name": "ipython",
    "version": 3
   },
   "file_extension": ".py",
   "mimetype": "text/x-python",
   "name": "python",
   "nbconvert_exporter": "python",
   "pygments_lexer": "ipython3",
   "version": "3.10.6"
  }
 },
 "nbformat": 4,
 "nbformat_minor": 5
}
